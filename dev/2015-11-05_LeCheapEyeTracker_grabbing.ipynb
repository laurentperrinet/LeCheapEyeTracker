{
 "cells": [
  {
   "cell_type": "markdown",
   "metadata": {},
   "source": [
    "## Simple tests for grabbing frames"
   ]
  },
  {
   "cell_type": "markdown",
   "metadata": {},
   "source": [
    "OpenCV has a nice wrapper around webcams. Let's test it there to get the simplest code that we would need in our library."
   ]
  },
  {
   "cell_type": "code",
   "execution_count": 1,
   "metadata": {
    "ExecuteTime": {
     "end_time": "2018-03-17T10:20:55.334361Z",
     "start_time": "2018-03-17T10:20:54.666147Z"
    },
    "scrolled": true
   },
   "outputs": [],
   "source": [
    "%matplotlib inline\n",
    "%load_ext autoreload\n",
    "%autoreload 2"
   ]
  },
  {
   "cell_type": "code",
   "execution_count": 2,
   "metadata": {
    "ExecuteTime": {
     "end_time": "2018-03-17T10:20:55.415877Z",
     "start_time": "2018-03-17T10:20:55.341457Z"
    }
   },
   "outputs": [
    {
     "data": {
      "text/plain": [
       "'3.4.0'"
      ]
     },
     "execution_count": 2,
     "metadata": {},
     "output_type": "execute_result"
    }
   ],
   "source": [
    "import numpy as np\n",
    "np.set_printoptions(precision=2, suppress=True)\n",
    "# define plots to be inserted interactively\n",
    "import matplotlib.pyplot as plt\n",
    "import time\n",
    "import cv2\n",
    "cv2.__version__"
   ]
  },
  {
   "cell_type": "code",
   "execution_count": 3,
   "metadata": {
    "ExecuteTime": {
     "end_time": "2018-03-17T10:20:55.549857Z",
     "start_time": "2018-03-17T10:20:55.418510Z"
    }
   },
   "outputs": [
    {
     "name": "stdout",
     "output_type": "stream",
     "text": [
      "Time to start and stop the camera =  0.05673503875732422 (s)\n"
     ]
    }
   ],
   "source": [
    "class Source:\n",
    "    def __init__(self, w=640, h=480):\n",
    "        self.h, self.w = h, w\n",
    "        import cv2\n",
    "        self.cap = cv2.VideoCapture(-1)\n",
    "        self.cap.set(cv2.CAP_PROP_FRAME_WIDTH, self.w)\n",
    "        self.cap.set(cv2.CAP_PROP_FRAME_HEIGHT, self.h)\n",
    "      \n",
    "    def grab(self):\n",
    "        # grab a frame\n",
    "        returned, cam_data = self.cap.read()\n",
    "        data = cam_data.reshape((self.h, self.w, 3))\n",
    "        return data\n",
    "    \n",
    "    def close(self):\n",
    "        self.cap.release()\n",
    "        del self.cap\n",
    "\n",
    "start = time.time()\n",
    "cam = Source()\n",
    "cam.close()\n",
    "print('Time to start and stop the camera = ',  time.time() - start , '(s)')\n"
   ]
  },
  {
   "cell_type": "markdown",
   "metadata": {},
   "source": [
    "This is implemented in the ``LeCheapEyeTracker``class:"
   ]
  },
  {
   "cell_type": "code",
   "execution_count": 4,
   "metadata": {
    "ExecuteTime": {
     "end_time": "2018-03-17T10:20:56.939243Z",
     "start_time": "2018-03-17T10:20:55.552459Z"
    }
   },
   "outputs": [
    {
     "name": "stdout",
     "output_type": "stream",
     "text": [
      "Capture released\n"
     ]
    }
   ],
   "source": [
    "from openRetina import PhotoReceptor\n",
    "w = 480*16\n",
    "h = 360*16\n",
    "cam = PhotoReceptor(w=w, h=h)\n",
    "cam.close()\n"
   ]
  },
  {
   "cell_type": "code",
   "execution_count": 5,
   "metadata": {
    "ExecuteTime": {
     "end_time": "2018-03-17T10:21:03.466357Z",
     "start_time": "2018-03-17T10:20:56.941414Z"
    }
   },
   "outputs": [
    {
     "name": "stdout",
     "output_type": "stream",
     "text": [
      "DOWNSCALE =  1 startup=  0.773432731628418 (s)\n",
      "scale= (720, 1280, 3)\n",
      "Capture released\n",
      "DOWNSCALE =  2 startup=  0.8563051223754883 (s)\n",
      "scale= (480, 640, 3)\n",
      "Capture released\n",
      "DOWNSCALE =  4 startup=  0.8625342845916748 (s)\n",
      "scale= (240, 320, 3)\n",
      "Capture released\n",
      "DOWNSCALE =  8 startup=  0.8505752086639404 (s)\n",
      "scale= (240, 320, 3)\n",
      "Capture released\n",
      "DOWNSCALE =  16 startup=  0.8975260257720947 (s)\n",
      "scale= (240, 320, 3)\n",
      "Capture released\n"
     ]
    }
   ],
   "source": [
    "for DOWNSCALE in [1, 2, 4, 8, 16]:\n",
    "    start = time.time()\n",
    "    cam = PhotoReceptor(w=w, h=h, DOWNSCALE=DOWNSCALE)\n",
    "    print('DOWNSCALE = ', DOWNSCALE, 'startup= ',  time.time() - start , '(s)')\n",
    "    img = cam.grab()\n",
    "    print('scale=', img.shape)\n",
    "    cam.close()\n",
    "\n",
    "\n"
   ]
  },
  {
   "cell_type": "code",
   "execution_count": 6,
   "metadata": {
    "ExecuteTime": {
     "end_time": "2018-03-17T10:21:05.079225Z",
     "start_time": "2018-03-17T10:21:03.469125Z"
    }
   },
   "outputs": [
    {
     "name": "stdout",
     "output_type": "stream",
     "text": [
      "Capture released\n",
      "Time to start, grab 2 frames and stop =  1.5688519477844238 (s)\n",
      "(480, 640, 3) 0 255\n"
     ]
    }
   ],
   "source": [
    "start = time.time()\n",
    "cam = PhotoReceptor(w=w, h=h, DOWNSCALE=2)\n",
    "img = cam.grab()\n",
    "img = cam.grab()\n",
    "cam.close()\n",
    "print('Time to start, grab 2 frames and stop = ',  time.time() - start , '(s)')\n",
    "print(img.shape, img.min(), img.max())\n",
    "#_ = plt.imshow(img)"
   ]
  },
  {
   "cell_type": "code",
   "execution_count": 7,
   "metadata": {
    "ExecuteTime": {
     "end_time": "2018-03-17T10:21:11.660909Z",
     "start_time": "2018-03-17T10:21:05.082007Z"
    }
   },
   "outputs": [
    {
     "name": "stdout",
     "output_type": "stream",
     "text": [
      "Capture released\n",
      "DOWNSCALE =  1 grab time=  0.5138192176818848 (s)\n",
      "Capture released\n",
      "DOWNSCALE =  2 grab time=  0.44541001319885254 (s)\n",
      "Capture released\n",
      "DOWNSCALE =  4 grab time=  0.4220449924468994 (s)\n",
      "Capture released\n",
      "DOWNSCALE =  8 grab time=  0.48380374908447266 (s)\n",
      "Capture released\n",
      "DOWNSCALE =  16 grab time=  0.466839075088501 (s)\n"
     ]
    }
   ],
   "source": [
    "for DOWNSCALE in [1, 2, 4, 8, 16]:\n",
    "    cam = PhotoReceptor(w=w, h=h, DOWNSCALE=DOWNSCALE)\n",
    "    start = time.time()\n",
    "    img = cam.grab()\n",
    "    img = cam.grab()\n",
    "    cam.close()\n",
    "    print('DOWNSCALE = ', DOWNSCALE, 'grab time= ',  time.time() - start , '(s)')"
   ]
  },
  {
   "cell_type": "markdown",
   "metadata": {},
   "source": [
    "## how fast do we grab frames?"
   ]
  },
  {
   "cell_type": "code",
   "execution_count": 8,
   "metadata": {
    "ExecuteTime": {
     "end_time": "2018-03-17T10:21:16.279620Z",
     "start_time": "2018-03-17T10:21:11.663627Z"
    }
   },
   "outputs": [
    {
     "name": "stdout",
     "output_type": "stream",
     "text": [
      "Capture released\n"
     ]
    }
   ],
   "source": [
    "N = 100\n",
    "ctime = np.zeros(N)\n",
    "start = time.time()\n",
    "w = 480\n",
    "h = 360\n",
    "cam = PhotoReceptor(w=w, h=h)\n",
    "\n",
    "for i in range(N):\n",
    "    img = cam.grab()\n",
    "    ctime[i] = time.time() - start\n",
    "cam.close()"
   ]
  },
  {
   "cell_type": "code",
   "execution_count": 9,
   "metadata": {
    "ExecuteTime": {
     "end_time": "2018-03-17T10:21:16.672433Z",
     "start_time": "2018-03-17T10:21:16.283062Z"
    },
    "scrolled": false
   },
   "outputs": [
    {
     "name": "stdout",
     "output_type": "stream",
     "text": [
      "FPS :  30.17062503335864\n"
     ]
    },
    {
     "data": {
      "image/png": "[encoded data removed]",
      "text/plain": [
       "<matplotlib.figure.Figure at 0x114519b70>"
      ]
     },
     "metadata": {},
     "output_type": "display_data"
    }
   ],
   "source": [
    "plt.plot(ctime[1:], np.diff(ctime)*1000, '+')\n",
    "plt.xlabel('time (s)')\n",
    "plt.ylabel('inter-frame interval(ms)')\n",
    "_ = plt.axis('tight')\n",
    "print ('FPS : ',  N/(ctime[-1]-ctime[0]))"
   ]
  },
  {
   "cell_type": "markdown",
   "metadata": {},
   "source": [
    "## closing the camera"
   ]
  },
  {
   "cell_type": "code",
   "execution_count": 10,
   "metadata": {
    "ExecuteTime": {
     "end_time": "2018-03-17T10:21:17.928274Z",
     "start_time": "2018-03-17T10:21:16.681013Z"
    }
   },
   "outputs": [
    {
     "name": "stdout",
     "output_type": "stream",
     "text": [
      "Capture released\n"
     ]
    }
   ],
   "source": [
    "cam = PhotoReceptor(w=w, h=h)\n",
    "cam.close()"
   ]
  },
  {
   "cell_type": "markdown",
   "metadata": {},
   "source": [
    "## threaded mode\n",
    "\n",
    "Following the documentation @ http://docs.opencv.org/modules/highgui/doc/reading_and_writing_images_and_video.html?highlight=imread it is easy to run parallel captures :"
   ]
  },
  {
   "cell_type": "code",
   "execution_count": 11,
   "metadata": {
    "ExecuteTime": {
     "end_time": "2018-03-17T10:21:40.539827Z",
     "start_time": "2018-03-17T10:21:17.930988Z"
    }
   },
   "outputs": [],
   "source": [
    "from multiprocessing.pool import ThreadPool\n",
    "from collections import deque\n",
    "import cv2\n",
    "import time\n",
    "\n",
    "class StatValue:\n",
    "    def __init__(self, smooth_coef = 0.5):\n",
    "        self.value = None\n",
    "        self.smooth_coef = smooth_coef\n",
    "    def update(self, v):\n",
    "        if self.value is None:\n",
    "            self.value = v\n",
    "        else:\n",
    "            c = self.smooth_coef\n",
    "            self.value = c * self.value + (1.0-c) * v\n",
    "\n",
    "def clock():\n",
    "    return cv2.getTickCount() / cv2.getTickFrequency()\n",
    "\n",
    "def draw_str(dst, target, s):\n",
    "    x, y = target\n",
    "    cv2.putText(dst, s, (x+1, y+1), cv2.FONT_HERSHEY_PLAIN, 1.0, (0, 0, 0), thickness = 2, lineType=cv2.LINE_AA)\n",
    "    cv2.putText(dst, s, (x, y), cv2.FONT_HERSHEY_PLAIN, 1.0, (255, 255, 255), lineType=cv2.LINE_AA)\n",
    "\n",
    "\n",
    "class ThreadSource:\n",
    "    def __init__(self, w=640, h=480, threads=True):\n",
    "        self.h, self.w = h, w\n",
    "        import cv2\n",
    "        self.cap = cv2.VideoCapture(0)\n",
    "        self.cap.set(cv2.CAP_PROP_FRAME_WIDTH, self.w)\n",
    "        self.cap.set(cv2.CAP_PROP_FRAME_HEIGHT, self.h)\n",
    "\n",
    "        if threads:\n",
    "            self.threadn = cv2.getNumberOfCPUs()\n",
    "        else:\n",
    "            self.threadn = 1\n",
    "        self.pool = ThreadPool(processes = self.threadn)\n",
    "        self.pending = deque()\n",
    "\n",
    "        self.latency = StatValue()\n",
    "        self.frame_interval = StatValue()\n",
    "        self.last_frame_time = clock()        \n",
    "        self.display = False\n",
    "        self.ctime = []\n",
    "        self.N = 0\n",
    "\n",
    "    def process_frame(self, frame, t0):\n",
    "        # some intensive computation...\n",
    "        frame = cv2.medianBlur(frame, 19)\n",
    "        time.sleep(.1)\n",
    "        frame = cv2.medianBlur(frame, 19)\n",
    "        return frame, t0\n",
    "\n",
    "    def run(self, T=10):\n",
    "        start = clock()\n",
    "        while clock()-start <10.:\n",
    "            while len(self.pending) > 0 and self.pending[0].ready():\n",
    "                res, t0 = self.pending.popleft().get()\n",
    "                self.latency.update(clock() - t0)\n",
    "                if self.display:\n",
    "                    draw_str(res, (20, 40), \"latency        :  %.1f ms\" % (self.latency.value*1000))\n",
    "                    draw_str(res, (20, 60), \"frame interval :  %.1f ms\" % (self.frame_interval.value*1000))\n",
    "                    cv2.imshow('Webcam video', res)\n",
    "                self.ctime.append(time.time() - start)\n",
    "                self.N += 1\n",
    "            if len(self.pending) < self.threadn:\n",
    "                ret, frame = self.cap.read()\n",
    "                t = clock()\n",
    "                self.frame_interval.update(t - self.last_frame_time)\n",
    "                self.last_frame_time = t\n",
    "                task = self.pool.apply_async(self.process_frame, (frame.copy(), t))\n",
    "                self.pending.append(task)\n",
    "            ch = 0xFF & cv2.waitKey(1)\n",
    "            if ch == 27:\n",
    "                self.close()\n",
    "    \n",
    "    def close(self):\n",
    "        self.cap.release()\n",
    "        if self.display: cv2.destroyAllWindows()\n",
    "\n",
    "start = time.time()\n",
    "cam = ThreadSource()\n",
    "ctime = cam.run()\n",
    "cam.close()\n",
    "start_nothreads = time.time()\n",
    "cam_nothreads = ThreadSource(threads=False)\n",
    "ctime = cam_nothreads.run()\n",
    "cam_nothreads.close()"
   ]
  },
  {
   "cell_type": "code",
   "execution_count": 12,
   "metadata": {
    "ExecuteTime": {
     "end_time": "2018-03-17T10:21:40.997793Z",
     "start_time": "2018-03-17T10:21:40.542128Z"
    }
   },
   "outputs": [
    {
     "name": "stdout",
     "output_type": "stream",
     "text": [
      "FPS threaded:  9.682187136140959\n",
      "FPS one thread:  2.7768609729343234\n"
     ]
    },
    {
     "data": {
      "image/png": "[encoded data removed]",
      "text/plain": [
       "<matplotlib.figure.Figure at 0x114505cc0>"
      ]
     },
     "metadata": {},
     "output_type": "display_data"
    }
   ],
   "source": [
    "plt.plot(np.array(cam.ctime)[1:]-cam.ctime[0], np.diff(np.array(cam.ctime))*1000, 'b+')\n",
    "plt.plot(np.array(cam_nothreads.ctime)[1:]-cam_nothreads.ctime[0], np.diff(np.array(cam_nothreads.ctime))*1000, 'rx')\n",
    "plt.xlabel('time (s)')\n",
    "plt.ylabel('inter-frame interval(ms)')\n",
    "_ = plt.axis('tight')\n",
    "print ('FPS threaded: ',  cam.N/(cam.ctime[-1]-cam.ctime[0]))\n",
    "print ('FPS one thread: ',  cam_nothreads.N/(cam_nothreads.ctime[-1]-cam_nothreads.ctime[0]))"
   ]
  },
  {
   "cell_type": "markdown",
   "metadata": {
    "collapsed": true
   },
   "source": [
    "In practice, we will see nice improvments when the image processing pipeline is more consequent. This threaded mode is enabled by default.\n",
    "\n",
    "##  creating a video for debugging\n",
    "\n",
    "It may be sometimes useful to just read out some frames for debugging: move your eyes, not the head = we grab 42 frames. why 42? I recommend to not move the head (hold them in your hands) and to look at the led of your webcam. when it's lit, move your eyes evenly on the screen."
   ]
  },
  {
   "cell_type": "code",
   "execution_count": 13,
   "metadata": {
    "ExecuteTime": {
     "end_time": "2018-03-17T10:21:41.100796Z",
     "start_time": "2018-03-17T10:21:41.013857Z"
    }
   },
   "outputs": [
    {
     "name": "stdout",
     "output_type": "stream",
     "text": [
      "folder already existing (or 🐛🐛🐛)\n"
     ]
    }
   ],
   "source": [
    "import os\n",
    "import time\n",
    "import cv2\n",
    "\n",
    "N_frame = 42 # how much you want?\n",
    "folder = '/tmp/debug' # where we do save the frames\n",
    "try: \n",
    "    os.mkdir(folder)\n",
    "\n",
    "    from openRetina import PhotoReceptor\n",
    "    cam = PhotoReceptor()\n",
    "\n",
    "    time.sleep(1.5)\n",
    "\n",
    "    start = time.time()\n",
    "    for i in range(N_frame):\n",
    "        frame = cam.grab()\n",
    "        t = time.time() - start   \n",
    "        # https://docs.python.org/3.3/library/string.html#format-examples\n",
    "        timestr = '{t:03.5f}'.format(t=t).replace('.', '_')\n",
    "        fname = 'frame_{i}.png'.format(i=i)\n",
    "        print(fname)\n",
    "        # saving in RGB format:\n",
    "        cv2.imwrite(os.path.join(folder, fname), frame[:,:, ::-1])\n",
    "        time.sleep(0.3)\n",
    "\n",
    "    cam.close()\n",
    "\n",
    "except: \n",
    "    print('folder already existing (or 🐛🐛🐛)')\n",
    "    pass\n"
   ]
  },
  {
   "cell_type": "code",
   "execution_count": 14,
   "metadata": {
    "ExecuteTime": {
     "end_time": "2018-03-17T10:21:41.294974Z",
     "start_time": "2018-03-17T10:21:41.117760Z"
    }
   },
   "outputs": [],
   "source": [
    "!rm -fr /tmp/debug"
   ]
  }
 ],
 "metadata": {
  "kernelspec": {
   "display_name": "Python 3",
   "language": "python",
   "name": "python3"
  },
  "language_info": {
   "codemirror_mode": {
    "name": "ipython",
    "version": 3
   },
   "file_extension": ".py",
   "mimetype": "text/x-python",
   "name": "python",
   "nbconvert_exporter": "python",
   "pygments_lexer": "ipython3",
   "version": "3.6.5"
  },
  "toc": {
   "base_numbering": 1,
   "nav_menu": {},
   "number_sections": true,
   "sideBar": true,
   "skip_h1_title": false,
   "title_cell": "Table of Contents",
   "title_sidebar": "Contents",
   "toc_cell": false,
   "toc_position": {},
   "toc_section_display": "block",
   "toc_window_display": false
  }
 },
 "nbformat": 4,
 "nbformat_minor": 1
}
