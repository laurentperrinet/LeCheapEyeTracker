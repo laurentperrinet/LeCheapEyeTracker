{
 "cells": [
  {
   "cell_type": "markdown",
   "metadata": {
    "button": false,
    "deletable": true,
    "new_sheet": false,
    "run_control": {
     "read_only": false
    }
   },
   "source": [
    "## tracking the detected pupil\n",
    "\n"
   ]
  },
  {
   "cell_type": "code",
   "execution_count": 1,
   "metadata": {
    "button": false,
    "collapsed": false,
    "deletable": true,
    "new_sheet": false,
    "run_control": {
     "read_only": false
    }
   },
   "outputs": [
    {
     "name": "stderr",
     "output_type": "stream",
     "text": [
      "/usr/local/lib/python3.5/site-packages/matplotlib/__init__.py:872: UserWarning: axes.color_cycle is deprecated and replaced with axes.prop_cycle; please use the latter.\n",
      "  warnings.warn(self.msg_depr % (key, alt_key))\n"
     ]
    }
   ],
   "source": [
    "%load_ext autoreload\n",
    "%autoreload 2\n",
    "import numpy as np\n",
    "np.set_printoptions(precision=2, suppress=True)\n",
    "# define plots to be inserted interactively\n",
    "import matplotlib.pyplot as plt\n",
    "%matplotlib inline"
   ]
  },
  {
   "cell_type": "code",
   "execution_count": 2,
   "metadata": {
    "collapsed": false
   },
   "outputs": [],
   "source": [
    "from LeCheapEyeTracker import Server, Client\n"
   ]
  },
  {
   "cell_type": "markdown",
   "metadata": {
    "button": false,
    "deletable": true,
    "new_sheet": false,
    "run_control": {
     "read_only": false
    }
   },
   "source": [
    "## and now... let's calibrate\n",
    "\n",
    "we grab 42 frames. why 42? I recommend to not move the head (hold them in your hands) and to look at the led of your webcam. when it's lit, move your eyes evenly on the screen."
   ]
  },
  {
   "cell_type": "code",
   "execution_count": 2,
   "metadata": {
    "button": false,
    "collapsed": false,
    "deletable": true,
    "new_sheet": false,
    "run_control": {
     "read_only": false
    }
   },
   "outputs": [
    {
     "name": "stdout",
     "output_type": "stream",
     "text": [
      "Overwriting calibration_fixation.py\n"
     ]
    }
   ],
   "source": [
    "%%writefile calibration_fixation.py\n",
    "import cv2\n",
    "import time\n",
    "from LeCheapEyeTracker import Server, Client\n",
    "from vispy import app\n",
    "import numpy as np\n",
    "\n",
    "N_frame = 42\n",
    "et = Server()\n",
    "img0 = et.cam.grab()\n",
    "def stim(t):\n",
    "    img0 = et.cam.grab()\n",
    "    H, W, three = img0.shape\n",
    "    img = img0.copy()\n",
    "    img = cv2.circle(img, (W//2, H//2), 12, (0,0,255), -1)\n",
    "    return img\n",
    "\n",
    "T, fps = 7., 30\n",
    "timeline = np.linspace(0, T, T*fps)\n",
    "screen = Client(et, timeline)\n",
    "app.run()\n",
    "et.close()"
   ]
  },
  {
   "cell_type": "code",
   "execution_count": 3,
   "metadata": {
    "button": false,
    "collapsed": false,
    "deletable": true,
    "new_sheet": false,
    "run_control": {
     "read_only": false
    }
   },
   "outputs": [
    {
     "name": "stdout",
     "output_type": "stream",
     "text": [
      "window size :  (1920, 1200)\n",
      "could not grab a frame / detect the eyes position\n",
      "could not grab a frame / detect the eyes position\n"
     ]
    },
    {
     "name": "stderr",
     "output_type": "stream",
     "text": [
      "/usr/local/lib/python3.5/site-packages/IPython/config.py:13: ShimWarning: The `IPython.config` package has been deprecated. You should import from traitlets.config instead.\n",
      "  \"You should import from traitlets.config instead.\", ShimWarning)\n"
     ]
    }
   ],
   "source": [
    "%run calibration_fixation.py"
   ]
  },
  {
   "cell_type": "code",
   "execution_count": 4,
   "metadata": {
    "button": false,
    "collapsed": false,
    "deletable": true,
    "new_sheet": false,
    "run_control": {
     "read_only": false
    }
   },
   "outputs": [
    {
     "name": "stdout",
     "output_type": "stream",
     "text": [
      "Overwriting calibration_horizontal.py\n"
     ]
    }
   ],
   "source": [
    "%%writefile calibration_horizontal.py\n",
    "import cv2\n",
    "import time\n",
    "from LeCheapEyeTracker import Client, Server\n",
    "from vispy import app\n",
    "import numpy as np\n",
    "\n",
    "et = Server()\n",
    "T, fps = 7., 30\n",
    "timeline = np.linspace(0, T, T*fps)\n",
    "\n",
    "screen = Client(et, timeline)\n",
    "app.run()\n",
    "et.close()\n",
    "print(screen.et.eye_pos)"
   ]
  },
  {
   "cell_type": "code",
   "execution_count": 5,
   "metadata": {
    "button": false,
    "collapsed": false,
    "deletable": true,
    "new_sheet": false,
    "run_control": {
     "read_only": false
    }
   },
   "outputs": [
    {
     "name": "stdout",
     "output_type": "stream",
     "text": [
      "window size :  (1920, 1200)\n",
      "could not grab a frame / detect the eyes position\n",
      "could not grab a frame / detect the eyes position\n",
      "could not grab a frame / detect the eyes position\n",
      "could not grab a frame / detect the eyes position\n",
      "could not grab a frame / detect the eyes position\n",
      "could not grab a frame / detect the eyes position\n",
      "could not grab a frame / detect the eyes position\n",
      "[[(149.0, 60.0), 810605.426279076], [(155.0, 62.0), 810605.831643347]]\n"
     ]
    }
   ],
   "source": [
    "%run calibration_horizontal.py"
   ]
  },
  {
   "cell_type": "code",
   "execution_count": null,
   "metadata": {
    "button": false,
    "collapsed": false,
    "deletable": true,
    "new_sheet": false,
    "run_control": {
     "read_only": false
    }
   },
   "outputs": [],
   "source": [
    "\n",
    "pos_true = []\n",
    "timeline = []\n",
    "pos_h, pos_w = [], []\n",
    "t_max = screen.et.eye_pos[-1][1]\n",
    "t_min = screen.et.eye_pos[0][1]\n",
    "print(t_min, t_max)\n",
    "for pos, t0 in screen.et.eye_pos:\n",
    "    pos_true.append(np.sin(2*np.pi*(t0-t_min)/(t_max-t_min)))\n",
    "    pos_w.append(pos[0])\n",
    "    pos_h.append(pos[1]) \n",
    "    timeline.append(t0-t_min)\n",
    "\n",
    "pos_true = np.array(pos_true)\n",
    "print(pos_true)\n",
    "pos_true /= pos_true.max()\n",
    "\n",
    "pos_w = np.array(pos_w)\n",
    "pos_w -= pos_w.mean()\n",
    "pos_w /= pos_w.max()\n",
    "\n",
    "pos_h = np.array(pos_h)\n",
    "pos_h -= pos_h.mean()\n",
    "pos_h /= pos_h.max()\n",
    "\n",
    "fig, axs = plt.subplots(1, 1, figsize=(15, 7.5))\n",
    "axs.plot(timeline, pos_true, 'k')\n",
    "axs.plot(timeline, pos_h, 'b')\n",
    "axs.plot(timeline, pos_w, 'r')\n",
    "axs.axis('tight')"
   ]
  },
  {
   "cell_type": "code",
   "execution_count": null,
   "metadata": {
    "button": false,
    "collapsed": false,
    "deletable": true,
    "new_sheet": false,
    "run_control": {
     "read_only": false
    }
   },
   "outputs": [],
   "source": [
    "fig, axs = plt.subplots(1, 1, figsize=(15, 15))\n",
    "axs.plot(pos_true, pos_h, 'b')\n",
    "axs.plot(pos_true, pos_w, 'r')\n",
    "axs.axis('tight')"
   ]
  },
  {
   "cell_type": "markdown",
   "metadata": {
    "button": false,
    "deletable": true,
    "new_sheet": false,
    "run_control": {
     "read_only": false
    }
   },
   "source": [
    "Wow!"
   ]
  }
 ],
 "metadata": {
  "kernelspec": {
   "display_name": "Python 3",
   "language": "python",
   "name": "python3"
  },
  "language_info": {
   "codemirror_mode": {
    "name": "ipython",
    "version": 3
   },
   "file_extension": ".py",
   "mimetype": "text/x-python",
   "name": "python",
   "nbconvert_exporter": "python",
   "pygments_lexer": "ipython3",
   "version": "3.5.1"
  }
 },
 "nbformat": 4,
 "nbformat_minor": 0
}
