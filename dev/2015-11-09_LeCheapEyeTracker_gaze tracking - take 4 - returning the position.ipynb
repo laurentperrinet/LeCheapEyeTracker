{
 "cells": [
  {
   "cell_type": "markdown",
   "metadata": {
    "button": false,
    "deletable": true,
    "new_sheet": false,
    "run_control": {
     "read_only": false
    }
   },
   "source": [
    "## tracking the detected pupil\n",
    "\n"
   ]
  },
  {
   "cell_type": "code",
   "execution_count": 1,
   "metadata": {
    "button": false,
    "collapsed": false,
    "deletable": true,
    "new_sheet": false,
    "run_control": {
     "read_only": false
    }
   },
   "outputs": [
    {
     "name": "stderr",
     "output_type": "stream",
     "text": [
      "/usr/local/lib/python3.5/site-packages/matplotlib/__init__.py:872: UserWarning: axes.color_cycle is deprecated and replaced with axes.prop_cycle; please use the latter.\n",
      "  warnings.warn(self.msg_depr % (key, alt_key))\n"
     ]
    }
   ],
   "source": [
    "%load_ext autoreload\n",
    "%autoreload 2\n",
    "import numpy as np\n",
    "np.set_printoptions(precision=2, suppress=True)\n",
    "# define plots to be inserted interactively\n",
    "import matplotlib.pyplot as plt\n",
    "%matplotlib inline"
   ]
  },
  {
   "cell_type": "code",
   "execution_count": 2,
   "metadata": {
    "collapsed": false
   },
   "outputs": [],
   "source": [
    "from LeCheapEyeTracker import Server, Client\n"
   ]
  },
  {
   "cell_type": "markdown",
   "metadata": {
    "button": false,
    "deletable": true,
    "new_sheet": false,
    "run_control": {
     "read_only": false
    }
   },
   "source": [
    "## and now... let's calibrate\n",
    "\n",
    "we grab 42 frames. why 42? I recommend to not move the head (hold them in your hands) and to look at the led of your webcam. when it's lit, move your eyes evenly on the screen."
   ]
  },
  {
   "cell_type": "code",
   "execution_count": 3,
   "metadata": {
    "button": false,
    "collapsed": false,
    "deletable": true,
    "new_sheet": false,
    "run_control": {
     "read_only": false
    }
   },
   "outputs": [
    {
     "name": "stdout",
     "output_type": "stream",
     "text": [
      "Overwriting calibration_fixation.py\n"
     ]
    }
   ],
   "source": [
    "%%writefile calibration_fixation.py\n",
    "import cv2\n",
    "import time\n",
    "from LeCheapEyeTracker import Server, Client\n",
    "from vispy import app\n",
    "import numpy as np\n",
    "\n",
    "N_frame = 42\n",
    "et = Server()\n",
    "img0 = et.cam.grab()\n",
    "def stim(t):\n",
    "    img0 = et.cam.grab()\n",
    "    H, W, three = img0.shape\n",
    "    img = img0.copy()\n",
    "    img = cv2.circle(img, (W//2, H//2), 12, (0,0,255), -1)\n",
    "    return img\n",
    "\n",
    "T, fps = 7., 30\n",
    "timeline = np.linspace(0, T, T*fps)\n",
    "screen = Client(et, timeline)\n",
    "app.run()\n",
    "et.close()"
   ]
  },
  {
   "cell_type": "code",
   "execution_count": 4,
   "metadata": {
    "button": false,
    "collapsed": false,
    "deletable": true,
    "new_sheet": false,
    "run_control": {
     "read_only": false
    }
   },
   "outputs": [
    {
     "name": "stdout",
     "output_type": "stream",
     "text": [
      "window size :  (2560, 1440)\n"
     ]
    },
    {
     "name": "stderr",
     "output_type": "stream",
     "text": [
      "/usr/local/lib/python3.5/site-packages/IPython/config.py:13: ShimWarning: The `IPython.config` package has been deprecated. You should import from traitlets.config instead.\n",
      "  \"You should import from traitlets.config instead.\", ShimWarning)\n"
     ]
    }
   ],
   "source": [
    "%run calibration_fixation.py"
   ]
  },
  {
   "cell_type": "code",
   "execution_count": 1,
   "metadata": {
    "button": false,
    "collapsed": false,
    "deletable": true,
    "new_sheet": false,
    "run_control": {
     "read_only": false
    }
   },
   "outputs": [
    {
     "name": "stdout",
     "output_type": "stream",
     "text": [
      "Overwriting calibration_horizontal.py\n"
     ]
    }
   ],
   "source": [
    "%%writefile calibration_horizontal.py\n",
    "import cv2\n",
    "import time\n",
    "from LeCheapEyeTracker import Client, Server\n",
    "from vispy import app\n",
    "import numpy as np\n",
    "\n",
    "et = Server()\n",
    "T, fps = 7., 30\n",
    "timeline = np.linspace(0, T, T*fps)\n",
    "\n",
    "screen = Client(et, timeline)\n",
    "app.run()\n",
    "et.close()\n",
    "print(screen.et.eye_pos)"
   ]
  },
  {
   "cell_type": "code",
   "execution_count": 2,
   "metadata": {
    "button": false,
    "collapsed": false,
    "deletable": true,
    "new_sheet": false,
    "run_control": {
     "read_only": false
    }
   },
   "outputs": [
    {
     "name": "stdout",
     "output_type": "stream",
     "text": [
      "window size :  (2560, 1440)\n",
      "[[(58.0, 111.0), 526176.181514796], [(57.0, 111.0), 526176.367880567], [(61.0, 111.0), 526176.458304423], [(62.0, 110.0), 526176.549791375], [(65.0, 106.0), 526176.642104049], [(61.0, 109.0), 526176.731498759], [(63.0, 108.0), 526176.819542438], [(62.0, 110.0), 526176.910396037], [(61.0, 107.0), 526176.999687709], [(57.0, 107.0), 526177.086837256], [(59.0, 108.0), 526177.175278693], [(58.0, 110.0), 526177.263097331], [(60.0, 107.0), 526177.349929178], [(58.0, 108.0), 526177.437760444], [(58.0, 107.0), 526177.525426593], [(61.0, 107.0), 526177.614198526], [(60.0, 108.0), 526177.703646129], [(61.0, 108.0), 526177.791116996], [(62.0, 108.0), 526177.878992208], [(61.0, 108.0), 526177.969122924], [(63.0, 107.0), 526178.059045752], [(63.0, 107.0), 526178.147581547], [(63.0, 107.0), 526178.235528164], [(61.0, 104.0), 526178.323472566], [(62.0, 106.0), 526178.410875949], [(59.0, 106.0), 526178.499572322], [(61.0, 106.0), 526178.590010165], [(58.0, 107.0), 526178.67872483], [(61.0, 105.0), 526178.766698057], [(60.0, 104.0), 526178.855164874], [(61.0, 105.0), 526178.943874902], [(59.0, 103.0), 526179.031874648], [(60.0, 104.0), 526179.121540818], [(61.0, 103.0), 526179.209220065], [(60.0, 105.0), 526179.297192283], [(59.0, 104.0), 526179.387269842], [(60.0, 104.0), 526179.475308528], [(60.0, 105.0), 526179.563447282], [(59.0, 103.0), 526179.650927061], [(60.0, 104.0), 526179.738590143], [(60.0, 105.0), 526179.825116387], [(60.0, 105.0), 526179.912689551], [(59.0, 104.0), 526179.999716512], [(61.0, 104.0), 526180.087206082], [(59.0, 104.0), 526180.174939918], [(59.0, 104.0), 526180.26261119], [(59.0, 104.0), 526180.350763433], [(59.0, 104.0), 526180.438133434], [(58.0, 105.0), 526180.525687987], [(59.0, 104.0), 526180.612904819], [(58.0, 106.0), 526180.703746539], [(58.0, 105.0), 526180.793320008], [(59.0, 103.0), 526180.880364577], [(60.0, 104.0), 526180.968749422], [(59.0, 104.0), 526181.057099164], [(59.0, 103.0), 526181.145564745], [(60.0, 104.0), 526181.23287909], [(59.0, 104.0), 526181.320469556], [(59.0, 103.0), 526181.408530747], [(59.0, 103.0), 526181.497196056], [(59.0, 105.0), 526181.585357139], [(60.0, 105.0), 526181.672516985], [(60.0, 105.0), 526181.760719234], [(58.0, 105.0), 526181.85014035], [(61.0, 106.0), 526181.937435863], [(59.0, 105.0), 526182.025895244], [(59.0, 105.0), 526182.114281049], [(59.0, 105.0), 526182.202277589], [(59.0, 105.0), 526182.291635503], [(60.0, 106.0), 526182.379856891], [(59.0, 104.0), 526182.468485627], [(59.0, 106.0), 526182.555928318], [(59.0, 105.0), 526182.644125394], [(58.0, 107.0), 526182.731944965], [(60.0, 103.0), 526182.821443908], [(60.0, 105.0), 526182.909622107], [(58.0, 107.0), 526182.996879206], [(57.0, 106.0), 526183.085602116], [(60.0, 103.0), 526183.173673529], [(56.0, 97.0), 526183.521258938]]\n"
     ]
    },
    {
     "name": "stderr",
     "output_type": "stream",
     "text": [
      "/usr/local/lib/python3.5/site-packages/IPython/config.py:13: ShimWarning: The `IPython.config` package has been deprecated. You should import from traitlets.config instead.\n",
      "  \"You should import from traitlets.config instead.\", ShimWarning)\n"
     ]
    }
   ],
   "source": [
    "%run calibration_horizontal.py"
   ]
  },
  {
   "cell_type": "code",
   "execution_count": null,
   "metadata": {
    "button": false,
    "collapsed": false,
    "deletable": true,
    "new_sheet": false,
    "run_control": {
     "read_only": false
    }
   },
   "outputs": [],
   "source": [
    "\n",
    "pos_true = []\n",
    "timeline = []\n",
    "pos_h, pos_w = [], []\n",
    "t_max = screen.et.eye_pos[-1][1]\n",
    "t_min = screen.et.eye_pos[0][1]\n",
    "print(t_min, t_max)\n",
    "for pos, t0 in screen.et.eye_pos:\n",
    "    pos_true.append(np.sin(2*np.pi*(t0-t_min)/(t_max-t_min)))\n",
    "    pos_w.append(pos[0])\n",
    "    pos_h.append(pos[1]) \n",
    "    timeline.append(t0-t_min)\n",
    "\n",
    "pos_true = np.array(pos_true)\n",
    "print(pos_true)\n",
    "pos_true /= pos_true.max()\n",
    "\n",
    "pos_w = np.array(pos_w)\n",
    "pos_w -= pos_w.mean()\n",
    "pos_w /= pos_w.max()\n",
    "\n",
    "pos_h = np.array(pos_h)\n",
    "pos_h -= pos_h.mean()\n",
    "pos_h /= pos_h.max()\n",
    "\n",
    "fig, axs = plt.subplots(1, 1, figsize=(15, 7.5))\n",
    "axs.plot(timeline, pos_true, 'k')\n",
    "axs.plot(timeline, pos_h, 'b')\n",
    "axs.plot(timeline, pos_w, 'r')\n",
    "axs.axis('tight')"
   ]
  },
  {
   "cell_type": "code",
   "execution_count": null,
   "metadata": {
    "button": false,
    "collapsed": false,
    "deletable": true,
    "new_sheet": false,
    "run_control": {
     "read_only": false
    }
   },
   "outputs": [],
   "source": [
    "fig, axs = plt.subplots(1, 1, figsize=(15, 15))\n",
    "axs.plot(pos_true, pos_h, 'b')\n",
    "axs.plot(pos_true, pos_w, 'r')\n",
    "axs.axis('tight')"
   ]
  },
  {
   "cell_type": "markdown",
   "metadata": {
    "button": false,
    "deletable": true,
    "new_sheet": false,
    "run_control": {
     "read_only": false
    }
   },
   "source": [
    "Wow!"
   ]
  }
 ],
 "metadata": {
  "kernelspec": {
   "display_name": "Python 3",
   "language": "python",
   "name": "python3"
  },
  "language_info": {
   "codemirror_mode": {
    "name": "ipython",
    "version": 3
   },
   "file_extension": ".py",
   "mimetype": "text/x-python",
   "name": "python",
   "nbconvert_exporter": "python",
   "pygments_lexer": "ipython3",
   "version": "3.5.1"
  }
 },
 "nbformat": 4,
 "nbformat_minor": 0
}
