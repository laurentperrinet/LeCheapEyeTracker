{
 "cells": [
  {
   "cell_type": "markdown",
   "metadata": {},
   "source": [
    "## porting on a raspbery π\n",
    "\n",
    "\n",
    "### dependencies\n",
    "\n",
    "#sudo apt-get python3-numpy python3-matplotlib\n",
    "\n",
    "### building opencv3 from the source\n",
    "\n",
    "http://docs.opencv.org/master/d7/d9f/tutorial_linux_install.html\n",
    "\n",
    "then:\n",
    "\n",
    "    cd /home/pi/opencv/build\n",
    "\n",
    "    cmake -D CMAKE_BUILD_TYPE=Release \\\n",
    "          -D WITH_V4L=True \\\n",
    "          -D WITH_LIBV4L=True \\\n",
    "          -D PYTHON_EXECUTABLE= \\\n",
    "          -D PYTHON3_EXECUTABLE=/usr/bin/python3 \\\n",
    "          -D PYTHON3_INCLUDE_DIR=/usr/include/python3.4 \\\n",
    "          -D PYTHON3_LIBRARY=/usr/lib/arm-linux-gnueabihf/libpython3.4m.so \\\n",
    "          -D PYTHON3_NUMPY_INCLUDE_DIRS=/usr/lib/python3/dist-packages/numpy/core/include \\\n",
    "          /home/pi/opencv\n",
    "\n",
    "    make -j3\n",
    "    sudo make install\n",
    "    \n",
    "\n",
    "\n",
    "### grabing frames\n",
    "\n",
    "\n",
    "https://www.raspberrypi.org/forums/viewtopic.php?f=43&t=62364\n",
    "\n",
    "\n",
    "    sudo aptitude install libv4l-dev\n",
    " \n",
    "\n",
    "## testing"
   ]
  },
  {
   "cell_type": "code",
   "execution_count": null,
   "metadata": {
    "collapsed": true
   },
   "outputs": [],
   "source": [
    "%load_ext autoreload\n",
    "%autoreload 2\n",
    "import numpy as np\n",
    "np.set_printoptions(precision=2, suppress=True)"
   ]
  },
  {
   "cell_type": "code",
   "execution_count": null,
   "metadata": {
    "collapsed": false
   },
   "outputs": [],
   "source": [
    "# define plots to be inserted interactively\n",
    "import matplotlib.pyplot as plt\n",
    "%matplotlib inline\n"
   ]
  },
  {
   "cell_type": "code",
   "execution_count": null,
   "metadata": {
    "collapsed": true
   },
   "outputs": [],
   "source": [
    "import vispy"
   ]
  },
  {
   "cell_type": "code",
   "execution_count": null,
   "metadata": {
    "collapsed": false
   },
   "outputs": [],
   "source": [
    "%cd /Users/lolo/quantic/science/LeCheapEyeTracker\n",
    "!pip3 install -e .\n",
    "%cd dev"
   ]
  },
  {
   "cell_type": "code",
   "execution_count": null,
   "metadata": {
    "collapsed": false
   },
   "outputs": [],
   "source": [
    "import LeCheapEyeTracker\n"
   ]
  },
  {
   "cell_type": "code",
   "execution_count": null,
   "metadata": {
    "collapsed": false
   },
   "outputs": [],
   "source": [
    "import cv2"
   ]
  },
  {
   "cell_type": "markdown",
   "metadata": {
    "collapsed": true
   },
   "source": [
    "Ultimately, it is possible to install opencv on the π, but it is long and tedious. Let's stick to the one provided by raspbian and thus on python 2."
   ]
  }
 ],
 "metadata": {
  "kernelspec": {
   "display_name": "Python 3",
   "language": "python",
   "name": "python3"
  },
  "language_info": {
   "codemirror_mode": {
    "name": "ipython",
    "version": 3
   },
   "file_extension": ".py",
   "mimetype": "text/x-python",
   "name": "python",
   "nbconvert_exporter": "python",
   "pygments_lexer": "ipython3",
   "version": "3.5.1"
  }
 },
 "nbformat": 4,
 "nbformat_minor": 0
}
