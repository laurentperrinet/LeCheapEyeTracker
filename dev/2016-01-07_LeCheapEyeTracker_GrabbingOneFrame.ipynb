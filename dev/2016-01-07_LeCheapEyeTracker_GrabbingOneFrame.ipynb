{
 "cells": [
  {
   "cell_type": "code",
   "execution_count": 1,
   "metadata": {
    "collapsed": false
   },
   "outputs": [
    {
     "name": "stdout",
     "output_type": "stream",
     "text": [
      "Already up-to-date.\r\n"
     ]
    }
   ],
   "source": [
    "! git pull"
   ]
  },
  {
   "cell_type": "code",
   "execution_count": 2,
   "metadata": {
    "collapsed": false
   },
   "outputs": [],
   "source": [
    "%matplotlib inline\n",
    "\n",
    "import numpy as np\n",
    "import matplotlib.pyplot as plt"
   ]
  },
  {
   "cell_type": "markdown",
   "metadata": {},
   "source": [
    "# let's try with low-level libraries"
   ]
  },
  {
   "cell_type": "code",
   "execution_count": 5,
   "metadata": {
    "collapsed": false
   },
   "outputs": [
    {
     "name": "stdout",
     "output_type": "stream",
     "text": [
      "no rpi\n",
      "APERTURE 0.0\n",
      "AUTO_EXPOSURE 0.0\n",
      "BACKLIGHT 0.0\n",
      "BRIGHTNESS 0.0\n",
      "CONTRAST 0.0\n",
      "CONVERT_RGB 0.0\n",
      "EXPOSURE 0.0\n",
      "EXPOSUREPROGRAM 0.0\n",
      "FOCUS 0.0\n",
      "FORMAT 0.0\n",
      "FOURCC 0.0\n",
      "FPS 0.0\n",
      "FRAME_COUNT 0.0\n",
      "FRAME_HEIGHT 0.0\n",
      "FRAME_WIDTH 0.0\n",
      "GAIN 0.0\n",
      "GAMMA 0.0\n",
      "GUID 0.0\n",
      "HUE 0.0\n",
      "IRIS 0.0\n",
      "ISO_SPEED 0.0\n",
      "MODE 0.0\n",
      "PAN 0.0\n",
      "POS_AVI_RATIO 0.0\n",
      "POS_FRAMES 0.0\n",
      "POS_MSEC 0.0\n",
      "RECTIFICATION 0.0\n",
      "ROLL 0.0\n",
      "SATURATION 0.0\n",
      "SETTINGS 0.0\n",
      "SHARPNESS 0.0\n",
      "SPEED 0.0\n",
      "TEMPERATURE 0.0\n",
      "TILT 0.0\n",
      "TRIGGER 0.0\n",
      "TRIGGER_DELAY 0.0\n",
      "VIEWFINDER 0.0\n",
      "WHITE_BALANCE_BLUE_U 0.0\n",
      "WHITE_BALANCE_RED_V 0.0\n",
      "ZOOM 0.0\n",
      "(720, 1280, 3) 0 255\n",
      "success\n"
     ]
    },
    {
     "data": {
      "image/png": "[encoded data removed]",
      "text/plain": [
       "<matplotlib.figure.Figure at 0x117f136a0>"
      ]
     },
     "metadata": {},
     "output_type": "display_data"
    }
   ],
   "source": [
    "try:\n",
    "#On Raspbian\n",
    "    \n",
    "    import picamera\n",
    "    import picamera.array\n",
    "        \n",
    "    rpi = True    \n",
    "\n",
    "    with picamera.PiCamera() as camera:\n",
    "        camera.start_preview()\n",
    "        with picamera.array.PiRGBArray(camera) as stream:\n",
    "            camera.capture(stream, format='rgb')\n",
    "            # At this point the image is available as stream.array\n",
    "            frame = stream.array\n",
    "        camera.stop_preview()\n",
    "\n",
    "except:\n",
    "#On other Unix System\n",
    "\n",
    "    def print_info(cap):\n",
    "        \n",
    "        def get_oo_info(info):\n",
    "            return cap.get(eval('cv2.CAP_PROP_' + info))\n",
    "\n",
    "        for prop in [\n",
    "                    'APERTURE', 'AUTO_EXPOSURE',\n",
    "                    'BACKLIGHT', 'BRIGHTNESS', 'CONTRAST', 'CONVERT_RGB',\n",
    "                    'EXPOSURE', 'EXPOSUREPROGRAM',\n",
    "                    'FOCUS', 'FORMAT',\n",
    "                    'FOURCC', 'FPS',\n",
    "                    'FRAME_COUNT', 'FRAME_HEIGHT',\n",
    "                    'FRAME_WIDTH', 'GAIN',\n",
    "                    'GAMMA', 'GUID',\n",
    "                    'HUE', 'IRIS', 'ISO_SPEED', 'MODE', 'PAN', 'POS_AVI_RATIO',\n",
    "                    'POS_FRAMES', 'POS_MSEC', 'RECTIFICATION', 'ROLL',\n",
    "                    'SATURATION', 'SETTINGS', 'SHARPNESS', 'SPEED', 'TEMPERATURE',\n",
    "                    'TILT', 'TRIGGER', 'TRIGGER_DELAY', 'VIEWFINDER',\n",
    "                    'WHITE_BALANCE_BLUE_U', 'WHITE_BALANCE_RED_V', 'ZOOM'\n",
    "                    ]:\n",
    "            print(prop, get_oo_info(prop))\n",
    "\n",
    "    \n",
    "    print('no rpi')\n",
    "    rpi = False\n",
    "    \n",
    "    try:\n",
    "        import cv2\n",
    "        cap = cv2.VideoCapture(0)\n",
    "        if not cap.isOpened(): toto \n",
    "\n",
    "        do_cv = True\n",
    "        \n",
    "    except:\n",
    "        do_cv = False\n",
    "\n",
    "    if do_cv:\n",
    "        ret, frame = cap.read()\n",
    "        cap.release()\n",
    "        \n",
    "        print_info(cap)\n",
    "        \n",
    "plt.imshow(frame)\n",
    "if type(frame) is np.ndarray :\n",
    "    print(frame.shape, frame.min(), frame.max())\n",
    "    print ('success')     "
   ]
  },
  {
   "cell_type": "code",
   "execution_count": null,
   "metadata": {
    "collapsed": false
   },
   "outputs": [],
   "source": [
    "do_cv"
   ]
  },
  {
   "cell_type": "markdown",
   "metadata": {},
   "source": [
    "# let's try with a higher-level library\n",
    "\n",
    "The https://github.com/meduz/openRetina library has a convenient ``PhotoReceptor`` class to grab frames that work on any camera compatible with opencv and on the π:\n"
   ]
  },
  {
   "cell_type": "code",
   "execution_count": null,
   "metadata": {
    "collapsed": false
   },
   "outputs": [],
   "source": [
    "from openRetina import PhotoReceptor\n",
    "\n",
    "photoR = PhotoReceptor(1)\n",
    "\n",
    "#Obtaining FPS info\n",
    "print (photoR.get_oo_info('FPS'))\n",
    "\n",
    "#Plotting\n",
    "plt.imshow(photoR.grab())\n",
    "photoR.close()"
   ]
  },
  {
   "cell_type": "markdown",
   "metadata": {
    "collapsed": true
   },
   "source": [
    "## version control\n"
   ]
  },
  {
   "cell_type": "code",
   "execution_count": null,
   "metadata": {
    "collapsed": false
   },
   "outputs": [],
   "source": [
    "%pwd"
   ]
  },
  {
   "cell_type": "code",
   "execution_count": null,
   "metadata": {
    "collapsed": false
   },
   "outputs": [],
   "source": [
    "! git status"
   ]
  },
  {
   "cell_type": "code",
   "execution_count": null,
   "metadata": {
    "collapsed": false
   },
   "outputs": [],
   "source": [
    "! git commit -am' running on both the π and the opencv '"
   ]
  }
 ],
 "metadata": {
  "kernelspec": {
   "display_name": "Python 3",
   "language": "python",
   "name": "python3"
  },
  "language_info": {
   "codemirror_mode": {
    "name": "ipython",
    "version": 3
   },
   "file_extension": ".py",
   "mimetype": "text/x-python",
   "name": "python",
   "nbconvert_exporter": "python",
   "pygments_lexer": "ipython3",
   "version": "3.5.1"
  }
 },
 "nbformat": 4,
 "nbformat_minor": 0
}
