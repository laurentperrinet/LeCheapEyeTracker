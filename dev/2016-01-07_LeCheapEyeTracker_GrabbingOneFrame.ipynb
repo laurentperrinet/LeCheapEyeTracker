{
 "cells": [
  {
   "cell_type": "code",
   "execution_count": 1,
   "metadata": {
    "collapsed": false
   },
   "outputs": [
    {
     "name": "stdout",
     "output_type": "stream",
     "text": [
      "Already up-to-date.\r\n"
     ]
    }
   ],
   "source": [
    "! git pull"
   ]
  },
  {
   "cell_type": "code",
   "execution_count": 2,
   "metadata": {
    "collapsed": false
   },
   "outputs": [],
   "source": [
    "%matplotlib inline\n",
    "\n",
    "import numpy as np\n",
    "import matplotlib.pyplot as plt"
   ]
  },
  {
   "cell_type": "markdown",
   "metadata": {},
   "source": [
    "# let's try with low-level libraries"
   ]
  },
  {
   "cell_type": "code",
   "execution_count": 4,
   "metadata": {
    "collapsed": false
   },
   "outputs": [
    {
     "name": "stdout",
     "output_type": "stream",
     "text": [
      "no rpi\n",
      "(720, 1280, 3) 0 255\n",
      "success\n"
     ]
    },
    {
     "data": {
      "image/png": "[encoded data removed]",
      "text/plain": [
       "<matplotlib.figure.Figure at 0x1103a1748>"
      ]
     },
     "metadata": {},
     "output_type": "display_data"
    }
   ],
   "source": [
    "try:\n",
    "#On Raspbian\n",
    "    \n",
    "    import picamera\n",
    "    import picamera.array\n",
    "        \n",
    "    rpi = True    \n",
    "\n",
    "    with picamera.PiCamera() as camera:\n",
    "        camera.start_preview()\n",
    "        with picamera.array.PiRGBArray(camera) as stream:\n",
    "            camera.capture(stream, format='rgb')\n",
    "            # At this point the image is available as stream.array\n",
    "            frame = stream.array\n",
    "        camera.stop_preview()\n",
    "\n",
    "except:\n",
    "#On other Unix System\n",
    "    \n",
    "    print('no rpi')\n",
    "    rpi = False\n",
    "    \n",
    "    try:\n",
    "        import cv2\n",
    "        cap = cv2.VideoCapture(0)\n",
    "        if not cap.isOpened(): toto \n",
    "\n",
    "        do_cv = True\n",
    "        \n",
    "    except:\n",
    "        do_cv = False\n",
    "\n",
    "    if do_cv:\n",
    "        ret, frame = cap.read()\n",
    "        cap.release()\n",
    "        \n",
    "plt.imshow(frame)\n",
    "if type(frame) is np.ndarray :\n",
    "    print(frame.shape, frame.min(), frame.max())\n",
    "    print ('success')     "
   ]
  },
  {
   "cell_type": "code",
   "execution_count": 5,
   "metadata": {
    "collapsed": false
   },
   "outputs": [
    {
     "data": {
      "text/plain": [
       "True"
      ]
     },
     "execution_count": 5,
     "metadata": {},
     "output_type": "execute_result"
    }
   ],
   "source": [
    "do_cv"
   ]
  },
  {
   "cell_type": "markdown",
   "metadata": {},
   "source": [
    "# let's try with a higher-level library\n",
    "\n",
    "The https://github.com/meduz/openRetina library has a convenient ``PhotoReceptor`` class to grab frames that work on any camera compatible with opencv and on the π:\n"
   ]
  },
  {
   "cell_type": "code",
   "execution_count": 6,
   "metadata": {
    "collapsed": false
   },
   "outputs": [
    {
     "name": "stdout",
     "output_type": "stream",
     "text": [
      "0.0\n"
     ]
    },
    {
     "data": {
      "image/png": "[encoded data removed]",
      "text/plain": [
       "<matplotlib.figure.Figure at 0x1127f13c8>"
      ]
     },
     "metadata": {},
     "output_type": "display_data"
    }
   ],
   "source": [
    "from openRetina import PhotoReceptor\n",
    "\n",
    "photoR = PhotoReceptor(1)\n",
    "\n",
    "#Obtaining FPS info\n",
    "print (photoR.get_oo_info('FPS'))\n",
    "\n",
    "#Plotting\n",
    "plt.imshow(photoR.grab())\n",
    "photoR.close()"
   ]
  },
  {
   "cell_type": "markdown",
   "metadata": {
    "collapsed": true
   },
   "source": [
    "## version control\n"
   ]
  },
  {
   "cell_type": "code",
   "execution_count": 7,
   "metadata": {
    "collapsed": false
   },
   "outputs": [
    {
     "data": {
      "text/plain": [
       "'/Users/laurentperrinet/cloud_nas/science/LeCheapEyeTracker/dev'"
      ]
     },
     "execution_count": 7,
     "metadata": {},
     "output_type": "execute_result"
    }
   ],
   "source": [
    "%pwd"
   ]
  },
  {
   "cell_type": "code",
   "execution_count": 8,
   "metadata": {
    "collapsed": false
   },
   "outputs": [
    {
     "name": "stdout",
     "output_type": "stream",
     "text": [
      "On branch master\r\n",
      "Your branch is up-to-date with 'origin/master'.\r\n",
      "Changes not staged for commit:\r\n",
      "  (use \"git add <file>...\" to update what will be committed)\r\n",
      "  (use \"git checkout -- <file>...\" to discard changes in working directory)\r\n",
      "\r\n",
      "\t\u001b[32mmodified:   \"2016-01-04_LeCheapEyeTracker_rapsberry \\317\\200.ipynb\"\u001b[m\r\n",
      "\t\u001b[32mmodified:   2016-01-06_LeCheapEyeTracker_PicameraTesting.ipynb\u001b[m\r\n",
      "\r\n",
      "no changes added to commit (use \"git add\" and/or \"git commit -a\")\r\n"
     ]
    }
   ],
   "source": [
    "! git status"
   ]
  },
  {
   "cell_type": "code",
   "execution_count": 10,
   "metadata": {
    "collapsed": false
   },
   "outputs": [
    {
     "name": "stdout",
     "output_type": "stream",
     "text": [
      "[master d1a90f7]  running on both the π and the opencv\r\n",
      " 1 file changed, 284 insertions(+), 281 deletions(-)\r\n",
      " rewrite dev/2016-01-07_LeCheapEyeTracker_GrabbingOneFrame.ipynb (97%)\r\n"
     ]
    }
   ],
   "source": [
    "! git commit -am' running on both the π and the opencv '"
   ]
  }
 ],
 "metadata": {
  "kernelspec": {
   "display_name": "Python 3",
   "language": "python",
   "name": "python3"
  },
  "language_info": {
   "codemirror_mode": {
    "name": "ipython",
    "version": 3
   },
   "file_extension": ".py",
   "mimetype": "text/x-python",
   "name": "python",
   "nbconvert_exporter": "python",
   "pygments_lexer": "ipython3",
   "version": "3.5.1"
  }
 },
 "nbformat": 4,
 "nbformat_minor": 0
}
