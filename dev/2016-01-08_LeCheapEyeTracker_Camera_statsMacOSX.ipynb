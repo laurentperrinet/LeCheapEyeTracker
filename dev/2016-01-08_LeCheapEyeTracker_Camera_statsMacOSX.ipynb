{
 "cells": [
  {
   "cell_type": "code",
   "execution_count": null,
   "metadata": {
    "collapsed": false
   },
   "outputs": [],
   "source": [
    "%matplotlib inline\n",
    "%load_ext autoreload\n",
    "%autoreload 2"
   ]
  },
  {
   "cell_type": "code",
   "execution_count": null,
   "metadata": {
    "collapsed": false
   },
   "outputs": [],
   "source": [
    "from openRetina import PhotoReceptor\n",
    "import numpy as np\n",
    "import time\n",
    "import matplotlib.pyplot as plt"
   ]
  },
  {
   "cell_type": "markdown",
   "metadata": {},
   "source": [
    "## Performances with different framescales"
   ]
  },
  {
   "cell_type": "code",
   "execution_count": null,
   "metadata": {
    "collapsed": false
   },
   "outputs": [],
   "source": [
    "def moyFPS(nb, scale, N = 100):\n",
    "    \n",
    "    ctime = np.zeros(N)\n",
    "    \n",
    "    acc = 0\n",
    "    \n",
    "    for i in range(nb):\n",
    "        start = time.time()\n",
    "        \n",
    "        cam = PhotoReceptor(scale)\n",
    "        for j in range(N):\n",
    "            img = cam.grab()\n",
    "            ctime[j] = time.time()-start\n",
    "        cam.close()\n",
    "        \n",
    "        acc = acc + N/(ctime[-1]-ctime[0])\n",
    "    \n",
    "    return acc/nb"
   ]
  },
  {
   "cell_type": "code",
   "execution_count": null,
   "metadata": {
    "collapsed": false
   },
   "outputs": [],
   "source": [
    "print (moyFPS(16,1))"
   ]
  },
  {
   "cell_type": "raw",
   "metadata": {
    "collapsed": false
   },
   "source": [
    "print (moyFPS(16,2))"
   ]
  },
  {
   "cell_type": "raw",
   "metadata": {
    "collapsed": true
   },
   "source": [
    "print (moyFPS(16,4))"
   ]
  },
  {
   "cell_type": "raw",
   "metadata": {
    "collapsed": true
   },
   "source": [
    "print (moyFPS(16,8))"
   ]
  },
  {
   "cell_type": "code",
   "execution_count": 4,
   "metadata": {
    "collapsed": false,
    "scrolled": true
   },
   "outputs": [
    {
     "name": "stdout",
     "output_type": "stream",
     "text": [
      "Overwriting pi_test_fps.py\n"
     ]
    }
   ],
   "source": [
    "%%writefile pi_test_fps.py\n",
    "import numpy as np\n",
    "import time\n",
    "from openRetina import PhotoReceptor\n",
    "\n",
    "def moyFPS(nb, scale):\n",
    "    N = 100\n",
    "    ctime = np.zeros(N)\n",
    "    \n",
    "    acc = 0\n",
    "    \n",
    "    for i in range(nb):\n",
    "        start = time.time()\n",
    "        \n",
    "        cam = PhotoReceptor(scale)\n",
    "        for j in range(N):\n",
    "            img = cam.grab()\n",
    "            ctime[j] = time.time()-start\n",
    "        cam.close()\n",
    "        \n",
    "        acc = acc + N/(ctime[-1]-ctime[0])\n",
    "    \n",
    "    return acc/nb\n",
    "print (moyFPS(16,8))"
   ]
  },
  {
   "cell_type": "code",
   "execution_count": null,
   "metadata": {
    "collapsed": false
   },
   "outputs": [],
   "source": [
    "%run pi_test_fps.py"
   ]
  },
  {
   "cell_type": "code",
   "execution_count": 9,
   "metadata": {
    "collapsed": false
   },
   "outputs": [
    {
     "name": "stdout",
     "output_type": "stream",
     "text": [
      "bash: warning: setlocale: LC_ALL: cannot change locale (en_US.UTF-8)\n",
      "mmal: mmal_vc_component_enable: failed to enable component: ENOSPC\n",
      "mmal: mmal_vc_component_enable: failed to enable component: ENOSPC\n",
      "mmal: mmal_vc_component_enable: failed to enable component: ENOSPC\n",
      "mmal: mmal_vc_component_enable: failed to enable component: ENOSPC\n",
      "mmal: mmal_vc_component_enable: failed to enable component: ENOSPC\n",
      "mmal: mmal_vc_component_enable: failed to enable component: ENOSPC\n",
      "mmal: mmal_vc_component_enable: failed to enable component: ENOSPC\n",
      "mmal: mmal_vc_component_enable: failed to enable component: ENOSPC\n",
      "mmal: mmal_vc_component_enable: failed to enable component: ENOSPC\n",
      "mmal: mmal_vc_component_enable: failed to enable component: ENOSPC\n",
      "mmal: mmal_vc_component_enable: failed to enable component: ENOSPC\n",
      "mmal: mmal_vc_component_enable: failed to enable component: ENOSPC\n",
      "mmal: mmal_vc_component_enable: failed to enable component: ENOSPC\n",
      "mmal: mmal_vc_component_enable: failed to enable component: ENOSPC\n",
      "mmal: mmal_vc_component_enable: failed to enable component: ENOSPC\n",
      "Unable to capture video\n",
      "Unable to capture video\n",
      "Unable to capture video\n",
      "Unable to capture video\n",
      "Unable to capture video\n",
      "Unable to capture video\n",
      "Unable to capture video\n",
      "Unable to capture video\n",
      "Unable to capture video\n",
      "Unable to capture video\n",
      "Unable to capture video\n",
      "Unable to capture video\n",
      "Unable to capture video\n",
      "Unable to capture video\n",
      "Unable to capture video\n",
      "101526.920371\n"
     ]
    }
   ],
   "source": [
    "! ssh -Y pi@10.164.5.24 'cd LeCheapEyeTracker/dev/ && python  pi_test_fps.py' "
   ]
  },
  {
   "cell_type": "code",
   "execution_count": null,
   "metadata": {
    "collapsed": true
   },
   "outputs": [],
   "source": []
  }
 ],
 "metadata": {
  "kernelspec": {
   "display_name": "Python 3",
   "language": "python",
   "name": "python3"
  },
  "language_info": {
   "codemirror_mode": {
    "name": "ipython",
    "version": 3
   },
   "file_extension": ".py",
   "mimetype": "text/x-python",
   "name": "python",
   "nbconvert_exporter": "python",
   "pygments_lexer": "ipython3",
   "version": "3.5.1"
  }
 },
 "nbformat": 4,
 "nbformat_minor": 0
}
