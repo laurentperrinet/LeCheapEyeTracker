{
 "cells": [
  {
   "cell_type": "code",
   "execution_count": null,
   "metadata": {
    "collapsed": false
   },
   "outputs": [],
   "source": [
    "%matplotlib inline\n",
    "%load_ext autoreload\n",
    "%autoreload 2"
   ]
  },
  {
   "cell_type": "markdown",
   "metadata": {},
   "source": [
    "The ``PhotoReceptor`` class in ``openRetina`` is a platform-indepent wrapper for grabbing frames from a webcam. We will here test its efficiency."
   ]
  },
  {
   "cell_type": "markdown",
   "metadata": {},
   "source": [
    "## Performances with different framescales"
   ]
  },
  {
   "cell_type": "code",
   "execution_count": null,
   "metadata": {
    "collapsed": false,
    "scrolled": true
   },
   "outputs": [],
   "source": [
    "%%writefile test_fps.py\n",
    "\n",
    "import numpy as np\n",
    "import time\n",
    "from openRetina import PhotoReceptor\n",
    "\n",
    "def moyFPS(nb_trials, downscale, N_frame = 100):\n",
    "    \n",
    "    acc = []\n",
    "    \n",
    "    for i in range(nb_trials):\n",
    "        start = time.time()\n",
    "        \n",
    "        cam = PhotoReceptor(DOWNSCALE=downscale)\n",
    "        for j in range(N_frame):\n",
    "            img = cam.grab()\n",
    "        cam.close()\n",
    "\n",
    "        stop = time.time()\n",
    "        acc.append(N_frame/(stop-start))\n",
    "    \n",
    "    return np.array(acc)\n",
    "\n",
    "def pretty_print(acc):\n",
    "    return(' 🍺 FPS = {mean} +/- {std} (in frames per second)'.format(mean=acc.mean(), std=acc.std()))\n",
    "\n",
    "for downscale in [16, 8, 4, 2, 1]:\n",
    "    print ('Downscale = %d ' % downscale)\n",
    "    print (pretty_print((moyFPS(nb_trials=16, downscale=downscale, N_frame=100))))"
   ]
  },
  {
   "cell_type": "code",
   "execution_count": null,
   "metadata": {
    "collapsed": false
   },
   "outputs": [],
   "source": [
    "%run test_fps.py"
   ]
  },
  {
   "cell_type": "code",
   "execution_count": null,
   "metadata": {
    "collapsed": false
   },
   "outputs": [],
   "source": [
    "for downscale in [16, 8, 4, 2, 1]:\n",
    "    print ('Downscale = %d ' % downscale)\n",
    "    print (pretty_print((moyFPS(nb_trials=1, downscale=downscale, N_frame=10))))"
   ]
  },
  {
   "cell_type": "markdown",
   "metadata": {
    "collapsed": true
   },
   "source": [
    "# git"
   ]
  },
  {
   "cell_type": "code",
   "execution_count": null,
   "metadata": {
    "collapsed": false
   },
   "outputs": [],
   "source": [
    "!git s\n"
   ]
  },
  {
   "cell_type": "code",
   "execution_count": null,
   "metadata": {
    "collapsed": false
   },
   "outputs": [],
   "source": [
    "!git commit -am' tuning notebooks '"
   ]
  }
 ],
 "metadata": {
  "kernelspec": {
   "display_name": "Python 3",
   "language": "python",
   "name": "python3"
  },
  "language_info": {
   "codemirror_mode": {
    "name": "ipython",
    "version": 3
   },
   "file_extension": ".py",
   "mimetype": "text/x-python",
   "name": "python",
   "nbconvert_exporter": "python",
   "pygments_lexer": "ipython3",
   "version": "3.5.1"
  }
 },
 "nbformat": 4,
 "nbformat_minor": 0
}
