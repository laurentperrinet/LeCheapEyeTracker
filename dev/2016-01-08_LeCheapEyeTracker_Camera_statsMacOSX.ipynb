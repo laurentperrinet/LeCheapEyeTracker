{
 "cells": [
  {
   "cell_type": "code",
   "execution_count": 1,
   "metadata": {
    "collapsed": false
   },
   "outputs": [
    {
     "name": "stderr",
     "output_type": "stream",
     "text": [
      "/usr/local/lib/python3.5/site-packages/matplotlib/__init__.py:872: UserWarning: axes.color_cycle is deprecated and replaced with axes.prop_cycle; please use the latter.\n",
      "  warnings.warn(self.msg_depr % (key, alt_key))\n"
     ]
    }
   ],
   "source": [
    "%matplotlib inline\n",
    "%load_ext autoreload\n",
    "%autoreload 2"
   ]
  },
  {
   "cell_type": "code",
   "execution_count": 2,
   "metadata": {
    "collapsed": false
   },
   "outputs": [],
   "source": [
    "from openRetina import PhotoReceptor\n",
    "import numpy as np\n",
    "import time\n",
    "import matplotlib.pyplot as plt"
   ]
  },
  {
   "cell_type": "code",
   "execution_count": 3,
   "metadata": {
    "collapsed": false
   },
   "outputs": [
    {
     "name": "stdout",
     "output_type": "stream",
     "text": [
      "no rpi\n"
     ]
    }
   ],
   "source": [
    "N = 100\n",
    "ctime = np.zeros(N)\n",
    "start = time.time()\n",
    "\n",
    "cam = PhotoReceptor(1)\n",
    "for i in range(N):\n",
    "    img = cam.grab()\n",
    "    ctime[i] = time.time() - start\n",
    "cam.close()"
   ]
  },
  {
   "cell_type": "code",
   "execution_count": 4,
   "metadata": {
    "collapsed": false
   },
   "outputs": [
    {
     "name": "stdout",
     "output_type": "stream",
     "text": [
      "FPS :  30.3385066117\n"
     ]
    },
    {
     "data": {
      "image/png": "[encoded data removed]",
      "text/plain": [
       "<matplotlib.figure.Figure at 0x112ce2710>"
      ]
     },
     "metadata": {},
     "output_type": "display_data"
    }
   ],
   "source": [
    "plt.plot(ctime[1:], np.diff(ctime)*1000, '+')\n",
    "plt.xlabel('time (s)')\n",
    "plt.ylabel('inter-frame interval(ms)')\n",
    "_ = plt.axis('tight')\n",
    "print ('FPS : ',  N/(ctime[-1]-ctime[0]))"
   ]
  },
  {
   "cell_type": "markdown",
   "metadata": {},
   "source": [
    "## Performances du code"
   ]
  },
  {
   "cell_type": "code",
   "execution_count": 5,
   "metadata": {
    "collapsed": false
   },
   "outputs": [],
   "source": [
    "def moyFPS(nb):\n",
    "    N = 100\n",
    "    ctime = np.zeros(N)\n",
    "    \n",
    "    acc = 0\n",
    "    \n",
    "    for i in range(nb):\n",
    "        start = time.time()\n",
    "        \n",
    "        cam = PhotoReceptor(1)\n",
    "        for j in range(N):\n",
    "            img = cam.grab()\n",
    "            ctime[j] = time.time()-start\n",
    "        cam.close()\n",
    "        \n",
    "        acc = acc + N/(ctime[-1]-ctime[0])\n",
    "    \n",
    "    return acc/nb"
   ]
  },
  {
   "cell_type": "code",
   "execution_count": 6,
   "metadata": {
    "collapsed": false
   },
   "outputs": [
    {
     "name": "stdout",
     "output_type": "stream",
     "text": [
      "no rpi\n",
      "no rpi\n",
      "no rpi\n",
      "no rpi\n",
      "no rpi\n",
      "no rpi\n",
      "no rpi\n",
      "no rpi\n",
      "no rpi\n",
      "no rpi\n",
      "no rpi\n",
      "no rpi\n",
      "no rpi\n",
      "no rpi\n",
      "no rpi\n",
      "no rpi\n",
      "30.3773574392\n"
     ]
    }
   ],
   "source": [
    "print (moyFPS(16))"
   ]
  },
  {
   "cell_type": "code",
   "execution_count": null,
   "metadata": {
    "collapsed": true
   },
   "outputs": [],
   "source": []
  }
 ],
 "metadata": {
  "kernelspec": {
   "display_name": "Python 3",
   "language": "python",
   "name": "python3"
  },
  "language_info": {
   "codemirror_mode": {
    "name": "ipython",
    "version": 3
   },
   "file_extension": ".py",
   "mimetype": "text/x-python",
   "name": "python",
   "nbconvert_exporter": "python",
   "pygments_lexer": "ipython3",
   "version": "3.5.1"
  }
 },
 "nbformat": 4,
 "nbformat_minor": 0
}
