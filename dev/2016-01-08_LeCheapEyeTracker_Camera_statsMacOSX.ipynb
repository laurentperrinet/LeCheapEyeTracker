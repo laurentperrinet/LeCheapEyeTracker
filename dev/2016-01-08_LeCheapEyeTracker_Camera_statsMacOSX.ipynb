{
 "cells": [
  {
   "cell_type": "code",
   "execution_count": 3,
   "metadata": {
    "collapsed": false
   },
   "outputs": [
    {
     "name": "stderr",
     "output_type": "stream",
     "text": [
      "/usr/local/lib/python3.5/site-packages/matplotlib/__init__.py:872: UserWarning: axes.color_cycle is deprecated and replaced with axes.prop_cycle; please use the latter.\n",
      "  warnings.warn(self.msg_depr % (key, alt_key))\n"
     ]
    }
   ],
   "source": [
    "%matplotlib inline\n",
    "%load_ext autoreload\n",
    "%autoreload 2"
   ]
  },
  {
   "cell_type": "code",
   "execution_count": 4,
   "metadata": {
    "collapsed": false
   },
   "outputs": [],
   "source": [
    "from openRetina import PhotoReceptor\n",
    "import numpy as np\n",
    "import time\n",
    "import matplotlib.pyplot as plt"
   ]
  },
  {
   "cell_type": "markdown",
   "metadata": {},
   "source": [
    "## Performances with different framescales"
   ]
  },
  {
   "cell_type": "code",
   "execution_count": 5,
   "metadata": {
    "collapsed": false
   },
   "outputs": [],
   "source": [
    "def moyFPS(nb, scale, N = 100):\n",
    "    \n",
    "    ctime = np.zeros(N)\n",
    "    \n",
    "    acc = 0\n",
    "    \n",
    "    for i in range(nb):\n",
    "        start = time.time()\n",
    "        \n",
    "        cam = PhotoReceptor(scale)\n",
    "        for j in range(N):\n",
    "            img = cam.grab()\n",
    "            ctime[j] = time.time()-start\n",
    "        cam.close()\n",
    "        \n",
    "        acc = acc + N/(ctime[-1]-ctime[0])\n",
    "    \n",
    "    return acc/nb"
   ]
  },
  {
   "cell_type": "code",
   "execution_count": null,
   "metadata": {
    "collapsed": false
   },
   "outputs": [
    {
     "name": "stdout",
     "output_type": "stream",
     "text": [
      "30.3242396696\n"
     ]
    }
   ],
   "source": [
    "print (moyFPS(16,1))"
   ]
  },
  {
   "cell_type": "raw",
   "metadata": {
    "collapsed": false
   },
   "source": [
    "print (moyFPS(16,2))"
   ]
  },
  {
   "cell_type": "raw",
   "metadata": {
    "collapsed": true
   },
   "source": [
    "print (moyFPS(16,4))"
   ]
  },
  {
   "cell_type": "raw",
   "metadata": {
    "collapsed": true
   },
   "source": [
    "print (moyFPS(16,8))"
   ]
  },
  {
   "cell_type": "code",
   "execution_count": 7,
   "metadata": {
    "collapsed": false,
    "scrolled": true
   },
   "outputs": [
    {
     "name": "stdout",
     "output_type": "stream",
     "text": [
      "Overwriting test_fps.py\n"
     ]
    }
   ],
   "source": [
    "%%writefile test_fps.py\n",
    "import numpy as np\n",
    "import time\n",
    "from openRetina import PhotoReceptor\n",
    "\n",
    "def moyFPS(nb, scale):\n",
    "    N = 100\n",
    "    ctime = np.zeros(N)\n",
    "    \n",
    "    acc = 0\n",
    "    \n",
    "    for i in range(nb):\n",
    "        start = time.time()\n",
    "        \n",
    "        cam = PhotoReceptor(scale)\n",
    "        for j in range(N):\n",
    "            img = cam.grab()\n",
    "            ctime[j] = time.time()-start\n",
    "        cam.close()\n",
    "        \n",
    "        acc = acc + N/(ctime[-1]-ctime[0])\n",
    "    \n",
    "    return acc/nb\n",
    "print (moyFPS(16,8))"
   ]
  },
  {
   "cell_type": "code",
   "execution_count": 8,
   "metadata": {
    "collapsed": false
   },
   "outputs": [
    {
     "name": "stdout",
     "output_type": "stream",
     "text": [
      "30.3131229403\n"
     ]
    }
   ],
   "source": [
    "%run test_fps.py"
   ]
  },
  {
   "cell_type": "code",
   "execution_count": 2,
   "metadata": {
    "collapsed": false
   },
   "outputs": [
    {
     "name": "stdout",
     "output_type": "stream",
     "text": [
      "bash: warning: setlocale: LC_ALL: cannot change locale (en_US.UTF-8)\n",
      "python: can't open file 'pi_test_fps.py': [Errno 2] No such file or directory\n"
     ]
    }
   ],
   "source": [
    "! ssh -Y pi@10.164.5.24 'cd openRetina/ && python  test_fps.py' "
   ]
  },
  {
   "cell_type": "code",
   "execution_count": null,
   "metadata": {
    "collapsed": true
   },
   "outputs": [],
   "source": []
  }
 ],
 "metadata": {
  "kernelspec": {
   "display_name": "Python 3",
   "language": "python",
   "name": "python3"
  },
  "language_info": {
   "codemirror_mode": {
    "name": "ipython",
    "version": 3
   },
   "file_extension": ".py",
   "mimetype": "text/x-python",
   "name": "python",
   "nbconvert_exporter": "python",
   "pygments_lexer": "ipython3",
   "version": "3.5.1"
  }
 },
 "nbformat": 4,
 "nbformat_minor": 0
}
