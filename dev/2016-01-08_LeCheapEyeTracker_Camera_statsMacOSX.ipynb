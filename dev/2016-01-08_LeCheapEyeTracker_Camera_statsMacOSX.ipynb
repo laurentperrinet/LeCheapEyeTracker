{
 "cells": [
  {
   "cell_type": "code",
   "execution_count": null,
   "metadata": {
    "collapsed": false
   },
   "outputs": [],
   "source": [
    "%matplotlib inline\n",
    "%load_ext autoreload\n",
    "%autoreload 2"
   ]
  },
  {
   "cell_type": "markdown",
   "metadata": {},
   "source": [
    "The ``PhotoReceptor`` class in ``openRetina`` is a platform-indepent wrapper for grabbing frames from a webcam. We will here test its efficiency."
   ]
  },
  {
   "cell_type": "markdown",
   "metadata": {},
   "source": [
    "## Performances with different framescales"
   ]
  },
  {
   "cell_type": "code",
   "execution_count": 1,
   "metadata": {
    "collapsed": false,
    "scrolled": true
   },
   "outputs": [
    {
     "name": "stdout",
     "output_type": "stream",
     "text": [
      "Overwriting test_fps.py\n"
     ]
    }
   ],
   "source": [
    "%%writefile test_fps.py\n",
    "\n",
    "import numpy as np\n",
    "import time\n",
    "from openRetina import PhotoReceptor\n",
    "\n",
    "def moyFPS(nb_trials, downscale, N_frame = 100):\n",
    "    \n",
    "    acc = []\n",
    "    \n",
    "    for i in range(nb_trials):\n",
    "        start = time.time()\n",
    "        \n",
    "        cam = PhotoReceptor(DOWNSCALE=downscale)\n",
    "        for j in range(N_frame):\n",
    "            img = cam.grab()\n",
    "        cam.close()\n",
    "\n",
    "        stop = time.time()\n",
    "        acc.append(N_frame/(stop-start))\n",
    "    \n",
    "    return np.array(acc)\n",
    "\n",
    "def pretty_print(acc):\n",
    "    return(' 🍺 FPS = {mean} +/- {std} (in frames per second)'.format(mean=acc.mean(), std=acc.std()))\n",
    "\n",
    "if __name__ == '__main__':\n",
    "\n",
    "    for downscale in [16, 8, 4, 2, 1]:\n",
    "        print ('Downscale = %d ' % downscale)\n",
    "        print (pretty_print((moyFPS(nb_trials=16, downscale=downscale, N_frame=100))))"
   ]
  },
  {
   "cell_type": "code",
   "execution_count": null,
   "metadata": {
    "collapsed": false
   },
   "outputs": [],
   "source": [
    "%run test_fps.py"
   ]
  },
  {
   "cell_type": "markdown",
   "metadata": {
    "collapsed": true
   },
   "source": [
    "# git"
   ]
  },
  {
   "cell_type": "code",
   "execution_count": 2,
   "metadata": {
    "collapsed": false
   },
   "outputs": [
    {
     "name": "stdout",
     "output_type": "stream",
     "text": [
      " \u001b[32mM\u001b[m 2016-01-07_LeCheapEyeTracker_GrabbingOneFrame.ipynb\r\n",
      " \u001b[32mM\u001b[m 2016-01-08_LeCheapEyeTracker_Camera_statsMacOSX.ipynb\r\n",
      " \u001b[32mM\u001b[m 2016-01-08_LeCheapEyeTracker_Camera_statsRaspberryPi.ipynb\r\n",
      " \u001b[32mM\u001b[m test_fps.py\r\n"
     ]
    }
   ],
   "source": [
    "!git s\n"
   ]
  },
  {
   "cell_type": "code",
   "execution_count": 3,
   "metadata": {
    "collapsed": false
   },
   "outputs": [
    {
     "name": "stdout",
     "output_type": "stream",
     "text": [
      "[master 4af679e]  tuning notebooks\r\n",
      " 4 files changed, 471 insertions(+), 555 deletions(-)\r\n",
      " rewrite dev/2016-01-07_LeCheapEyeTracker_GrabbingOneFrame.ipynb (84%)\r\n",
      " rewrite dev/2016-01-08_LeCheapEyeTracker_Camera_statsMacOSX.ipynb (64%)\r\n",
      " rewrite dev/test_fps.py (62%)\r\n"
     ]
    }
   ],
   "source": [
    "!git commit -am' tuning notebooks '"
   ]
  },
  {
   "cell_type": "code",
   "execution_count": 4,
   "metadata": {
    "collapsed": false
   },
   "outputs": [
    {
     "name": "stdout",
     "output_type": "stream",
     "text": [
      "Counting objects: 21, done.\n",
      "Delta compression using up to 4 threads.\n",
      "Compressing objects: 100% (21/21), done.\n",
      "Writing objects: 100% (21/21), 30.25 KiB | 0 bytes/s, done.\n",
      "Total 21 (delta 14), reused 0 (delta 0)\n",
      "To https://github.com/meduz/LeCheapEyeTracker.git\n",
      "   3cbc6af..4af679e  master -> master\n"
     ]
    }
   ],
   "source": [
    "!git push"
   ]
  },
  {
   "cell_type": "code",
   "execution_count": null,
   "metadata": {
    "collapsed": true
   },
   "outputs": [],
   "source": []
  }
 ],
 "metadata": {
  "kernelspec": {
   "display_name": "Python 3",
   "language": "python",
   "name": "python3"
  },
  "language_info": {
   "codemirror_mode": {
    "name": "ipython",
    "version": 3
   },
   "file_extension": ".py",
   "mimetype": "text/x-python",
   "name": "python",
   "nbconvert_exporter": "python",
   "pygments_lexer": "ipython3",
   "version": "3.5.1"
  }
 },
 "nbformat": 4,
 "nbformat_minor": 0
}
