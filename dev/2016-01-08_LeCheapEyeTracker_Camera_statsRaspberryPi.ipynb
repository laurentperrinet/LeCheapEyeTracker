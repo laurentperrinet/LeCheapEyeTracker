{
 "cells": [
  {
   "cell_type": "code",
   "execution_count": null,
   "metadata": {
    "collapsed": true
   },
   "outputs": [],
   "source": [
    "N = 100\n",
    "ctime = np.zeros(N)\n",
    "start = time.time()\n",
    "cam = PhotoReceptor()\n",
    "for i in range(N):\n",
    "    img = cam.grab()\n",
    "    ctime[i] = time.time() - start\n",
    "cam.close()"
   ]
  },
  {
   "cell_type": "code",
   "execution_count": null,
   "metadata": {
    "collapsed": true
   },
   "outputs": [],
   "source": [
    "plt.plot(ctime[1:], np.diff(ctime)*1000, '+')\n",
    "plt.xlabel('time (s)')\n",
    "plt.ylabel('inter-frame interval(ms)')\n",
    "_ = plt.axis('tight')\n",
    "print ('FPS : ',  N/(ctime[-1]-ctime[0]))"
   ]
  }
 ],
 "metadata": {
  "kernelspec": {
   "display_name": "Python 3",
   "language": "python",
   "name": "python3"
  },
  "language_info": {
   "codemirror_mode": {
    "name": "ipython",
    "version": 3
   },
   "file_extension": ".py",
   "mimetype": "text/x-python",
   "name": "python",
   "nbconvert_exporter": "python",
   "pygments_lexer": "ipython3",
   "version": "3.5.1"
  }
 },
 "nbformat": 4,
 "nbformat_minor": 0
}
