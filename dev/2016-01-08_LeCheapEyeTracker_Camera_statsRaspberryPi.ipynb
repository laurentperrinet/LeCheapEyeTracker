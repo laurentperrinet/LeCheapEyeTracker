{
 "cells": [
  {
   "cell_type": "markdown",
   "metadata": {},
   "source": [
    "Updating code on the π:"
   ]
  },
  {
   "cell_type": "code",
   "execution_count": 1,
   "metadata": {
    "collapsed": false,
    "scrolled": true
   },
   "outputs": [
    {
     "name": "stdout",
     "output_type": "stream",
     "text": [
      "From https://github.com/meduz/openRetina\n",
      "   9dd2846..e2971b8  master     -> origin/master\n",
      "Updating 9dd2846..e2971b8\n",
      "Fast-forward\n",
      " src/openRetina.py | 1 +\n",
      " 1 file changed, 1 insertion(+)\n",
      "On branch master\n",
      "Your branch is up-to-date with 'origin/master'.\n",
      "nothing to commit, working directory clean\n"
     ]
    }
   ],
   "source": [
    "! ssh pi@10.164.5.24 'cd openRetina && git pull; git status' "
   ]
  },
  {
   "cell_type": "code",
   "execution_count": 2,
   "metadata": {
    "collapsed": false
   },
   "outputs": [
    {
     "name": "stdout",
     "output_type": "stream",
     "text": [
      "Already up-to-date.\r\n",
      "On branch master\r\n",
      "Your branch is up-to-date with 'origin/master'.\r\n",
      "nothing to commit, working directory clean\r\n"
     ]
    }
   ],
   "source": [
    "! ssh pi@10.164.5.24 'cd LeCheapEyeTracker && git pull; git status' "
   ]
  },
  {
   "cell_type": "markdown",
   "metadata": {},
   "source": [
    "Testing the π:"
   ]
  },
  {
   "cell_type": "code",
   "execution_count": 3,
   "metadata": {
    "collapsed": false
   },
   "outputs": [
    {
     "name": "stdout",
     "output_type": "stream",
     "text": [
      "Downscale = 16 \r\n",
      "DOWNSCALE NOT IMPLEMENTED YET on the π\r\n",
      "DOWNSCALE NOT IMPLEMENTED YET on the π\r\n",
      "DOWNSCALE NOT IMPLEMENTED YET on the π\r\n",
      "DOWNSCALE NOT IMPLEMENTED YET on the π\r\n",
      "DOWNSCALE NOT IMPLEMENTED YET on the π\r\n",
      "DOWNSCALE NOT IMPLEMENTED YET on the π\r\n",
      "DOWNSCALE NOT IMPLEMENTED YET on the π\r\n",
      "DOWNSCALE NOT IMPLEMENTED YET on the π\r\n",
      "DOWNSCALE NOT IMPLEMENTED YET on the π\r\n",
      "DOWNSCALE NOT IMPLEMENTED YET on the π\r\n",
      "DOWNSCALE NOT IMPLEMENTED YET on the π\r\n",
      "DOWNSCALE NOT IMPLEMENTED YET on the π\r\n",
      "DOWNSCALE NOT IMPLEMENTED YET on the π\r\n",
      "DOWNSCALE NOT IMPLEMENTED YET on the π\r\n",
      "DOWNSCALE NOT IMPLEMENTED YET on the π\r\n",
      "DOWNSCALE NOT IMPLEMENTED YET on the π\r\n",
      " 🍺 FPS = 100.834856463 +/- 5.15612429773 (in frames per second)\r\n",
      "Downscale = 8 \r\n",
      "DOWNSCALE NOT IMPLEMENTED YET on the π\r\n",
      "DOWNSCALE NOT IMPLEMENTED YET on the π\r\n",
      "DOWNSCALE NOT IMPLEMENTED YET on the π\r\n",
      "DOWNSCALE NOT IMPLEMENTED YET on the π\r\n",
      "DOWNSCALE NOT IMPLEMENTED YET on the π\r\n",
      "DOWNSCALE NOT IMPLEMENTED YET on the π\r\n",
      "DOWNSCALE NOT IMPLEMENTED YET on the π\r\n",
      "DOWNSCALE NOT IMPLEMENTED YET on the π\r\n",
      "DOWNSCALE NOT IMPLEMENTED YET on the π\r\n",
      "DOWNSCALE NOT IMPLEMENTED YET on the π\r\n",
      "DOWNSCALE NOT IMPLEMENTED YET on the π\r\n",
      "DOWNSCALE NOT IMPLEMENTED YET on the π\r\n",
      "DOWNSCALE NOT IMPLEMENTED YET on the π\r\n",
      "DOWNSCALE NOT IMPLEMENTED YET on the π\r\n",
      "DOWNSCALE NOT IMPLEMENTED YET on the π\r\n",
      "DOWNSCALE NOT IMPLEMENTED YET on the π\r\n",
      " 🍺 FPS = 102.020673276 +/- 0.882080807424 (in frames per second)\r\n",
      "Downscale = 4 \r\n",
      "DOWNSCALE NOT IMPLEMENTED YET on the π\r\n",
      "DOWNSCALE NOT IMPLEMENTED YET on the π\r\n",
      "DOWNSCALE NOT IMPLEMENTED YET on the π\r\n",
      "DOWNSCALE NOT IMPLEMENTED YET on the π\r\n",
      "DOWNSCALE NOT IMPLEMENTED YET on the π\r\n",
      "DOWNSCALE NOT IMPLEMENTED YET on the π\r\n",
      "DOWNSCALE NOT IMPLEMENTED YET on the π\r\n",
      "DOWNSCALE NOT IMPLEMENTED YET on the π\r\n",
      "DOWNSCALE NOT IMPLEMENTED YET on the π\r\n",
      "DOWNSCALE NOT IMPLEMENTED YET on the π\r\n",
      "DOWNSCALE NOT IMPLEMENTED YET on the π\r\n",
      "DOWNSCALE NOT IMPLEMENTED YET on the π\r\n",
      "DOWNSCALE NOT IMPLEMENTED YET on the π\r\n",
      "DOWNSCALE NOT IMPLEMENTED YET on the π\r\n",
      "DOWNSCALE NOT IMPLEMENTED YET on the π\r\n",
      "DOWNSCALE NOT IMPLEMENTED YET on the π\r\n",
      " 🍺 FPS = 101.279079361 +/- 1.54847017107 (in frames per second)\r\n",
      "Downscale = 2 \r\n",
      "DOWNSCALE NOT IMPLEMENTED YET on the π\r\n",
      "DOWNSCALE NOT IMPLEMENTED YET on the π\r\n",
      "DOWNSCALE NOT IMPLEMENTED YET on the π\r\n",
      "DOWNSCALE NOT IMPLEMENTED YET on the π\r\n",
      "DOWNSCALE NOT IMPLEMENTED YET on the π\r\n",
      "DOWNSCALE NOT IMPLEMENTED YET on the π\r\n",
      "DOWNSCALE NOT IMPLEMENTED YET on the π\r\n",
      "DOWNSCALE NOT IMPLEMENTED YET on the π\r\n",
      "DOWNSCALE NOT IMPLEMENTED YET on the π\r\n",
      "DOWNSCALE NOT IMPLEMENTED YET on the π\r\n",
      "DOWNSCALE NOT IMPLEMENTED YET on the π\r\n",
      "DOWNSCALE NOT IMPLEMENTED YET on the π\r\n",
      "DOWNSCALE NOT IMPLEMENTED YET on the π\r\n",
      "DOWNSCALE NOT IMPLEMENTED YET on the π\r\n",
      "DOWNSCALE NOT IMPLEMENTED YET on the π\r\n",
      "DOWNSCALE NOT IMPLEMENTED YET on the π\r\n",
      " 🍺 FPS = 101.674925227 +/- 1.09410535037 (in frames per second)\r\n",
      "Downscale = 1 \r\n",
      " 🍺 FPS = 101.11415142 +/- 1.42972336134 (in frames per second)\r\n"
     ]
    }
   ],
   "source": [
    "! ssh pi@10.164.5.24 'cd LeCheapEyeTracker/dev/ && python test_fps.py' "
   ]
  }
 ],
 "metadata": {
  "kernelspec": {
   "display_name": "Python 3",
   "language": "python",
   "name": "python3"
  },
  "language_info": {
   "codemirror_mode": {
    "name": "ipython",
    "version": 3
   },
   "file_extension": ".py",
   "mimetype": "text/x-python",
   "name": "python",
   "nbconvert_exporter": "python",
   "pygments_lexer": "ipython3",
   "version": "3.5.1"
  }
 },
 "nbformat": 4,
 "nbformat_minor": 0
}
