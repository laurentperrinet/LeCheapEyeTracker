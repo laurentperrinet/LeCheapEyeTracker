{
 "cells": [
  {
   "cell_type": "markdown",
   "metadata": {},
   "source": [
    "Updating code oin the π:"
   ]
  },
  {
   "cell_type": "code",
   "execution_count": 4,
   "metadata": {
    "collapsed": false
   },
   "outputs": [
    {
     "name": "stdout",
     "output_type": "stream",
     "text": [
      "From https://github.com/meduz/openRetina\n",
      "   4b92bca..a6d69e9  master     -> origin/master\n",
      "Updating 4b92bca..a6d69e9\n",
      "Fast-forward\n",
      " src/openRetina.py | 33 ++++++---------------------------\n",
      " 1 file changed, 6 insertions(+), 27 deletions(-)\n",
      "On branch master\n",
      "Your branch is up-to-date with 'origin/master'.\n",
      "nothing to commit, working directory clean\n"
     ]
    }
   ],
   "source": [
    "\n",
    "! ssh pi@10.164.5.24 'cd openRetina && git pull; git status' \n"
   ]
  },
  {
   "cell_type": "code",
   "execution_count": 6,
   "metadata": {
    "collapsed": false
   },
   "outputs": [
    {
     "name": "stdout",
     "output_type": "stream",
     "text": [
      "Updating cc9b287..4af679e\n",
      "Fast-forward\n",
      " ...-04_LeCheapEyeTracker_rapsberry \\317\\200.ipynb\" | 167 ++++-------------\n",
      " ...6-01-06_LeCheapEyeTracker_PicameraTesting.ipynb |  11 +-\n",
      " ...-01-07_LeCheapEyeTracker_GrabbingOneFrame.ipynb | 197 +++++++++++----------\n",
      " ...1-08_LeCheapEyeTracker_Camera_statsMacOSX.ipynb | 130 ++++----------\n",
      " ...LeCheapEyeTracker_Camera_statsRaspberryPi.ipynb |  12 ++\n",
      " dev/pi_test_fps.py                                 |  23 ---\n",
      " dev/test_fps.py                                    |  30 ++++\n",
      " 7 files changed, 220 insertions(+), 350 deletions(-)\n",
      " delete mode 100644 dev/pi_test_fps.py\n",
      " create mode 100644 dev/test_fps.py\n",
      "On branch master\n",
      "Your branch is up-to-date with 'origin/master'.\n",
      "nothing to commit, working directory clean\n"
     ]
    }
   ],
   "source": [
    "\n",
    "! ssh pi@10.164.5.24 'cd LeCheapEyeTracker && git pull; git status' \n"
   ]
  },
  {
   "cell_type": "markdown",
   "metadata": {},
   "source": [
    "Testing the π:"
   ]
  },
  {
   "cell_type": "code",
   "execution_count": 7,
   "metadata": {
    "collapsed": false
   },
   "outputs": [
    {
     "name": "stdout",
     "output_type": "stream",
     "text": [
      "  File \"test_fps.py\", line 24\r\n",
      "SyntaxError: Non-ASCII character '\\xf0' in file test_fps.py on line 24, but no encoding declared; see http://python.org/dev/peps/pep-0263/ for details\r\n"
     ]
    }
   ],
   "source": [
    "\n",
    "! ssh pi@10.164.5.24 'cd LeCheapEyeTracker/dev/ && python test_fps.py' \n"
   ]
  },
  {
   "cell_type": "code",
   "execution_count": null,
   "metadata": {
    "collapsed": true
   },
   "outputs": [],
   "source": [
    "N = 100\n",
    "ctime = np.zeros(N)\n",
    "start = time.time()\n",
    "cam = PhotoReceptor()\n",
    "for i in range(N):\n",
    "    img = cam.grab()\n",
    "    ctime[i] = time.time() - start\n",
    "cam.close()"
   ]
  },
  {
   "cell_type": "code",
   "execution_count": null,
   "metadata": {
    "collapsed": true
   },
   "outputs": [],
   "source": [
    "plt.plot(ctime[1:], np.diff(ctime)*1000, '+')\n",
    "plt.xlabel('time (s)')\n",
    "plt.ylabel('inter-frame interval(ms)')\n",
    "_ = plt.axis('tight')\n",
    "print ('FPS : ',  N/(ctime[-1]-ctime[0]))"
   ]
  }
 ],
 "metadata": {
  "kernelspec": {
   "display_name": "Python 3",
   "language": "python",
   "name": "python3"
  },
  "language_info": {
   "codemirror_mode": {
    "name": "ipython",
    "version": 3
   },
   "file_extension": ".py",
   "mimetype": "text/x-python",
   "name": "python",
   "nbconvert_exporter": "python",
   "pygments_lexer": "ipython3",
   "version": "3.5.1"
  }
 },
 "nbformat": 4,
 "nbformat_minor": 0
}
