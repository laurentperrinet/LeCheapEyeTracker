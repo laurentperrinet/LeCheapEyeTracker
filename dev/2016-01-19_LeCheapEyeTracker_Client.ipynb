{
 "cells": [
  {
   "cell_type": "markdown",
   "metadata": {},
   "source": [
    "## LeCheapEyeTracker will be a client-server soft. \n",
    "\n",
    "#### The client generates screen appearing in front of the subject and capture eye-state (left or right)"
   ]
  },
  {
   "cell_type": "code",
   "execution_count": 1,
   "metadata": {},
   "outputs": [
    {
     "name": "stderr",
     "output_type": "stream",
     "text": [
      "/usr/local/lib/python3.5/site-packages/matplotlib/__init__.py:872: UserWarning: axes.color_cycle is deprecated and replaced with axes.prop_cycle; please use the latter.\n",
      "  warnings.warn(self.msg_depr % (key, alt_key))\n"
     ]
    }
   ],
   "source": [
    "%matplotlib inline\n",
    "%load_ext autoreload\n",
    "%autoreload 2"
   ]
  },
  {
   "cell_type": "markdown",
   "metadata": {},
   "source": [
    "### Vispy is a library allowing screens generation, useful to make a psychophysic app"
   ]
  },
  {
   "cell_type": "code",
   "execution_count": 2,
   "metadata": {},
   "outputs": [
    {
     "name": "stdout",
     "output_type": "stream",
     "text": [
      "Overwriting LeCheapEyeTracker_Client.py\n"
     ]
    }
   ],
   "source": [
    "%%writefile LeCheapEyeTracker_Client.py\n",
    "\n",
    "import numpy as np\n",
    "import zmq\n",
    "\n",
    "from vispy import app\n",
    "from vispy import gloo\n",
    "from LeCheapEyeTracker import *"
   ]
  },
  {
   "cell_type": "markdown",
   "metadata": {},
   "source": [
    "### Client needs stimulation data from the server\n",
    "\n",
    "#### Here, i make some test with zeroMQ http://zguide.zeromq.org/py:all"
   ]
  },
  {
   "cell_type": "code",
   "execution_count": 4,
   "metadata": {},
   "outputs": [
    {
     "name": "stdout",
     "output_type": "stream",
     "text": [
      "Appending to LeCheapEyeTracker_Client.py\n"
     ]
    }
   ],
   "source": [
    "%%writefile -a LeCheapEyeTracker_Client.py\n",
    "\n",
    "context = zmq.Context()\n",
    "\n",
    "# Socket to talk to server\n",
    "print(\"Connecting to hello world server…\")\n",
    "socket = context.socket(zmq.REQ)\n",
    "socket.connect(\"tcp://localhost:5555\")\n",
    "\n",
    "# Do 10 requests, waiting each time for a response\n",
    "for request in range(10):\n",
    "    print(\"Sending request %s …\" % request)\n",
    "    socket.send(b\"Hello\")\n",
    "\n",
    "    # Get the reply.\n",
    "    message = socket.recv()\n",
    "    print(\"Received reply %s [ %s ]\" % (request, message))\n",
    "\n",
    "#eyeT = LeCheapEyeTracker()\n",
    "#scene = Canvas(eyeT, )"
   ]
  },
  {
   "cell_type": "code",
   "execution_count": 5,
   "metadata": {},
   "outputs": [
    {
     "name": "stdout",
     "output_type": "stream",
     "text": [
      "Connecting to hello world server…\n",
      "Sending request 0 …\n",
      "Received reply 0 [ b'World' ]\n",
      "Sending request 1 …\n",
      "Received reply 1 [ b'World' ]\n",
      "Sending request 2 …\n",
      "Received reply 2 [ b'World' ]\n",
      "Sending request 3 …\n",
      "Received reply 3 [ b'World' ]\n",
      "Sending request 4 …\n",
      "Received reply 4 [ b'World' ]\n",
      "Sending request 5 …\n",
      "Received reply 5 [ b'World' ]\n",
      "Sending request 6 …\n",
      "Received reply 6 [ b'World' ]\n",
      "Sending request 7 …\n",
      "Received reply 7 [ b'World' ]\n",
      "Sending request 8 …\n",
      "Received reply 8 [ b'World' ]\n",
      "Sending request 9 …\n",
      "Received reply 9 [ b'World' ]\n"
     ]
    }
   ],
   "source": [
    "%run LeCheapEyeTracker_Client.py"
   ]
  },
  {
   "cell_type": "markdown",
   "metadata": {},
   "source": [
    "#### Seems to work well !!!"
   ]
  },
  {
   "cell_type": "code",
   "execution_count": null,
   "metadata": {
    "collapsed": true
   },
   "outputs": [],
   "source": []
  }
 ],
 "metadata": {
  "kernelspec": {
   "display_name": "Python 3",
   "language": "python",
   "name": "python3"
  },
  "language_info": {
   "codemirror_mode": {
    "name": "ipython",
    "version": 3
   },
   "file_extension": ".py",
   "mimetype": "text/x-python",
   "name": "python",
   "nbconvert_exporter": "python",
   "pygments_lexer": "ipython3",
   "version": "3.6.4"
  },
  "toc": {
   "nav_menu": {},
   "number_sections": true,
   "sideBar": true,
   "skip_h1_title": false,
   "toc_cell": false,
   "toc_position": {},
   "toc_section_display": "block",
   "toc_window_display": false
  }
 },
 "nbformat": 4,
 "nbformat_minor": 1
}
