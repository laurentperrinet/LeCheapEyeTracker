{
 "cells": [
  {
   "cell_type": "code",
   "execution_count": 9,
   "metadata": {
    "collapsed": false
   },
   "outputs": [
    {
     "name": "stdout",
     "output_type": "stream",
     "text": [
      "The autoreload extension is already loaded. To reload it, use:\n",
      "  %reload_ext autoreload\n"
     ]
    }
   ],
   "source": [
    "%matplotlib inline\n",
    "%load_ext autoreload\n",
    "%autoreload 2"
   ]
  },
  {
   "cell_type": "code",
   "execution_count": 10,
   "metadata": {
    "collapsed": true
   },
   "outputs": [],
   "source": [
    "import LeCheapEyeTracker"
   ]
  },
  {
   "cell_type": "markdown",
   "metadata": {},
   "source": [
    "## The use of relative path to process eye image and classifier xml may bring some troubles to share LeCheapEyeTracker. \n",
    "\n",
    "## Here, we try to avoid these, saving the xml and png into a python file."
   ]
  },
  {
   "cell_type": "markdown",
   "metadata": {},
   "source": [
    "https://docs.python.org/3/tutorial/introduction.html#strings"
   ]
  },
  {
   "cell_type": "markdown",
   "metadata": {},
   "source": [
    "### Creating a string variable that will be in __init__.py to create a save of xml..."
   ]
  },
  {
   "cell_type": "code",
   "execution_count": 17,
   "metadata": {
    "collapsed": false
   },
   "outputs": [],
   "source": [
    "my_string = \"\"\"\n",
    "#! /usr/bin/env python3\n",
    "# -*- coding: utf-8 -*-\n",
    "\"\"\"\n",
    "\n",
    "my_string += \"\\n\"\n",
    "\n",
    "#with open('../src/__init__.py', 'r') as f:\n",
    "#    for line in f.readlines():\n",
    "#        my_string += line\n",
    "\n",
    "my_string += \"from .LeCheapEyeTracker import * \\n\"\n",
    "my_string += \"\\n\"          \n",
    "my_string += 'xml_string = \"\"\" \\n '\n",
    "\n",
    "with open('../src/haarcascade_frontalface_default.xml', 'r') as f:\n",
    "    for line in f.readlines():\n",
    "        my_string += line\n",
    "\n",
    "my_string += '\"\"\" '"
   ]
  },
  {
   "cell_type": "markdown",
   "metadata": {},
   "source": [
    "### ...and eye png file. We need to encode pngfile into bytes...\n",
    "http://www.programcreek.com/2013/09/convert-image-to-string-in-python/"
   ]
  },
  {
   "cell_type": "code",
   "execution_count": 18,
   "metadata": {
    "collapsed": false
   },
   "outputs": [],
   "source": [
    "my_string += \"\\n\\n\"\n",
    "my_string += 'png_string = \"'\n",
    "\n",
    "import base64\n",
    "\n",
    "with open(\"../src/my_eye.png\", \"rb\") as image_file:\n",
    "    temp_string = base64.b64encode(image_file.read())"
   ]
  },
  {
   "cell_type": "markdown",
   "metadata": {},
   "source": [
    "### ...and decode bytes to utf-8 string."
   ]
  },
  {
   "cell_type": "code",
   "execution_count": 19,
   "metadata": {
    "collapsed": false
   },
   "outputs": [],
   "source": [
    "my_string += temp_string.decode(\"utf-8\")\n",
    "my_string += '\"'"
   ]
  },
  {
   "cell_type": "raw",
   "metadata": {},
   "source": [
    "print(my_string)"
   ]
  },
  {
   "cell_type": "markdown",
   "metadata": {},
   "source": [
    "### Now we can save the whole thing into python file..."
   ]
  },
  {
   "cell_type": "code",
   "execution_count": 21,
   "metadata": {
    "collapsed": false
   },
   "outputs": [],
   "source": [
    "with open('../src/__init__.py', 'w') as f:\n",
    "    f.write(my_string)"
   ]
  },
  {
   "cell_type": "markdown",
   "metadata": {},
   "source": [
    "## reorganizing how the package is organized\n",
    "\n",
    "      484  rm src/LeCheapEyeTracker.egg-info/ -fr\n",
    "      485  rm src/LeCheapEyeTracker.egg-info -fr\n",
    "      486  ls src/\n",
    "      487  rm src/__pycache__/\n",
    "      488  rm src/__pycache__ -fr\n",
    "      489  rm src/my_eye.png\n",
    "      490  rm src/haarcascade_frontalface_default.xml\n",
    "      491  mkdir src/LeCheapEyeTracker\n",
    "      492  mv src/*py src/LeCheapEyeTracker/\n",
    "      493  rm -fr src/.ipynb_checkpoints\n",
    "      494  ls -R src/\n",
    "      495  pip3 uninstall -y  LeCheapEyeTracker\n",
    "      496  pip3 install --user .\n",
    "      497  ls  /Users/davidarbib/Library/Python/3.5/lib/python/site-packages/LeCheapEyeTracker/\n",
    "      498  pip3 uninstall -y  LeCheapEyeTracker\n",
    "      499  pip3 install --user -e .\n",
    "      500  ls  /Users/davidarbib/Library/Python/3.5/lib/python/site-packages/\n",
    "      501  cp src/LeCheapEyeTracker/EyeTrackerServer.py src/LeCheapEyeTracker/EyeTrackerClient.py\n",
    "      502  git s\n"
   ]
  },
  {
   "cell_type": "code",
   "execution_count": 3,
   "metadata": {
    "collapsed": false
   },
   "outputs": [
    {
     "name": "stdout",
     "output_type": "stream",
     "text": [
      "On branch master\r\n",
      "Your branch is up-to-date with 'origin/master'.\r\n",
      "Changes not staged for commit:\r\n",
      "  (use \"git add/rm <file>...\" to update what will be committed)\r\n",
      "  (use \"git checkout -- <file>...\" to discard changes in working directory)\r\n",
      "\r\n",
      "\t\u001b[32mmodified:   2016-01-20_LeCheapEyeTracker_AvoidingPathProblem.ipynb\u001b[m\r\n",
      "\t\u001b[32mmodified:   ../setup.py\u001b[m\r\n",
      "\t\u001b[32mdeleted:    ../src/LeCheapEyeTracker.py\u001b[m\r\n",
      "\t\u001b[32mdeleted:    ../src/__init__.py\u001b[m\r\n",
      "\t\u001b[32mdeleted:    ../src/haarcascade_frontalface_default.xml\u001b[m\r\n",
      "\t\u001b[32mdeleted:    ../src/my_eye.png\u001b[m\r\n",
      "\r\n",
      "Untracked files:\r\n",
      "  (use \"git add <file>...\" to include in what will be committed)\r\n",
      "\r\n",
      "\t\u001b[36m2016-01-21_LeCheapEyeTracker_AvoidingPathProblem.ipynb\u001b[m\r\n",
      "\t\u001b[36m../src/LeCheapEyeTracker/\u001b[m\r\n",
      "\r\n",
      "no changes added to commit (use \"git add\" and/or \"git commit -a\")\r\n"
     ]
    }
   ],
   "source": [
    "!git status"
   ]
  },
  {
   "cell_type": "code",
   "execution_count": 7,
   "metadata": {
    "collapsed": true
   },
   "outputs": [],
   "source": [
    "!git add  ../src/LeCheapEyeTracker"
   ]
  },
  {
   "cell_type": "code",
   "execution_count": 15,
   "metadata": {
    "collapsed": false
   },
   "outputs": [
    {
     "name": "stdout",
     "output_type": "stream",
     "text": [
      "On branch master\r\n",
      "Your branch is up-to-date with 'origin/master'.\r\n",
      "Changes to be committed:\r\n",
      "  (use \"git reset HEAD <file>...\" to unstage)\r\n",
      "\r\n",
      "\t\u001b[33mnew file:   ../src/LeCheapEyeTracker/EyeTrackerClient.py\u001b[m\r\n",
      "\t\u001b[33mnew file:   ../src/LeCheapEyeTracker/EyeTrackerServer.py\u001b[m\r\n",
      "\t\u001b[33mnew file:   ../src/LeCheapEyeTracker/__init__.py\u001b[m\r\n",
      "\t\u001b[33mnew file:   ../src/LeCheapEyeTracker/constants.py\u001b[m\r\n",
      "\r\n",
      "Changes not staged for commit:\r\n",
      "  (use \"git add/rm <file>...\" to update what will be committed)\r\n",
      "  (use \"git checkout -- <file>...\" to discard changes in working directory)\r\n",
      "\r\n",
      "\t\u001b[32mmodified:   2016-01-20_LeCheapEyeTracker_AvoidingPathProblem.ipynb\u001b[m\r\n",
      "\t\u001b[32mmodified:   ../setup.py\u001b[m\r\n",
      "\t\u001b[32mdeleted:    ../src/LeCheapEyeTracker.py\u001b[m\r\n",
      "\t\u001b[32mdeleted:    ../src/__init__.py\u001b[m\r\n",
      "\t\u001b[32mdeleted:    ../src/haarcascade_frontalface_default.xml\u001b[m\r\n",
      "\t\u001b[32mdeleted:    ../src/my_eye.png\u001b[m\r\n",
      "\r\n",
      "Untracked files:\r\n",
      "  (use \"git add <file>...\" to include in what will be committed)\r\n",
      "\r\n",
      "\t\u001b[36m2016-01-21_LeCheapEyeTracker_AvoidingPathProblem.ipynb\u001b[m\r\n",
      "\r\n"
     ]
    }
   ],
   "source": [
    "!git status"
   ]
  },
  {
   "cell_type": "code",
   "execution_count": 14,
   "metadata": {
    "collapsed": false
   },
   "outputs": [
    {
     "name": "stdout",
     "output_type": "stream",
     "text": [
      "fatal: pathspec '../src/LeCheapEyeTracker/__pycache__' did not match any files\r\n"
     ]
    }
   ],
   "source": [
    "!git commit -am ' reorganizing how the package is organized '"
   ]
  },
  {
   "cell_type": "code",
   "execution_count": null,
   "metadata": {
    "collapsed": true
   },
   "outputs": [],
   "source": []
  }
 ],
 "metadata": {
  "kernelspec": {
   "display_name": "Python 3",
   "language": "python",
   "name": "python3"
  },
  "language_info": {
   "codemirror_mode": {
    "name": "ipython",
    "version": 3
   },
   "file_extension": ".py",
   "mimetype": "text/x-python",
   "name": "python",
   "nbconvert_exporter": "python",
   "pygments_lexer": "ipython3",
   "version": "3.5.1"
  }
 },
 "nbformat": 4,
 "nbformat_minor": 0
}
