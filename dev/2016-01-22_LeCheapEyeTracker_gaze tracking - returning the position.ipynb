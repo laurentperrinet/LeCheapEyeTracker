{
 "cells": [
  {
   "cell_type": "markdown",
   "metadata": {
    "button": false,
    "new_sheet": false,
    "run_control": {
     "read_only": false
    }
   },
   "source": [
    "## tracking the detected pupil\n",
    "\n"
   ]
  },
  {
   "cell_type": "code",
   "execution_count": 1,
   "metadata": {
    "ExecuteTime": {
     "end_time": "2018-03-17T10:26:53.244559Z",
     "start_time": "2018-03-17T10:26:52.555554Z"
    },
    "button": false,
    "new_sheet": false,
    "run_control": {
     "read_only": false
    }
   },
   "outputs": [],
   "source": [
    "%load_ext autoreload\n",
    "%autoreload 2\n",
    "import numpy as np\n",
    "np.set_printoptions(precision=2, suppress=True)\n",
    "# define plots to be inserted interactively\n",
    "import matplotlib.pyplot as plt\n",
    "%matplotlib inline"
   ]
  },
  {
   "cell_type": "markdown",
   "metadata": {
    "button": false,
    "new_sheet": false,
    "run_control": {
     "read_only": false
    }
   },
   "source": [
    "## testing first the client without an eye tracker\n"
   ]
  },
  {
   "cell_type": "code",
   "execution_count": 2,
   "metadata": {
    "ExecuteTime": {
     "end_time": "2018-03-17T10:26:53.483827Z",
     "start_time": "2018-03-17T10:26:53.247088Z"
    }
   },
   "outputs": [
    {
     "name": "stdout",
     "output_type": "stream",
     "text": [
      "/Users/laurentperrinet/research/Shared/2018-03-19_StageL3/LeCheapEyeTracker/src/LeCheapEyeTracker/haarcascade_frontalface_default.xml\n"
     ]
    }
   ],
   "source": [
    "from LeCheapEyeTracker import Server, Client"
   ]
  },
  {
   "cell_type": "code",
   "execution_count": 3,
   "metadata": {
    "ExecuteTime": {
     "end_time": "2018-03-17T10:26:54.002561Z",
     "start_time": "2018-03-17T10:26:53.492360Z"
    }
   },
   "outputs": [
    {
     "name": "stderr",
     "output_type": "stream",
     "text": [
      "/usr/local/lib/python3.6/site-packages/ipykernel_launcher.py:15: DeprecationWarning: object of type <class 'float'> cannot be safely interpreted as an integer.\n",
      "  from ipykernel import kernelapp as app\n"
     ]
    },
    {
     "ename": "TypeError",
     "evalue": "__init__() got an unexpected keyword argument 'stim'",
     "output_type": "error",
     "traceback": [
      "\u001b[0;31m---------------------------------------------------------------------------\u001b[0m",
      "\u001b[0;31mTypeError\u001b[0m                                 Traceback (most recent call last)",
      "\u001b[0;32m<ipython-input-3-6d3fc2e18db7>\u001b[0m in \u001b[0;36m<module>\u001b[0;34m()\u001b[0m\n\u001b[1;32m     13\u001b[0m \u001b[0;34m\u001b[0m\u001b[0m\n\u001b[1;32m     14\u001b[0m \u001b[0mfps\u001b[0m \u001b[0;34m=\u001b[0m \u001b[0;36m100\u001b[0m\u001b[0;34m\u001b[0m\u001b[0m\n\u001b[0;32m---> 15\u001b[0;31m \u001b[0mscreen\u001b[0m \u001b[0;34m=\u001b[0m \u001b[0mClient\u001b[0m\u001b[0;34m(\u001b[0m\u001b[0met\u001b[0m\u001b[0;34m=\u001b[0m\u001b[0;32mNone\u001b[0m\u001b[0;34m,\u001b[0m \u001b[0mstim\u001b[0m\u001b[0;34m=\u001b[0m\u001b[0mstim\u001b[0m\u001b[0;34m,\u001b[0m \u001b[0mtimeline\u001b[0m\u001b[0;34m=\u001b[0m\u001b[0mnp\u001b[0m\u001b[0;34m.\u001b[0m\u001b[0mlinspace\u001b[0m\u001b[0;34m(\u001b[0m\u001b[0;36m0\u001b[0m\u001b[0;34m,\u001b[0m \u001b[0;36m3.\u001b[0m\u001b[0;34m,\u001b[0m \u001b[0;36m3.\u001b[0m\u001b[0;34m*\u001b[0m\u001b[0mfps\u001b[0m\u001b[0;34m)\u001b[0m\u001b[0;34m)\u001b[0m\u001b[0;34m\u001b[0m\u001b[0m\n\u001b[0m\u001b[1;32m     16\u001b[0m \u001b[0mapp\u001b[0m\u001b[0;34m.\u001b[0m\u001b[0mrun\u001b[0m\u001b[0;34m(\u001b[0m\u001b[0;34m)\u001b[0m\u001b[0;34m\u001b[0m\u001b[0m\n",
      "\u001b[0;31mTypeError\u001b[0m: __init__() got an unexpected keyword argument 'stim'"
     ]
    }
   ],
   "source": [
    "import cv2\n",
    "import time\n",
    "from vispy import app\n",
    "import numpy as np\n",
    "\n",
    "img0 = np.zeros((780, 1280, 3)).astype(np.uint8)\n",
    "H, W, three = img0.shape\n",
    "\n",
    "def stim(t):\n",
    "    img = img0.copy()\n",
    "    img = cv2.circle(img, (W//2, H//2), 12, (0,0,255), -1)\n",
    "    return img\n",
    "\n",
    "fps = 100\n",
    "screen = Client(et=None, stim=stim, timeline=np.linspace(0, 3., 3.*fps))\n",
    "app.run()\n"
   ]
  },
  {
   "cell_type": "code",
   "execution_count": null,
   "metadata": {
    "ExecuteTime": {
     "end_time": "2018-03-17T10:26:54.004517Z",
     "start_time": "2018-03-17T10:26:52.523Z"
    },
    "button": false,
    "new_sheet": false,
    "run_control": {
     "read_only": false
    }
   },
   "outputs": [],
   "source": [
    "%%writefile calibration_fixation.py\n",
    "import cv2\n",
    "import time\n",
    "from LeCheapEyeTracker import Server, Client\n",
    "from vispy import app\n",
    "import numpy as np\n",
    "\n",
    "et = Server()\n",
    "img0 = et.cam.grab()\n",
    "def stim(t):\n",
    "    img0 = et.cam.grab()\n",
    "    H, W, three = img0.shape\n",
    "    img = img0.copy()\n",
    "    img = cv2.circle(img, (W//2, H//2), 12, (0,0,255), -1)\n",
    "    return img\n",
    "\n",
    "screen = Client(et, stim, np.linspace(0, 3., 100))\n",
    "app.run()\n",
    "et.close()"
   ]
  },
  {
   "cell_type": "markdown",
   "metadata": {
    "button": false,
    "new_sheet": false,
    "run_control": {
     "read_only": false
    }
   },
   "source": [
    "## and now... let's calibrate\n",
    "\n",
    "we grab 42 frames. why 42? I recommend to not move the head (hold them in your hands) and to look at the led of your webcam. when it's lit, move your eyes evenly on the screen."
   ]
  },
  {
   "cell_type": "code",
   "execution_count": null,
   "metadata": {
    "ExecuteTime": {
     "end_time": "2018-03-17T10:26:54.012504Z",
     "start_time": "2018-03-17T10:26:52.526Z"
    },
    "button": false,
    "new_sheet": false,
    "run_control": {
     "read_only": false
    }
   },
   "outputs": [],
   "source": [
    "%%writefile calibration_fixation.py\n",
    "import cv2\n",
    "import time\n",
    "from LeCheapEyeTracker import Server, Client\n",
    "from vispy import app\n",
    "import numpy as np\n",
    "\n",
    "N_frame = 42\n",
    "et = Server()\n",
    "img0 = et.cam.grab()\n",
    "def stim(t):\n",
    "    img0 = et.cam.grab()\n",
    "    H, W, three = img0.shape\n",
    "    img = img0.copy()\n",
    "    img = cv2.circle(img, (W//2, H//2), 12, (0,0,255), -1)\n",
    "    return img\n",
    "\n",
    "screen = Client(et, stim, np.linspace(0, 3., 100))\n",
    "app.run()\n",
    "et.close()"
   ]
  },
  {
   "cell_type": "code",
   "execution_count": null,
   "metadata": {
    "ExecuteTime": {
     "end_time": "2018-03-17T10:26:54.017125Z",
     "start_time": "2018-03-17T10:26:52.529Z"
    },
    "button": false,
    "new_sheet": false,
    "run_control": {
     "read_only": false
    }
   },
   "outputs": [],
   "source": [
    "%run calibration_fixation.py"
   ]
  },
  {
   "cell_type": "code",
   "execution_count": null,
   "metadata": {
    "ExecuteTime": {
     "end_time": "2018-03-17T10:26:54.029105Z",
     "start_time": "2018-03-17T10:26:52.533Z"
    },
    "button": false,
    "new_sheet": false,
    "run_control": {
     "read_only": false
    }
   },
   "outputs": [],
   "source": [
    "%%writefile calibration_horizontal.py\n",
    "import cv2\n",
    "import time\n",
    "from LeCheapEyeTracker import LeCheapEyeTracker, Canvas\n",
    "from vispy import app\n",
    "import numpy as np\n",
    "\n",
    "N_frame = 42\n",
    "et = LeCheapEyeTracker()\n",
    "img0 = et.cam.grab()\n",
    "H, W, three = img0.shape\n",
    "img0 = np.zeros_like(img0)\n",
    "timeline = np.linspace(0, 8., 100)\n",
    "def stim(t):\n",
    "    img = img0.copy()\n",
    "    pos = W/2 + W/2 * np.sin(2*np.pi*t)\n",
    "    img = cv2.circle(img, (int(pos), H//2), 12, (0,0,255), -1)\n",
    "    return img\n",
    "\n",
    "screen = Canvas(et, (stim, timeline))\n",
    "app.run()\n",
    "et.close()\n",
    "print(screen.et.eye_pos)"
   ]
  },
  {
   "cell_type": "code",
   "execution_count": null,
   "metadata": {
    "ExecuteTime": {
     "end_time": "2018-03-17T10:26:54.037085Z",
     "start_time": "2018-03-17T10:26:52.536Z"
    },
    "button": false,
    "new_sheet": false,
    "run_control": {
     "read_only": false
    }
   },
   "outputs": [],
   "source": [
    "%run calibration_horizontal.py"
   ]
  },
  {
   "cell_type": "code",
   "execution_count": null,
   "metadata": {
    "ExecuteTime": {
     "end_time": "2018-03-17T10:26:54.043456Z",
     "start_time": "2018-03-17T10:26:52.539Z"
    },
    "button": false,
    "new_sheet": false,
    "run_control": {
     "read_only": false
    }
   },
   "outputs": [],
   "source": [
    "\n",
    "pos_true = []\n",
    "timeline = []\n",
    "pos_h, pos_w = [], []\n",
    "t_max = screen.et.eye_pos[-1][1]\n",
    "t_min = screen.et.eye_pos[0][1]\n",
    "print(t_min, t_max)\n",
    "for pos, t0 in screen.et.eye_pos:\n",
    "    pos_true.append(np.sin(2*np.pi*(t0-t_min)/(t_max-t_min)))\n",
    "    pos_w.append(pos[0])\n",
    "    pos_h.append(pos[1]) \n",
    "    timeline.append(t0-t_min)\n",
    "\n",
    "pos_true = np.array(pos_true)\n",
    "print(pos_true)\n",
    "pos_true /= pos_true.max()\n",
    "\n",
    "pos_w = np.array(pos_w)\n",
    "pos_w -= pos_w.mean()\n",
    "pos_w /= pos_w.max()\n",
    "\n",
    "pos_h = np.array(pos_h)\n",
    "pos_h -= pos_h.mean()\n",
    "pos_h /= pos_h.max()\n",
    "\n",
    "fig, axs = plt.subplots(1, 1, figsize=(15, 7.5))\n",
    "axs.plot(timeline, pos_true, 'k')\n",
    "axs.plot(timeline, pos_h, 'b')\n",
    "axs.plot(timeline, pos_w, 'r')\n",
    "axs.axis('tight')"
   ]
  },
  {
   "cell_type": "code",
   "execution_count": null,
   "metadata": {
    "ExecuteTime": {
     "end_time": "2018-03-17T10:26:54.048744Z",
     "start_time": "2018-03-17T10:26:52.543Z"
    },
    "button": false,
    "new_sheet": false,
    "run_control": {
     "read_only": false
    }
   },
   "outputs": [],
   "source": [
    "fig, axs = plt.subplots(1, 1, figsize=(15, 15))\n",
    "axs.plot(pos_true, pos_h, 'b')\n",
    "axs.plot(pos_true, pos_w, 'r')\n",
    "axs.axis('tight')"
   ]
  },
  {
   "cell_type": "markdown",
   "metadata": {
    "button": false,
    "new_sheet": false,
    "run_control": {
     "read_only": false
    }
   },
   "source": [
    "Wow!"
   ]
  }
 ],
 "metadata": {
  "kernelspec": {
   "display_name": "Python 3",
   "language": "python",
   "name": "python3"
  },
  "language_info": {
   "codemirror_mode": {
    "name": "ipython",
    "version": 3
   },
   "file_extension": ".py",
   "mimetype": "text/x-python",
   "name": "python",
   "nbconvert_exporter": "python",
   "pygments_lexer": "ipython3",
   "version": "3.6.4"
  },
  "toc": {
   "nav_menu": {},
   "number_sections": true,
   "sideBar": true,
   "skip_h1_title": false,
   "toc_cell": false,
   "toc_position": {},
   "toc_section_display": "block",
   "toc_window_display": false
  }
 },
 "nbformat": 4,
 "nbformat_minor": 1
}
