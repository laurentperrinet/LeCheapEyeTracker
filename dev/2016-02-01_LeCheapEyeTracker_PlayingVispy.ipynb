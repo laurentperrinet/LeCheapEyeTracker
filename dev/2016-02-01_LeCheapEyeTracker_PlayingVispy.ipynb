{
 "cells": [
  {
   "cell_type": "code",
   "execution_count": 4,
   "metadata": {
    "collapsed": false
   },
   "outputs": [],
   "source": [
    "%load_ext autoreload\n",
    "%autoreload 2"
   ]
  },
  {
   "cell_type": "markdown",
   "metadata": {},
   "source": [
    "## We need a better comprehension of Vispy, and OpenGL, to make desired vizualizations properly. http://vispy.org/resources.html"
   ]
  },
  {
   "cell_type": "code",
   "execution_count": 5,
   "metadata": {
    "collapsed": true
   },
   "outputs": [],
   "source": [
    "from vispy import app\n",
    "from vispy import gloo\n",
    "import numpy as np\n",
    "from LeCheapEyeTracker import Client, Server, Stimulation\n",
    "import time"
   ]
  },
  {
   "cell_type": "markdown",
   "metadata": {},
   "source": [
    "### How to make multiple layers of display?"
   ]
  },
  {
   "cell_type": "code",
   "execution_count": 6,
   "metadata": {
    "collapsed": false
   },
   "outputs": [],
   "source": [
    "vertex = \"\"\"\n",
    "    attribute vec2 position;\n",
    "    attribute vec2 texcoord;\n",
    "    varying vec2 v_texcoord;\n",
    "    void main(){\n",
    "        gl_Position = vec4(position, 0.0, 1.0);\n",
    "        v_texcoord = texcoord;\n",
    "    }\n",
    "\"\"\"\n",
    "\n",
    "fragment = \"\"\"\n",
    "    uniform sampler2D texture1;\n",
    "    uniform sampler2D texture2;\n",
    "    varying vec2 v_texcoord;\n",
    "    void main(){\n",
    "        gl_FragColor = texture2D(texture1, v_texcoord);\n",
    "        gl_FragColor = texture2D(texture2, v_texcoord);\n",
    "    }\n",
    "\"\"\""
   ]
  },
  {
   "cell_type": "code",
   "execution_count": 6,
   "metadata": {
    "collapsed": false
   },
   "outputs": [],
   "source": [
    "class TestClient(Client):\n",
    "    def on_draw(self.event):\n",
    "        gloo.clear('black')\n",
    "        if time.time()-self.start < self.timeline.max():\n",
    "            stim = self.stimulation.get_stimulus(t0 = self.start, t = time.time())\n",
    "        "
   ]
  },
  {
   "cell_type": "code",
   "execution_count": 7,
   "metadata": {
    "collapsed": false
   },
   "outputs": [
    {
     "name": "stdout",
     "output_type": "stream",
     "text": [
      "[master e961b60] greater comprehension of vispy and openGL\r\n",
      " 1 file changed, 17 insertions(+), 14 deletions(-)\r\n"
     ]
    }
   ],
   "source": [
    "! git commit -am 'greater comprehension of vispy and openGL'"
   ]
  },
  {
   "cell_type": "code",
   "execution_count": 8,
   "metadata": {
    "collapsed": false
   },
   "outputs": [
    {
     "name": "stdout",
     "output_type": "stream",
     "text": [
      "Counting objects: 4, done.\n",
      "Delta compression using up to 8 threads.\n",
      "Compressing objects: 100% (4/4), done.\n",
      "Writing objects: 100% (4/4), 638 bytes | 0 bytes/s, done.\n",
      "Total 4 (delta 3), reused 0 (delta 0)\n",
      "To https://github.com/meduz/LeCheapEyeTracker\n",
      "   3bd4894..e961b60  master -> master\n"
     ]
    }
   ],
   "source": [
    "! git push"
   ]
  },
  {
   "cell_type": "code",
   "execution_count": null,
   "metadata": {
    "collapsed": true
   },
   "outputs": [],
   "source": []
  }
 ],
 "metadata": {
  "kernelspec": {
   "display_name": "Python 3",
   "language": "python",
   "name": "python3"
  },
  "language_info": {
   "codemirror_mode": {
    "name": "ipython",
    "version": 3
   },
   "file_extension": ".py",
   "mimetype": "text/x-python",
   "name": "python",
   "nbconvert_exporter": "python",
   "pygments_lexer": "ipython3",
   "version": "3.5.1"
  }
 },
 "nbformat": 4,
 "nbformat_minor": 0
}
