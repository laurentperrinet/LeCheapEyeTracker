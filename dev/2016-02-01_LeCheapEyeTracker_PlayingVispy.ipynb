{
 "cells": [
  {
   "cell_type": "code",
   "execution_count": null,
   "metadata": {
    "ExecuteTime": {
     "end_time": "2018-03-17T10:27:19.289030Z",
     "start_time": "2018-03-17T10:27:19.248124Z"
    }
   },
   "outputs": [],
   "source": [
    "%load_ext autoreload\n",
    "%autoreload 2"
   ]
  },
  {
   "cell_type": "markdown",
   "metadata": {},
   "source": [
    "## We need a better comprehension of Vispy, and OpenGL, to make desired vizualizations properly. http://vispy.org/resources.html"
   ]
  },
  {
   "cell_type": "code",
   "execution_count": null,
   "metadata": {
    "ExecuteTime": {
     "end_time": "2018-03-17T10:27:20.303845Z",
     "start_time": "2018-03-17T10:27:19.934810Z"
    }
   },
   "outputs": [],
   "source": [
    "from vispy import app\n",
    "from vispy import gloo\n",
    "import numpy as np\n",
    "from LeCheapEyeTracker import Client, Server, Stimulation\n",
    "import time\n",
    "import cv2"
   ]
  },
  {
   "cell_type": "markdown",
   "metadata": {},
   "source": [
    "### How to make multiple layers of display?"
   ]
  },
  {
   "cell_type": "code",
   "execution_count": null,
   "metadata": {
    "ExecuteTime": {
     "end_time": "2018-03-17T10:27:21.912959Z",
     "start_time": "2018-03-17T10:27:21.880387Z"
    }
   },
   "outputs": [],
   "source": [
    "vertex = \"\"\"\n",
    "    attribute vec2 position;\n",
    "    attribute vec2 texcoord;\n",
    "    varying vec2 v_texcoord;\n",
    "    void main(){\n",
    "        gl_Position = vec4(position, 0.0, 1.0);\n",
    "        v_texcoord = texcoord;\n",
    "    }\n",
    "\"\"\"\n",
    "\n",
    "fragment = \"\"\"\n",
    "    uniform sampler2D texture1;\n",
    "    uniform sampler2D texture2;\n",
    "    varying vec2 v_texcoord;\n",
    "    void main(){\n",
    "        gl_FragColor = texture2D(texture1, v_texcoord);\n",
    "        gl_FragColor = texture2D(texture2, v_texcoord);\n",
    "    }\n",
    "\"\"\""
   ]
  },
  {
   "cell_type": "code",
   "execution_count": null,
   "metadata": {
    "ExecuteTime": {
     "end_time": "2018-03-17T10:27:23.207035Z",
     "start_time": "2018-03-17T10:27:23.086796Z"
    }
   },
   "outputs": [],
   "source": [
    "class Test(app.Canvas):\n",
    "    def init(self, timeline):\n",
    "        self.timeline = timeline\n",
    "        app.use_app('pyglet')\n",
    "        app.Canvas.__init__(self, keys='interactive', size=(1280, 720))\n",
    "        self.fullscreen = True\n",
    "        self.width, self.height = self.physical_size\n",
    "        self.prog = gloo.Program(vertex, fragment, count=4)\n",
    "        self.prog['position'] = [(-1, 1), (-1, 1), (1, -1), (1, 1)]\n",
    "        self.prog['texcoord'] = [(1, 1), (1, 0), (0, 1), (0, 0)]\n",
    "        self.img0 = np.zeros((self.height, self.width), 3).astype(np.uint8)\n",
    "        self.prog['texture1'] = self.img0\n",
    "        gloo.set_viewport(0, 0, self.width, self.height)\n",
    "        self._timer = app.Timer('auto', connect=self.on_timer, start=True)\n",
    "        self.start = time.time()\n",
    "        self.show()\n",
    "    \n",
    "    def on_draw(self, event):\n",
    "        gloo.clear('black')\n",
    "        self.prog.draw('triangle_strip')\n",
    "        \n",
    "    def on_timer(self, event):\n",
    "        if time.time()-self.start <self.timeline.max():\n",
    "            circle = cv2.circle(self.img0.copy(), (1200, 360), 4, (255, 0, 0), 2)\n",
    "            self.prog['texture1'] = circle\n",
    "            self.update()\n",
    "        else :\n",
    "            self.close()\n",
    "            \n",
    "            "
   ]
  },
  {
   "cell_type": "code",
   "execution_count": null,
   "metadata": {
    "ExecuteTime": {
     "end_time": "2018-03-17T10:27:24.674027Z",
     "start_time": "2018-03-17T10:27:24.107506Z"
    }
   },
   "outputs": [],
   "source": [
    "T = 5.\n",
    "screen = Test(np.linspace(0, T, T*30))\n",
    "screen.app.run()\n"
   ]
  },
  {
   "cell_type": "code",
   "execution_count": null,
   "metadata": {},
   "outputs": [],
   "source": [
    "! git commit -am 'greater comprehension of vispy and openGL'"
   ]
  },
  {
   "cell_type": "code",
   "execution_count": null,
   "metadata": {},
   "outputs": [],
   "source": [
    "! git push"
   ]
  },
  {
   "cell_type": "code",
   "execution_count": null,
   "metadata": {},
   "outputs": [],
   "source": []
  }
 ],
 "metadata": {
  "kernelspec": {
   "display_name": "Python 3",
   "language": "python",
   "name": "python3"
  },
  "language_info": {
   "codemirror_mode": {
    "name": "ipython",
    "version": 3
   },
   "file_extension": ".py",
   "mimetype": "text/x-python",
   "name": "python",
   "nbconvert_exporter": "python",
   "pygments_lexer": "ipython3",
   "version": "3.6.4"
  },
  "toc": {
   "nav_menu": {},
   "number_sections": true,
   "sideBar": true,
   "skip_h1_title": false,
   "toc_cell": false,
   "toc_position": {},
   "toc_section_display": "block",
   "toc_window_display": false
  }
 },
 "nbformat": 4,
 "nbformat_minor": 1
}
