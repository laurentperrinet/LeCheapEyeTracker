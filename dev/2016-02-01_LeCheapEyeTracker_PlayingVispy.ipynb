{
 "cells": [
  {
   "cell_type": "code",
   "execution_count": 1,
   "metadata": {
    "collapsed": false
   },
   "outputs": [],
   "source": [
    "%load_ext autoreload\n",
    "%autoreload 2"
   ]
  },
  {
   "cell_type": "markdown",
   "metadata": {},
   "source": [
    "## We need a better comprehension of Vispy, especially OpenGL, to make desired vizualizations properly. http://vispy.org/resources.html"
   ]
  },
  {
   "cell_type": "code",
   "execution_count": 2,
   "metadata": {
    "collapsed": true
   },
   "outputs": [],
   "source": [
    "from vispy import app\n",
    "from vispy import gloo\n",
    "import numpy as np\n",
    "from LeCheapEyeTracker import Client, Server, Stimulation"
   ]
  },
  {
   "cell_type": "markdown",
   "metadata": {},
   "source": [
    "### How to make multiple layers of display?"
   ]
  },
  {
   "cell_type": "code",
   "execution_count": 3,
   "metadata": {
    "collapsed": false
   },
   "outputs": [],
   "source": [
    "vertex = \"\"\"\n",
    "    attribute vec2 position;\n",
    "    attribute vec2 texcoord;\n",
    "    varying vec2 v_texcoord;\n",
    "    void main(){\n",
    "        gl_Position = vec4(position, 0.0, 1.0);\n",
    "        v_texcoord = texcoord;\n",
    "    }\n",
    "\"\"\"\n",
    "\n",
    "fragment = \"\"\"\n",
    "    uniform sampler2D texture1;\n",
    "    uniform sampler2D texture2;\n",
    "    varying vec2 v_texcoord;\n",
    "    void main(){\n",
    "        gl_FragColor = texture2D(texture1, v_texcoord);\n",
    "        gl_FragColor = texture2D(texture2, v_texcoord);\n",
    "    }\n",
    "\"\"\""
   ]
  },
  {
   "cell_type": "code",
   "execution_count": 6,
   "metadata": {
    "collapsed": false
   },
   "outputs": [],
   "source": [
    "class TestClient(Client):\n",
    "    def on_draw(self.event):\n",
    "        gloo.clear('black')"
   ]
  },
  {
   "cell_type": "code",
   "execution_count": 13,
   "metadata": {
    "collapsed": false
   },
   "outputs": [],
   "source": [
    "! git add 2016-02-01_LeCheapEyeTracker_PlayingVispy.ipynb"
   ]
  },
  {
   "cell_type": "code",
   "execution_count": null,
   "metadata": {
    "collapsed": true
   },
   "outputs": [],
   "source": [
    "! git c"
   ]
  }
 ],
 "metadata": {
  "kernelspec": {
   "display_name": "Python 3",
   "language": "python",
   "name": "python3"
  },
  "language_info": {
   "codemirror_mode": {
    "name": "ipython",
    "version": 3
   },
   "file_extension": ".py",
   "mimetype": "text/x-python",
   "name": "python",
   "nbconvert_exporter": "python",
   "pygments_lexer": "ipython3",
   "version": "3.5.1"
  }
 },
 "nbformat": 4,
 "nbformat_minor": 0
}
