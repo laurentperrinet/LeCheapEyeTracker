{
 "cells": [
  {
   "cell_type": "code",
   "execution_count": 1,
   "metadata": {
    "collapsed": false
   },
   "outputs": [
    {
     "name": "stderr",
     "output_type": "stream",
     "text": [
      "/usr/local/lib/python3.5/site-packages/matplotlib/__init__.py:872: UserWarning: axes.color_cycle is deprecated and replaced with axes.prop_cycle; please use the latter.\n",
      "  warnings.warn(self.msg_depr % (key, alt_key))\n"
     ]
    }
   ],
   "source": [
    "%matplotlib inline\n",
    "%load_ext autoreload\n",
    "%autoreload 2"
   ]
  },
  {
   "cell_type": "markdown",
   "metadata": {},
   "source": [
    "# Here, we develop tools to pick up data needed for calibration"
   ]
  },
  {
   "cell_type": "code",
   "execution_count": 2,
   "metadata": {
    "collapsed": true
   },
   "outputs": [],
   "source": [
    "from LeCheapEyeTracker import Client, Server, Stimulation\n",
    "\n",
    "import numpy as np\n",
    "import matplotlib.pyplot as plt\n",
    "import time\n",
    "\n",
    "import cv2\n",
    "from vispy import gloo, app"
   ]
  },
  {
   "cell_type": "markdown",
   "metadata": {},
   "source": [
    "## First, we need to pick up stimuli x_positions."
   ]
  },
  {
   "cell_type": "code",
   "execution_count": 3,
   "metadata": {
    "collapsed": true
   },
   "outputs": [],
   "source": [
    "class NeoStimulation(Stimulation):\n",
    "    def get_stimulus(self, t0, t):\n",
    "        i = int((t-t0)//self.transition_lag)\n",
    "        stim_x, stim_y = self.tabPos[i]\n",
    "        return self.draw_stimulus((stim_x, stim_y)), stim_x"
   ]
  },
  {
   "cell_type": "code",
   "execution_count": 4,
   "metadata": {
    "collapsed": false
   },
   "outputs": [],
   "source": [
    "class NeoClient(Client):\n",
    "    def __init__(self, et, timeline, stim_type = 'calibration'):\n",
    "        Client.__init__(self, et, timeline, stim_type)\n",
    "        self.stimulation = NeoStimulation(self.width, self.height, stim_type = stim_type)\n",
    "        self.stims_posX = np.array([])\n",
    "        self.stims_time = np.array([])\n",
    "        \n",
    "    def on_draw(self, event):\n",
    "        gloo.clear('black')\n",
    "        if time.time()-self.start < self.timeline.max():\n",
    "            image, x = self.stimulation.get_stimulus(t0 = self.start, t = time.time())\n",
    "            self.stims_posX = np.append(self.stims_posX, x)\n",
    "            self.stims_time = np.append(self.stims_time, time.time()-self.start)\n",
    "            self.program['texture'][...] = image.astype(np.uint8).reshape((self.height, self.width, 3))\n",
    "            self.program.draw('triangle_strip')\n",
    "        else:\n",
    "            self.close()"
   ]
  },
  {
   "cell_type": "code",
   "execution_count": 5,
   "metadata": {
    "collapsed": false
   },
   "outputs": [
    {
     "name": "stdout",
     "output_type": "stream",
     "text": [
      "window size :  (2560, 1440)\n",
      "could not grab a frame / detect the eyes position\n",
      "could not grab a frame / detect the eyes position\n",
      "could not grab a frame / detect the eyes position\n",
      "could not grab a frame / detect the eyes position\n",
      "could not grab a frame / detect the eyes position\n",
      "could not grab a frame / detect the eyes position\n",
      "could not grab a frame / detect the eyes position\n",
      "could not grab a frame / detect the eyes position\n",
      "could not grab a frame / detect the eyes position\n",
      "could not grab a frame / detect the eyes position\n",
      "could not grab a frame / detect the eyes position\n",
      "could not grab a frame / detect the eyes position\n",
      "could not grab a frame / detect the eyes position\n",
      "could not grab a frame / detect the eyes position\n",
      "could not grab a frame / detect the eyes position\n",
      "could not grab a frame / detect the eyes position\n",
      "could not grab a frame / detect the eyes position\n",
      "could not grab a frame / detect the eyes position\n",
      "could not grab a frame / detect the eyes position\n",
      "could not grab a frame / detect the eyes position\n",
      "could not grab a frame / detect the eyes position\n",
      "could not grab a frame / detect the eyes position\n",
      "could not grab a frame / detect the eyes position\n",
      "could not grab a frame / detect the eyes position\n",
      "could not grab a frame / detect the eyes position\n",
      "could not grab a frame / detect the eyes position\n",
      "could not grab a frame / detect the eyes position\n",
      "could not grab a frame / detect the eyes position\n",
      "could not grab a frame / detect the eyes position\n",
      "could not grab a frame / detect the eyes position\n",
      "could not grab a frame / detect the eyes position\n",
      "could not grab a frame / detect the eyes position\n",
      "could not grab a frame / detect the eyes position\n",
      "could not grab a frame / detect the eyes position\n",
      "could not grab a frame / detect the eyes position\n",
      "could not grab a frame / detect the eyes position\n",
      "could not grab a frame / detect the eyes position\n",
      "could not grab a frame / detect the eyes position\n",
      "could not grab a frame / detect the eyes position\n",
      "could not grab a frame / detect the eyes position\n",
      "could not grab a frame / detect the eyes position\n",
      "could not grab a frame / detect the eyes position\n",
      "could not grab a frame / detect the eyes position\n",
      "could not grab a frame / detect the eyes position\n",
      "could not grab a frame / detect the eyes position\n",
      "could not grab a frame / detect the eyes position\n",
      "could not grab a frame / detect the eyes position\n",
      "could not grab a frame / detect the eyes position\n",
      "could not grab a frame / detect the eyes position\n",
      "could not grab a frame / detect the eyes position\n",
      "could not grab a frame / detect the eyes position\n",
      "could not grab a frame / detect the eyes position\n",
      "could not grab a frame / detect the eyes position\n",
      "could not grab a frame / detect the eyes position\n",
      "could not grab a frame / detect the eyes position\n",
      "could not grab a frame / detect the eyes position\n",
      "could not grab a frame / detect the eyes position\n",
      "could not grab a frame / detect the eyes position\n",
      "could not grab a frame / detect the eyes position\n",
      "could not grab a frame / detect the eyes position\n",
      "could not grab a frame / detect the eyes position\n",
      "could not grab a frame / detect the eyes position\n",
      "could not grab a frame / detect the eyes position\n",
      "could not grab a frame / detect the eyes position\n",
      "could not grab a frame / detect the eyes position\n",
      "could not grab a frame / detect the eyes position\n",
      "could not grab a frame / detect the eyes position\n",
      "could not grab a frame / detect the eyes position\n",
      "could not grab a frame / detect the eyes position\n",
      "could not grab a frame / detect the eyes position\n",
      "could not grab a frame / detect the eyes position\n",
      "could not grab a frame / detect the eyes position\n",
      "could not grab a frame / detect the eyes position\n",
      "could not grab a frame / detect the eyes position\n",
      "could not grab a frame / detect the eyes position\n",
      "could not grab a frame / detect the eyes position\n",
      "could not grab a frame / detect the eyes position\n",
      "could not grab a frame / detect the eyes position\n",
      "could not grab a frame / detect the eyes position\n",
      "could not grab a frame / detect the eyes position\n",
      "could not grab a frame / detect the eyes position\n",
      "could not grab a frame / detect the eyes position\n",
      "could not grab a frame / detect the eyes position\n",
      "could not grab a frame / detect the eyes position\n",
      "could not grab a frame / detect the eyes position\n",
      "could not grab a frame / detect the eyes position\n",
      "could not grab a frame / detect the eyes position\n",
      "could not grab a frame / detect the eyes position\n",
      "could not grab a frame / detect the eyes position\n",
      "could not grab a frame / detect the eyes position\n",
      "could not grab a frame / detect the eyes position\n",
      "could not grab a frame / detect the eyes position\n",
      "could not grab a frame / detect the eyes position\n",
      "could not grab a frame / detect the eyes position\n",
      "could not grab a frame / detect the eyes position\n",
      "could not grab a frame / detect the eyes position\n",
      "could not grab a frame / detect the eyes position\n",
      "could not grab a frame / detect the eyes position\n",
      "could not grab a frame / detect the eyes position\n",
      "could not grab a frame / detect the eyes position\n",
      "could not grab a frame / detect the eyes position\n",
      "could not grab a frame / detect the eyes position\n",
      "could not grab a frame / detect the eyes position\n",
      "could not grab a frame / detect the eyes position\n",
      "could not grab a frame / detect the eyes position\n",
      "could not grab a frame / detect the eyes position\n",
      "could not grab a frame / detect the eyes position\n",
      "could not grab a frame / detect the eyes position\n",
      "could not grab a frame / detect the eyes position\n",
      "could not grab a frame / detect the eyes position\n",
      "could not grab a frame / detect the eyes position\n",
      "could not grab a frame / detect the eyes position\n",
      "could not grab a frame / detect the eyes position\n",
      "could not grab a frame / detect the eyes position\n",
      "could not grab a frame / detect the eyes position\n",
      "could not grab a frame / detect the eyes position\n",
      "could not grab a frame / detect the eyes position\n",
      "could not grab a frame / detect the eyes position\n",
      "could not grab a frame / detect the eyes position\n",
      "could not grab a frame / detect the eyes position\n",
      "could not grab a frame / detect the eyes position\n",
      "could not grab a frame / detect the eyes position\n",
      "could not grab a frame / detect the eyes position\n",
      "could not grab a frame / detect the eyes position\n",
      "could not grab a frame / detect the eyes position\n",
      "could not grab a frame / detect the eyes position\n",
      "could not grab a frame / detect the eyes position\n",
      "could not grab a frame / detect the eyes position\n",
      "could not grab a frame / detect the eyes position\n",
      "could not grab a frame / detect the eyes position\n",
      "could not grab a frame / detect the eyes position\n",
      "could not grab a frame / detect the eyes position\n",
      "could not grab a frame / detect the eyes position\n",
      "could not grab a frame / detect the eyes position\n",
      "could not grab a frame / detect the eyes position\n",
      "could not grab a frame / detect the eyes position\n",
      "could not grab a frame / detect the eyes position\n",
      "could not grab a frame / detect the eyes position\n",
      "could not grab a frame / detect the eyes position\n"
     ]
    },
    {
     "name": "stderr",
     "output_type": "stream",
     "text": [
      "/usr/local/lib/python3.5/site-packages/IPython/config.py:13: ShimWarning: The `IPython.config` package has been deprecated. You should import from traitlets.config instead.\n",
      "  \"You should import from traitlets.config instead.\", ShimWarning)\n"
     ]
    }
   ],
   "source": [
    "fps = 100\n",
    "screen = NeoClient(et=Server(), timeline=np.linspace(0, 7., 3.*fps))\n",
    "screen.app.run()"
   ]
  },
  {
   "cell_type": "code",
   "execution_count": 1,
   "metadata": {
    "collapsed": false
   },
   "outputs": [
    {
     "ename": "NameError",
     "evalue": "name 'screen' is not defined",
     "output_type": "error",
     "traceback": [
      "\u001b[0;31m---------------------------------------------------------------------------\u001b[0m",
      "\u001b[0;31mNameError\u001b[0m                                 Traceback (most recent call last)",
      "\u001b[0;32m<ipython-input-1-60b5d5aabe3a>\u001b[0m in \u001b[0;36m<module>\u001b[0;34m()\u001b[0m\n\u001b[0;32m----> 1\u001b[0;31m \u001b[0mprint\u001b[0m \u001b[0;34m(\u001b[0m\u001b[0mscreen\u001b[0m\u001b[0;34m.\u001b[0m\u001b[0mstims_posX\u001b[0m\u001b[0;34m)\u001b[0m\u001b[0;34m\u001b[0m\u001b[0m\n\u001b[0m",
      "\u001b[0;31mNameError\u001b[0m: name 'screen' is not defined"
     ]
    }
   ],
   "source": [
    "print (screen.stims_posX)"
   ]
  },
  {
   "cell_type": "code",
   "execution_count": 7,
   "metadata": {
    "collapsed": false
   },
   "outputs": [
    {
     "name": "stdout",
     "output_type": "stream",
     "text": [
      "[ 0.04832721  0.18893123  0.24525309  0.29833722  0.34892821  0.397717\n",
      "  0.44847703  0.49935508  0.54888105  0.59722114  0.64776111  0.69792104\n",
      "  0.74575305  0.79595923  0.84384704  0.89471102  0.94559908  0.99697208\n",
      "  1.04664707  1.09458423  1.14400721  1.19219422  1.24113607  1.29004216\n",
      "  1.34031701  1.39271212  1.44327116  1.49134803  1.54073811  1.58882308\n",
      "  1.63816524  1.68598819  1.73526907  1.78330207  1.83330512  1.88466406\n",
      "  1.93097305  1.98071909  2.02742314  2.07724619  2.12501001  2.17569208\n",
      "  2.22299504  2.27259612  2.31959105  2.36979103  2.42026901  2.46813416\n",
      "  2.51899314  2.56877017  2.617872    2.66729903  2.71878505  2.7689271\n",
      "  2.8165791   2.86729622  2.91488218  2.96456814  3.01259613  3.06282711\n",
      "  3.1128571   3.16272306  3.211797    3.26184702  3.30936718  3.35887623\n",
      "  3.40629506  3.4560492   3.50359416  3.55280709  3.60138702  3.65030217\n",
      "  3.69770408  3.74701118  3.79514718  3.84516621  3.89565921  3.946527\n",
      "  3.99706602  4.04490113  4.09535718  4.14214301  4.19193411  4.23862219\n",
      "  4.28933907  4.33720922  4.38759017  4.43505216  4.48474622  4.53170013\n",
      "  4.58095121  4.63108921  4.68036723  4.72810912  4.77787209  4.8254931\n",
      "  4.87489104  4.9233191   4.97312713  5.02111101  5.0701282   5.1186192\n",
      "  5.167804    5.21605515  5.26524615  5.31350017  5.36430621  5.41565323\n",
      "  5.46488023  5.51341319  5.5621171   5.60999012  5.65892315  5.7100811\n",
      "  5.75697613  5.80725217  5.8546381   5.90502119  5.9521451   6.00249219\n",
      "  6.05037403  6.10013723  6.14721513  6.19743919  6.24755907  6.29473615\n",
      "  6.34457707  6.39244914  6.44279408  6.49320912  6.5410502   6.59119511\n",
      "  6.63979912  6.68965316  6.73745823  6.78761721  6.83756304  6.88573122\n",
      "  6.93586922  6.98418808]\n"
     ]
    }
   ],
   "source": [
    "print (screen.stims_time)"
   ]
  },
  {
   "cell_type": "markdown",
   "metadata": {},
   "source": [
    "## Time to pick up eye x_positions"
   ]
  },
  {
   "cell_type": "code",
   "execution_count": 8,
   "metadata": {
    "collapsed": false
   },
   "outputs": [
    {
     "name": "stdout",
     "output_type": "stream",
     "text": [
      "[]\n"
     ]
    }
   ],
   "source": [
    "print (screen.et.eye_pos)"
   ]
  },
  {
   "cell_type": "markdown",
   "metadata": {},
   "source": [
    "Ooops"
   ]
  },
  {
   "cell_type": "code",
   "execution_count": 9,
   "metadata": {
    "collapsed": false
   },
   "outputs": [
    {
     "name": "stdout",
     "output_type": "stream",
     "text": [
      "[master 7c57ff3] have to fix processing frame\r\n",
      " 1 file changed, 77 insertions(+), 5 deletions(-)\r\n"
     ]
    }
   ],
   "source": [
    "! git commit -am 'have to fix processing frame'"
   ]
  },
  {
   "cell_type": "code",
   "execution_count": 10,
   "metadata": {
    "collapsed": false
   },
   "outputs": [
    {
     "name": "stdout",
     "output_type": "stream",
     "text": [
      "Counting objects: 4, done.\n",
      "Delta compression using up to 8 threads.\n",
      "Compressing objects: 100% (4/4), done.\n",
      "Writing objects: 100% (4/4), 1.38 KiB | 0 bytes/s, done.\n",
      "Total 4 (delta 3), reused 0 (delta 0)\n",
      "To https://github.com/meduz/LeCheapEyeTracker\n",
      "   38d8acc..7c57ff3  master -> master\n"
     ]
    }
   ],
   "source": [
    "! git push"
   ]
  },
  {
   "cell_type": "code",
   "execution_count": null,
   "metadata": {
    "collapsed": true
   },
   "outputs": [],
   "source": []
  }
 ],
 "metadata": {
  "kernelspec": {
   "display_name": "Python 3",
   "language": "python",
   "name": "python3"
  },
  "language_info": {
   "codemirror_mode": {
    "name": "ipython",
    "version": 3
   },
   "file_extension": ".py",
   "mimetype": "text/x-python",
   "name": "python",
   "nbconvert_exporter": "python",
   "pygments_lexer": "ipython3",
   "version": "3.5.1"
  }
 },
 "nbformat": 4,
 "nbformat_minor": 0
}
