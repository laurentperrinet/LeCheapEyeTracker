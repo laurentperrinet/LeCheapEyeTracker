{
 "cells": [
  {
   "cell_type": "code",
   "execution_count": 1,
   "metadata": {
    "collapsed": false
   },
   "outputs": [
    {
     "name": "stderr",
     "output_type": "stream",
     "text": [
      "/usr/local/lib/python3.5/site-packages/matplotlib/__init__.py:872: UserWarning: axes.color_cycle is deprecated and replaced with axes.prop_cycle; please use the latter.\n",
      "  warnings.warn(self.msg_depr % (key, alt_key))\n"
     ]
    }
   ],
   "source": [
    "%matplotlib inline\n",
    "%load_ext autoreload\n",
    "%autoreload 2"
   ]
  },
  {
   "cell_type": "markdown",
   "metadata": {},
   "source": [
    "# Here, we develop tools to pick up data needed for calibration"
   ]
  },
  {
   "cell_type": "code",
   "execution_count": 2,
   "metadata": {
    "collapsed": true
   },
   "outputs": [],
   "source": [
    "from LeCheapEyeTracker import Client, Server, Stimulation\n",
    "\n",
    "import numpy as np\n",
    "import matplotlib.pyplot as plt\n",
    "import time\n",
    "\n",
    "import cv2\n",
    "from vispy import gloo, app"
   ]
  },
  {
   "cell_type": "markdown",
   "metadata": {},
   "source": [
    "## First, we need to pick up stimuli x_positions."
   ]
  },
  {
   "cell_type": "code",
   "execution_count": 3,
   "metadata": {
    "collapsed": true
   },
   "outputs": [],
   "source": [
    "class NeoStimulation(Stimulation):\n",
    "    def get_stimulus(self, t0, t):\n",
    "        i = int((t-t0)//self.transition_lag)\n",
    "        stim_x, stim_y = self.tabPos[i]\n",
    "        return self.draw_stimulus((stim_x, stim_y)), stim_x"
   ]
  },
  {
   "cell_type": "code",
   "execution_count": 4,
   "metadata": {
    "collapsed": false
   },
   "outputs": [],
   "source": [
    "class NeoClient(Client):\n",
    "    def __init__(self, et, timeline, stim_type = 'calibration'):\n",
    "        Client.__init__(self, et, timeline, stim_type)\n",
    "        self.stimulation = NeoStimulation(self.width//10, self.height//10, stim_type = stim_type)\n",
    "        self.stims_posX = np.array([])\n",
    "        self.stims_time = np.array([])\n",
    "        \n",
    "    def on_timer(self, event):\n",
    "        if time.time()-self.start < self.timeline.max():\n",
    "            image, x = self.stimulation.get_stimulus(t0 = self.start, t = time.time())\n",
    "            self.stims_posX = np.append(self.stims_posX, x)\n",
    "            self.stims_time = np.append(self.stims_time, time.time()-self.start)\n",
    "            self.program['texture'][...] = image.astype(np.uint8).reshape((self.height//10, self.width//10, 3))\n",
    "        else:\n",
    "            self.close()\n",
    "            \n",
    "        try:\n",
    "            frame = self.et.cam.grab()\n",
    "            if not frame is None:\n",
    "                res, t0 = self.et.process_frame(frame.copy(), self.et.clock())\n",
    "                self.et.eye_pos.append([res, t0])\n",
    "        except Exception as e:\n",
    "            if not self.et is None: print('could not grab a frame / detect the eye position', e)\n",
    "        self.update()"
   ]
  },
  {
   "cell_type": "code",
   "execution_count": 5,
   "metadata": {
    "collapsed": false
   },
   "outputs": [
    {
     "name": "stdout",
     "output_type": "stream",
     "text": [
      "window size :  (2560, 1440)\n"
     ]
    },
    {
     "name": "stderr",
     "output_type": "stream",
     "text": [
      "/usr/local/lib/python3.5/site-packages/IPython/config.py:13: ShimWarning: The `IPython.config` package has been deprecated. You should import from traitlets.config instead.\n",
      "  \"You should import from traitlets.config instead.\", ShimWarning)\n"
     ]
    }
   ],
   "source": [
    "fps = 100\n",
    "screen = NeoClient(et=Server(), timeline=np.linspace(0, 7., 3.*fps))\n",
    "screen.app.run()"
   ]
  },
  {
   "cell_type": "code",
   "execution_count": 6,
   "metadata": {
    "collapsed": false
   },
   "outputs": [
    {
     "name": "stdout",
     "output_type": "stream",
     "text": [
      "[ 0.5   0.5   0.5   0.5   0.5   0.5   0.5   0.5   0.5   0.5   0.5   0.5\n",
      "  0.5   0.5   0.5   0.5   0.5   0.5   0.5   0.5   0.33  0.33  0.33  0.33\n",
      "  0.33  0.33  0.33  0.33  0.33  0.33  0.5   0.5   0.5   0.5   0.5   0.5\n",
      "  0.5   0.5   0.5   0.5   0.5   0.5   0.5   0.5   0.5   0.5   0.5   0.5\n",
      "  0.5   0.5   0.5   0.67  0.67  0.67  0.67  0.67  0.67  0.67  0.67  0.67\n",
      "  0.67  0.5   0.5   0.5   0.5   0.5   0.5   0.5   0.5   0.5   0.5 ]\n"
     ]
    }
   ],
   "source": [
    "print (screen.stims_posX)"
   ]
  },
  {
   "cell_type": "code",
   "execution_count": 7,
   "metadata": {
    "collapsed": false
   },
   "outputs": [
    {
     "name": "stdout",
     "output_type": "stream",
     "text": [
      "[ 0.0080359   0.21070886  0.30880189  0.40617585  0.50434494  0.60163879\n",
      "  0.6984849   0.79486299  0.89438081  0.99377394  1.09113383  1.18709993\n",
      "  1.28624201  1.38180995  1.47755885  1.57289696  1.67100787  1.76659179\n",
      "  1.8632338   1.95922685  2.05540895  2.15175486  2.24612093  2.34197187\n",
      "  2.4405849   2.54352379  2.64248681  2.73925185  2.83481884  2.93466496\n",
      "  3.03413701  3.12969685  3.22494078  3.320575    3.41613483  3.51224899\n",
      "  3.60772395  3.70735097  3.80636287  3.90202785  4.00154281  4.10060191\n",
      "  4.20507097  4.30140281  4.39693689  4.4955759   4.59102178  4.68790579\n",
      "  4.78689981  4.88300395  4.97923589  5.07449889  5.16955686  5.264709\n",
      "  5.36055779  5.45562291  5.55067301  5.65304494  5.74881482  5.84871984\n",
      "  5.945086    6.04027581  6.13626695  6.23224282  6.32825398  6.42334986\n",
      "  6.51855779  6.6143949   6.71331382  6.81226587  6.90771484]\n"
     ]
    }
   ],
   "source": [
    "print (screen.stims_time)"
   ]
  },
  {
   "cell_type": "markdown",
   "metadata": {},
   "source": [
    "## Time to pick up eye x_positions"
   ]
  },
  {
   "cell_type": "code",
   "execution_count": 8,
   "metadata": {
    "collapsed": false
   },
   "outputs": [
    {
     "name": "stdout",
     "output_type": "stream",
     "text": [
      "[[(60.0, 91.0), 527107.101076883], [(61.0, 92.0), 527107.301924379], [(61.0, 93.0), 527107.400197068], [(62.0, 92.0), 527107.497111397], [(59.0, 91.0), 527107.595346874], [(61.0, 90.0), 527107.69248713], [(59.0, 93.0), 527107.789348174], [(63.0, 92.0), 527107.885886786], [(61.0, 94.0), 527107.986363972], [(61.0, 93.0), 527108.085654458], [(62.0, 92.0), 527108.18204646], [(63.0, 91.0), 527108.280793409], [(61.0, 90.0), 527108.377097745], [(61.0, 90.0), 527108.473094574], [(62.0, 93.0), 527108.568687138], [(61.0, 93.0), 527108.665955705], [(63.0, 92.0), 527108.762449343], [(62.0, 93.0), 527108.858486276], [(63.0, 94.0), 527108.954819818], [(63.0, 94.0), 527109.050643476], [(62.0, 93.0), 527109.146372659], [(64.0, 94.0), 527109.242774634], [(61.0, 92.0), 527109.337291108], [(61.0, 92.0), 527109.43516413], [(63.0, 96.0), 527109.534558425], [(61.0, 96.0), 527109.635550403], [(60.0, 93.0), 527109.734530189], [(61.0, 93.0), 527109.830342191], [(59.0, 93.0), 527109.928564231], [(60.0, 95.0), 527110.028002193], [(60.0, 94.0), 527110.125283545], [(59.0, 92.0), 527110.220757408], [(60.0, 95.0), 527110.316351408], [(60.0, 91.0), 527110.412022484], [(59.0, 97.0), 527110.507880593], [(62.0, 95.0), 527110.603784442], [(62.0, 96.0), 527110.699188503], [(59.0, 96.0), 527110.798769626], [(63.0, 94.0), 527110.897768647], [(62.0, 95.0), 527110.993159492], [(66.0, 95.0), 527111.092747776], [(67.0, 95.0), 527111.191834351], [(64.0, 95.0), 527111.296556979], [(63.0, 94.0), 527111.392734783], [(63.0, 94.0), 527111.488071153], [(61.0, 95.0), 527111.586743694], [(61.0, 92.0), 527111.682406555], [(59.0, 93.0), 527111.779334177], [(62.0, 94.0), 527111.878362272], [(60.0, 94.0), 527111.974578088], [(60.0, 94.0), 527112.07065545], [(60.0, 95.0), 527112.166084856], [(60.0, 93.0), 527112.261101327], [(60.0, 93.0), 527112.357003549], [(61.0, 98.0), 527112.452139071], [(63.0, 97.0), 527112.547028719], [(60.0, 100.0), 527112.642138323], [(59.0, 99.0), 527112.744660914], [(64.0, 99.0), 527112.84031415], [(63.0, 99.0), 527112.940128273], [(65.0, 98.0), 527113.036480128], [(65.0, 97.0), 527113.131913741], [(66.0, 98.0), 527113.22776489], [(62.0, 96.0), 527113.32371597], [(63.0, 95.0), 527113.419737622], [(61.0, 96.0), 527113.515270442], [(62.0, 95.0), 527113.610697645], [(62.0, 97.0), 527113.706219899], [(61.0, 96.0), 527113.805135425], [(62.0, 94.0), 527113.904109969], [(60.0, 95.0), 527113.99951892], [(62.0, 95.0), 527114.355606965]]\n"
     ]
    }
   ],
   "source": [
    "print (screen.et.eye_pos)"
   ]
  },
  {
   "cell_type": "markdown",
   "metadata": {},
   "source": [
    "Good !"
   ]
  },
  {
   "cell_type": "code",
   "execution_count": 9,
   "metadata": {
    "collapsed": false
   },
   "outputs": [
    {
     "name": "stdout",
     "output_type": "stream",
     "text": [
      "[master 7c57ff3] have to fix processing frame\r\n",
      " 1 file changed, 77 insertions(+), 5 deletions(-)\r\n"
     ]
    }
   ],
   "source": [
    "! git commit -am 'We have'"
   ]
  },
  {
   "cell_type": "code",
   "execution_count": 10,
   "metadata": {
    "collapsed": false
   },
   "outputs": [
    {
     "name": "stdout",
     "output_type": "stream",
     "text": [
      "Counting objects: 4, done.\n",
      "Delta compression using up to 8 threads.\n",
      "Compressing objects: 100% (4/4), done.\n",
      "Writing objects: 100% (4/4), 1.38 KiB | 0 bytes/s, done.\n",
      "Total 4 (delta 3), reused 0 (delta 0)\n",
      "To https://github.com/meduz/LeCheapEyeTracker\n",
      "   38d8acc..7c57ff3  master -> master\n"
     ]
    }
   ],
   "source": [
    "! git push"
   ]
  },
  {
   "cell_type": "code",
   "execution_count": null,
   "metadata": {
    "collapsed": true
   },
   "outputs": [],
   "source": []
  }
 ],
 "metadata": {
  "kernelspec": {
   "display_name": "Python 3",
   "language": "python",
   "name": "python3"
  },
  "language_info": {
   "codemirror_mode": {
    "name": "ipython",
    "version": 3
   },
   "file_extension": ".py",
   "mimetype": "text/x-python",
   "name": "python",
   "nbconvert_exporter": "python",
   "pygments_lexer": "ipython3",
   "version": "3.5.1"
  }
 },
 "nbformat": 4,
 "nbformat_minor": 0
}
