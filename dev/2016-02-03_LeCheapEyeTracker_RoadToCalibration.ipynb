{
 "cells": [
  {
   "cell_type": "code",
   "execution_count": 1,
   "metadata": {
    "collapsed": false
   },
   "outputs": [
    {
     "name": "stderr",
     "output_type": "stream",
     "text": [
      "/usr/local/lib/python3.5/site-packages/matplotlib/__init__.py:872: UserWarning: axes.color_cycle is deprecated and replaced with axes.prop_cycle; please use the latter.\n",
      "  warnings.warn(self.msg_depr % (key, alt_key))\n"
     ]
    }
   ],
   "source": [
    "%matplotlib inline\n",
    "%load_ext autoreload\n",
    "%autoreload 2"
   ]
  },
  {
   "cell_type": "markdown",
   "metadata": {},
   "source": [
    "# Here, we develop tools to pick up data needed for calibration"
   ]
  },
  {
   "cell_type": "code",
   "execution_count": 2,
   "metadata": {
    "collapsed": true
   },
   "outputs": [],
   "source": [
    "from LeCheapEyeTracker import Client, Server, Stimulation\n",
    "\n",
    "import numpy as np\n",
    "import matplotlib.pyplot as plt\n",
    "import time\n",
    "\n",
    "import cv2\n",
    "from vispy import gloo, app"
   ]
  },
  {
   "cell_type": "markdown",
   "metadata": {},
   "source": [
    "## First, we need to pick up stimuli x_positions."
   ]
  },
  {
   "cell_type": "code",
   "execution_count": 3,
   "metadata": {
    "collapsed": true
   },
   "outputs": [],
   "source": [
    "class NeoStimulation(Stimulation):\n",
    "    def get_stimulus(self, t0, t):\n",
    "        i = int((t-t0)//self.transition_lag)\n",
    "        stim_x, stim_y = self.tabPos[i]\n",
    "        return self.draw_stimulus((stim_x, stim_y)), stim_x"
   ]
  },
  {
   "cell_type": "code",
   "execution_count": 4,
   "metadata": {
    "collapsed": false
   },
   "outputs": [],
   "source": [
    "class NeoClient(Client):\n",
    "    def __init__(self, et, timeline, stim_type = 'calibration'):\n",
    "        Client.__init__(self, et, timeline, stim_type)\n",
    "        self.stimulation = NeoStimulation(self.width, self.height, stim_type = stim_type)\n",
    "        self.stims_posX = np.array([])\n",
    "        self.stims_time = np.array([])\n",
    "        \n",
    "    def on_draw(self, event):\n",
    "        gloo.clear('black')\n",
    "        if time.time()-self.start < self.timeline.max():\n",
    "            image, x = self.stimulation.get_stimulus(t0 = self.start, t = time.time())\n",
    "            self.stims_posX = np.append(self.stims_posX, x)\n",
    "            self.stims_time = np.append(self.stims_time, time.time()-self.start)\n",
    "            self.program['texture'][...] = image.astype(np.uint8).reshape((self.height, self.width, 3))\n",
    "            self.program.draw('triangle_strip')\n",
    "        else:\n",
    "            self.close()"
   ]
  },
  {
   "cell_type": "code",
   "execution_count": 5,
   "metadata": {
    "collapsed": false
   },
   "outputs": [
    {
     "name": "stdout",
     "output_type": "stream",
     "text": [
      "window size :  (2560, 1440)\n",
      "could not grab a frame / detect the eyes position\n",
      "could not grab a frame / detect the eyes position\n",
      "could not grab a frame / detect the eyes position\n",
      "could not grab a frame / detect the eyes position\n",
      "could not grab a frame / detect the eyes position\n",
      "could not grab a frame / detect the eyes position\n",
      "could not grab a frame / detect the eyes position\n",
      "could not grab a frame / detect the eyes position\n",
      "could not grab a frame / detect the eyes position\n",
      "could not grab a frame / detect the eyes position\n",
      "could not grab a frame / detect the eyes position\n",
      "could not grab a frame / detect the eyes position\n",
      "could not grab a frame / detect the eyes position\n",
      "could not grab a frame / detect the eyes position\n",
      "could not grab a frame / detect the eyes position\n",
      "could not grab a frame / detect the eyes position\n",
      "could not grab a frame / detect the eyes position\n",
      "could not grab a frame / detect the eyes position\n",
      "could not grab a frame / detect the eyes position\n",
      "could not grab a frame / detect the eyes position\n",
      "could not grab a frame / detect the eyes position\n",
      "could not grab a frame / detect the eyes position\n",
      "could not grab a frame / detect the eyes position\n",
      "could not grab a frame / detect the eyes position\n",
      "could not grab a frame / detect the eyes position\n",
      "could not grab a frame / detect the eyes position\n",
      "could not grab a frame / detect the eyes position\n",
      "could not grab a frame / detect the eyes position\n",
      "could not grab a frame / detect the eyes position\n",
      "could not grab a frame / detect the eyes position\n",
      "could not grab a frame / detect the eyes position\n",
      "could not grab a frame / detect the eyes position\n",
      "could not grab a frame / detect the eyes position\n",
      "could not grab a frame / detect the eyes position\n",
      "could not grab a frame / detect the eyes position\n",
      "could not grab a frame / detect the eyes position\n",
      "could not grab a frame / detect the eyes position\n",
      "could not grab a frame / detect the eyes position\n",
      "could not grab a frame / detect the eyes position\n",
      "could not grab a frame / detect the eyes position\n",
      "could not grab a frame / detect the eyes position\n",
      "could not grab a frame / detect the eyes position\n",
      "could not grab a frame / detect the eyes position\n",
      "could not grab a frame / detect the eyes position\n",
      "could not grab a frame / detect the eyes position\n",
      "could not grab a frame / detect the eyes position\n",
      "could not grab a frame / detect the eyes position\n",
      "could not grab a frame / detect the eyes position\n",
      "could not grab a frame / detect the eyes position\n",
      "could not grab a frame / detect the eyes position\n",
      "could not grab a frame / detect the eyes position\n",
      "could not grab a frame / detect the eyes position\n",
      "could not grab a frame / detect the eyes position\n",
      "could not grab a frame / detect the eyes position\n",
      "could not grab a frame / detect the eyes position\n",
      "could not grab a frame / detect the eyes position\n",
      "could not grab a frame / detect the eyes position\n",
      "could not grab a frame / detect the eyes position\n",
      "could not grab a frame / detect the eyes position\n",
      "could not grab a frame / detect the eyes position\n",
      "could not grab a frame / detect the eyes position\n",
      "could not grab a frame / detect the eyes position\n",
      "could not grab a frame / detect the eyes position\n",
      "could not grab a frame / detect the eyes position\n",
      "could not grab a frame / detect the eyes position\n",
      "could not grab a frame / detect the eyes position\n",
      "could not grab a frame / detect the eyes position\n",
      "could not grab a frame / detect the eyes position\n",
      "could not grab a frame / detect the eyes position\n",
      "could not grab a frame / detect the eyes position\n",
      "could not grab a frame / detect the eyes position\n",
      "could not grab a frame / detect the eyes position\n",
      "could not grab a frame / detect the eyes position\n",
      "could not grab a frame / detect the eyes position\n",
      "could not grab a frame / detect the eyes position\n",
      "could not grab a frame / detect the eyes position\n",
      "could not grab a frame / detect the eyes position\n",
      "could not grab a frame / detect the eyes position\n",
      "could not grab a frame / detect the eyes position\n",
      "could not grab a frame / detect the eyes position\n",
      "could not grab a frame / detect the eyes position\n",
      "could not grab a frame / detect the eyes position\n",
      "could not grab a frame / detect the eyes position\n",
      "could not grab a frame / detect the eyes position\n",
      "could not grab a frame / detect the eyes position\n",
      "could not grab a frame / detect the eyes position\n",
      "could not grab a frame / detect the eyes position\n",
      "could not grab a frame / detect the eyes position\n",
      "could not grab a frame / detect the eyes position\n",
      "could not grab a frame / detect the eyes position\n",
      "could not grab a frame / detect the eyes position\n",
      "could not grab a frame / detect the eyes position\n",
      "could not grab a frame / detect the eyes position\n",
      "could not grab a frame / detect the eyes position\n",
      "could not grab a frame / detect the eyes position\n",
      "could not grab a frame / detect the eyes position\n",
      "could not grab a frame / detect the eyes position\n",
      "could not grab a frame / detect the eyes position\n",
      "could not grab a frame / detect the eyes position\n",
      "could not grab a frame / detect the eyes position\n",
      "could not grab a frame / detect the eyes position\n",
      "could not grab a frame / detect the eyes position\n",
      "could not grab a frame / detect the eyes position\n",
      "could not grab a frame / detect the eyes position\n",
      "could not grab a frame / detect the eyes position\n",
      "could not grab a frame / detect the eyes position\n",
      "could not grab a frame / detect the eyes position\n",
      "could not grab a frame / detect the eyes position\n",
      "could not grab a frame / detect the eyes position\n",
      "could not grab a frame / detect the eyes position\n",
      "could not grab a frame / detect the eyes position\n",
      "could not grab a frame / detect the eyes position\n",
      "could not grab a frame / detect the eyes position\n",
      "could not grab a frame / detect the eyes position\n",
      "could not grab a frame / detect the eyes position\n",
      "could not grab a frame / detect the eyes position\n",
      "could not grab a frame / detect the eyes position\n",
      "could not grab a frame / detect the eyes position\n",
      "could not grab a frame / detect the eyes position\n",
      "could not grab a frame / detect the eyes position\n",
      "could not grab a frame / detect the eyes position\n",
      "could not grab a frame / detect the eyes position\n",
      "could not grab a frame / detect the eyes position\n",
      "could not grab a frame / detect the eyes position\n",
      "could not grab a frame / detect the eyes position\n",
      "could not grab a frame / detect the eyes position\n",
      "could not grab a frame / detect the eyes position\n",
      "could not grab a frame / detect the eyes position\n",
      "could not grab a frame / detect the eyes position\n",
      "could not grab a frame / detect the eyes position\n",
      "could not grab a frame / detect the eyes position\n",
      "could not grab a frame / detect the eyes position\n",
      "could not grab a frame / detect the eyes position\n",
      "could not grab a frame / detect the eyes position\n",
      "could not grab a frame / detect the eyes position\n",
      "could not grab a frame / detect the eyes position\n"
     ]
    },
    {
     "name": "stderr",
     "output_type": "stream",
     "text": [
      "/usr/local/lib/python3.5/site-packages/IPython/config.py:13: ShimWarning: The `IPython.config` package has been deprecated. You should import from traitlets.config instead.\n",
      "  \"You should import from traitlets.config instead.\", ShimWarning)\n"
     ]
    }
   ],
   "source": [
    "fps = 100\n",
    "screen = NeoClient(et=Server(), timeline=np.linspace(0, 7., 3.*fps))\n",
    "screen.app.run()"
   ]
  },
  {
   "cell_type": "code",
   "execution_count": 6,
   "metadata": {
    "collapsed": false
   },
   "outputs": [
    {
     "name": "stdout",
     "output_type": "stream",
     "text": [
      "[ 0.5   0.5   0.5   0.5   0.5   0.5   0.5   0.5   0.5   0.5   0.5   0.5\n",
      "  0.5   0.5   0.5   0.5   0.5   0.5   0.5   0.5   0.5   0.5   0.5   0.5\n",
      "  0.5   0.5   0.5   0.5   0.5   0.5   0.5   0.5   0.5   0.5   0.5   0.5\n",
      "  0.5   0.33  0.33  0.33  0.33  0.33  0.33  0.33  0.33  0.33  0.33  0.33\n",
      "  0.33  0.33  0.33  0.33  0.33  0.33  0.33  0.33  0.33  0.5   0.5   0.5\n",
      "  0.5   0.5   0.5   0.5   0.5   0.5   0.5   0.5   0.5   0.5   0.5   0.5\n",
      "  0.5   0.5   0.5   0.5   0.5   0.5   0.5   0.5   0.5   0.5   0.5   0.5\n",
      "  0.5   0.5   0.5   0.5   0.5   0.5   0.5   0.5   0.5   0.5   0.5   0.5\n",
      "  0.5   0.67  0.67  0.67  0.67  0.67  0.67  0.67  0.67  0.67  0.67  0.67\n",
      "  0.67  0.67  0.67  0.67  0.67  0.67  0.67  0.67  0.5   0.5   0.5   0.5\n",
      "  0.5   0.5   0.5   0.5   0.5   0.5   0.5   0.5   0.5   0.5   0.5   0.5\n",
      "  0.5   0.5   0.5   0.5 ]\n"
     ]
    }
   ],
   "source": [
    "print (screen.stims_posX)"
   ]
  },
  {
   "cell_type": "code",
   "execution_count": null,
   "metadata": {
    "collapsed": true
   },
   "outputs": [],
   "source": []
  }
 ],
 "metadata": {
  "kernelspec": {
   "display_name": "Python 3",
   "language": "python",
   "name": "python3"
  },
  "language_info": {
   "codemirror_mode": {
    "name": "ipython",
    "version": 3
   },
   "file_extension": ".py",
   "mimetype": "text/x-python",
   "name": "python",
   "nbconvert_exporter": "python",
   "pygments_lexer": "ipython3",
   "version": "3.5.1"
  }
 },
 "nbformat": 4,
 "nbformat_minor": 0
}
