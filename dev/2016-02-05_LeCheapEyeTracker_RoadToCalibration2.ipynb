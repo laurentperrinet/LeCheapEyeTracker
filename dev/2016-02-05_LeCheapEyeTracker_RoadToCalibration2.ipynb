{
 "cells": [
  {
   "cell_type": "code",
   "execution_count": 1,
   "metadata": {},
   "outputs": [
    {
     "name": "stderr",
     "output_type": "stream",
     "text": [
      "/usr/local/lib/python3.5/site-packages/matplotlib/__init__.py:872: UserWarning: axes.color_cycle is deprecated and replaced with axes.prop_cycle; please use the latter.\n",
      "  warnings.warn(self.msg_depr % (key, alt_key))\n"
     ]
    }
   ],
   "source": [
    "%matplotlib inline\n",
    "%load_ext autoreload\n",
    "%autoreload 2"
   ]
  },
  {
   "cell_type": "markdown",
   "metadata": {},
   "source": [
    "## Let's run calibration..."
   ]
  },
  {
   "cell_type": "code",
   "execution_count": 2,
   "metadata": {},
   "outputs": [],
   "source": [
    "import numpy as np\n",
    "import matplotlib.pyplot as plt\n",
    "from LeCheapEyeTracker import Client, Server"
   ]
  },
  {
   "cell_type": "code",
   "execution_count": 3,
   "metadata": {},
   "outputs": [
    {
     "name": "stdout",
     "output_type": "stream",
     "text": [
      "window size :  (2560, 1440)\n",
      "target dynamic :\n",
      " [(0.5, 0.012645959854125977), (0.5, 0.261929988861084), (0.5, 0.3780710697174072), (0.5, 0.49718594551086426), (0.5, 0.6141788959503174), (0.5, 0.7270700931549072), (0.5, 0.842108964920044), (0.5, 0.9559550285339355), (0.67, 1.0684869289398193), (0.67, 1.1839540004730225), (0.67, 1.2968590259552002), (0.67, 1.4119009971618652), (0.67, 1.525386095046997), (0.67, 1.640660047531128), (0.67, 1.7546560764312744), (0.67, 1.8692660331726074), (0.67, 1.9822020530700684), (0.33, 2.096813917160034), (0.33, 2.2102999687194824), (0.33, 2.3241069316864014), (0.33, 2.439352035522461), (0.33, 2.5542869567871094), (0.33, 2.6688249111175537), (0.33, 2.783323049545288), (0.33, 2.89902400970459), (0.67, 3.012115955352783), (0.67, 3.1287291049957275), (0.67, 3.244128942489624), (0.67, 3.358880043029785), (0.67, 3.472256898880005), (0.67, 3.5865490436553955), (0.67, 3.6996800899505615), (0.67, 3.8134419918060303), (0.67, 3.926758050918579), (0.5, 4.042025089263916), (0.5, 4.154606103897095), (0.5, 4.268229007720947), (0.5, 4.3821189403533936), (0.5, 4.495255947113037), (0.5, 4.610055923461914), (0.5, 4.7247209548950195), (0.5, 4.839046955108643), (0.5, 4.9546709060668945), (0.67, 5.067811965942383), (0.67, 5.181188106536865), (0.67, 5.294209003448486), (0.67, 5.408188104629517), (0.67, 5.523052930831909), (0.67, 5.636702060699463), (0.67, 5.752706050872803), (0.67, 5.872464895248413), (0.67, 5.986182928085327), (0.33, 6.099027872085571), (0.33, 6.213840007781982), (0.33, 6.328507900238037), (0.33, 6.443667888641357), (0.33, 6.564733028411865), (0.33, 6.683743000030518), (0.33, 6.799868106842041), (0.33, 6.921176910400391), (0.5, 7.0356199741363525), (0.5, 7.150877952575684), (0.5, 7.2633819580078125), (0.5, 7.377482891082764), (0.5, 7.490011930465698), (0.5, 7.603888034820557), (0.5, 7.718709945678711), (0.5, 7.837892055511475), (0.5, 7.954324007034302), (0.33, 8.067421913146973), (0.33, 8.200740098953247), (0.33, 8.3137788772583), (0.33, 8.427752017974854), (0.33, 8.543678998947144), (0.33, 8.657949924468994), (0.33, 8.772917985916138), (0.33, 8.885883092880249), (0.33, 8.999659061431885)]\n",
      "eye dynamic :\n",
      " [(41.0, 0.1467740535736084), (40.0, 0.3669419288635254), (39.0, 0.48742103576660156), (45.0, 0.603585958480835), (41.0, 0.7178850173950195), (39.0, 0.8319840431213379), (35.0, 0.9465808868408203), (38.0, 1.0594029426574707), (41.0, 1.1747400760650635), (41.0, 1.2879629135131836), (38.0, 1.402029037475586), (38.0, 1.5161828994750977), (41.0, 1.6307520866394043), (37.0, 1.745521068572998), (38.0, 1.859055995941162), (40.0, 1.9730138778686523), (44.0, 2.0869688987731934), (44.0, 2.200556993484497), (42.0, 2.314426898956299), (41.0, 2.4299440383911133), (38.0, 2.5447518825531006), (37.0, 2.6589410305023193), (37.0, 2.7742230892181396), (38.0, 2.889600992202759), (34.0, 3.0030698776245117), (33.0, 3.1187939643859863), (36.0, 3.2347450256347656), (35.0, 3.3489139080047607), (39.0, 3.4633169174194336), (37.0, 3.5768589973449707), (36.0, 3.6905128955841064), (35.0, 3.803581953048706), (34.0, 3.917484998703003), (37.0, 4.032387018203735), (35.0, 4.14515495300293), (35.0, 4.258703947067261), (34.0, 4.37268590927124), (36.0, 4.486330032348633), (36.0, 4.600867033004761), (33.0, 4.715023994445801), (34.0, 4.828890085220337), (34.0, 4.9445390701293945), (36.0, 5.057955026626587), (35.0, 5.171969890594482), (37.0, 5.284801006317139), (36.0, 5.398448944091797), (35.0, 5.514025926589966), (34.0, 5.62718391418457), (35.0, 5.742768049240112), (38.0, 5.861955881118774), (38.0, 5.976912021636963), (38.0, 6.089564085006714), (37.0, 6.204279899597168), (37.0, 6.3192548751831055), (34.0, 6.434468030929565), (34.0, 6.554935932159424), (36.0, 6.673923015594482), (35.0, 6.790657043457031), (36.0, 6.91187596321106), (34.0, 7.026154041290283), (37.0, 7.140917062759399), (36.0, 7.2544028759002686), (35.0, 7.367366075515747), (35.0, 7.480215072631836), (35.0, 7.593950033187866), (37.0, 7.709134101867676), (37.0, 7.8277060985565186), (36.0, 7.945204019546509), (36.0, 8.057806968688965), (34.0, 8.190711975097656), (36.0, 8.304658889770508), (34.0, 8.418556928634644), (34.0, 8.534051895141602), (36.0, 8.64850902557373), (37.0, 8.763339042663574), (35.0, 8.877077102661133), (36.0, 8.990325927734375), (38.0, 9.1028470993042)]\n"
     ]
    },
    {
     "name": "stderr",
     "output_type": "stream",
     "text": [
      "/usr/local/lib/python3.5/site-packages/IPython/config.py:13: ShimWarning: The `IPython.config` package has been deprecated. You should import from traitlets.config instead.\n",
      "  \"You should import from traitlets.config instead.\", ShimWarning)\n"
     ]
    }
   ],
   "source": [
    "fps = 30\n",
    "T = 9.\n",
    "\n",
    "calib = Client(et=Server(), timeline=np.linspace(0, T, T*fps), downscale=2)\n",
    "calib.app.run()\n",
    "calib.et.close()"
   ]
  },
  {
   "cell_type": "code",
   "execution_count": 4,
   "metadata": {},
   "outputs": [
    {
     "name": "stdout",
     "output_type": "stream",
     "text": [
      "True\n"
     ]
    }
   ],
   "source": [
    "stim_x = np.array([])\n",
    "eye_x = np.array([])\n",
    "\n",
    "for stim in calib.stims_X_t:\n",
    "    x, stash = stim\n",
    "    stim_x = np.append(stim_x, x)\n",
    "    \n",
    "for eye in calib.et.eye_x_t:\n",
    "    y, stash = eye\n",
    "    eye_x = np.append(eye_x, y)\n",
    "\n",
    "print (len(stim_x)==len(eye_x))"
   ]
  },
  {
   "cell_type": "markdown",
   "metadata": {},
   "source": [
    "## ...and plot eye and targets x_positions "
   ]
  },
  {
   "cell_type": "code",
   "execution_count": 5,
   "metadata": {},
   "outputs": [
    {
     "data": {
      "image/png": "[encoded data removed]",
      "text/plain": [
       "<matplotlib.figure.Figure at 0x11da7e6a0>"
      ]
     },
     "metadata": {},
     "output_type": "display_data"
    }
   ],
   "source": [
    "plt.plot(stim_x, eye_x, 'ro')\n",
    "plt.xlabel('targets x-pos')\n",
    "plt.ylabel('eye x-pos')\n",
    "plt.show()"
   ]
  },
  {
   "cell_type": "markdown",
   "metadata": {},
   "source": [
    "## We must get the mean of eye position for each stimulus position"
   ]
  },
  {
   "cell_type": "code",
   "execution_count": 6,
   "metadata": {},
   "outputs": [],
   "source": [
    "i = 0\n",
    "center = np.array([])\n",
    "left = np.array([])\n",
    "right = np.array([])\n",
    "\n",
    "while i <= len(stim_x) - 1 :\n",
    "    value = stim_x[i]\n",
    "    if value == 0.33 :\n",
    "        left = np.append(left, eye_x[i])\n",
    "    elif value == 0.5 :\n",
    "        center = np.append(center, eye_x[i])\n",
    "    else :\n",
    "        right = np.append(right, eye_x[i])\n",
    "    i += 1\n",
    "\n",
    "c_mean = np.mean(center)\n",
    "l_mean = np.mean(left)\n",
    "r_mean = np.mean(right)\n",
    "        "
   ]
  },
  {
   "cell_type": "code",
   "execution_count": 7,
   "metadata": {},
   "outputs": [
    {
     "name": "stdout",
     "output_type": "stream",
     "text": [
      "36.56\n"
     ]
    }
   ],
   "source": [
    "print (l_mean)"
   ]
  },
  {
   "cell_type": "code",
   "execution_count": 8,
   "metadata": {},
   "outputs": [
    {
     "data": {
      "image/png": "[encoded data removed]",
      "text/plain": [
       "<matplotlib.figure.Figure at 0x1170a3dd8>"
      ]
     },
     "metadata": {},
     "output_type": "display_data"
    }
   ],
   "source": [
    "plt.plot([0.33, 0.5, 0.67], [l_mean, c_mean, r_mean], 'ro')\n",
    "plt.xlabel('targets x_pos')\n",
    "plt.ylabel('mean eye x_pos')\n",
    "plt.show()"
   ]
  },
  {
   "cell_type": "markdown",
   "metadata": {},
   "source": [
    "! git commit -am 'Much better'"
   ]
  },
  {
   "cell_type": "markdown",
   "metadata": {},
   "source": [
    "! git status"
   ]
  },
  {
   "cell_type": "markdown",
   "metadata": {},
   "source": [
    "! git push"
   ]
  },
  {
   "cell_type": "code",
   "execution_count": null,
   "metadata": {
    "collapsed": true
   },
   "outputs": [],
   "source": []
  }
 ],
 "metadata": {
  "kernelspec": {
   "display_name": "Python 3",
   "language": "python",
   "name": "python3"
  },
  "language_info": {
   "codemirror_mode": {
    "name": "ipython",
    "version": 3
   },
   "file_extension": ".py",
   "mimetype": "text/x-python",
   "name": "python",
   "nbconvert_exporter": "python",
   "pygments_lexer": "ipython3",
   "version": "3.6.4"
  },
  "toc": {
   "nav_menu": {},
   "number_sections": true,
   "sideBar": true,
   "skip_h1_title": false,
   "toc_cell": false,
   "toc_position": {},
   "toc_section_display": "block",
   "toc_window_display": false
  }
 },
 "nbformat": 4,
 "nbformat_minor": 1
}
