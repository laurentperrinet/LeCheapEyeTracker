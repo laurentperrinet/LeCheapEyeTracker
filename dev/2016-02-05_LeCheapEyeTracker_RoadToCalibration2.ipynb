{
 "cells": [
  {
   "cell_type": "code",
   "execution_count": 1,
   "metadata": {
    "collapsed": false
   },
   "outputs": [
    {
     "name": "stderr",
     "output_type": "stream",
     "text": [
      "/usr/local/lib/python3.5/site-packages/matplotlib/__init__.py:872: UserWarning: axes.color_cycle is deprecated and replaced with axes.prop_cycle; please use the latter.\n",
      "  warnings.warn(self.msg_depr % (key, alt_key))\n"
     ]
    }
   ],
   "source": [
    "%matplotlib inline\n",
    "%load_ext autoreload\n",
    "%autoreload 2"
   ]
  },
  {
   "cell_type": "code",
   "execution_count": null,
   "metadata": {
    "collapsed": false,
    "scrolled": true
   },
   "outputs": [],
   "source": [
    "%run ../src/LeCheapEyeTracker/EyeTrackerClient.py"
   ]
  },
  {
   "cell_type": "markdown",
   "metadata": {},
   "source": [
    "## Let's run calibration..."
   ]
  },
  {
   "cell_type": "code",
   "execution_count": 2,
   "metadata": {
    "collapsed": true
   },
   "outputs": [],
   "source": [
    "import numpy as np\n",
    "import matplotlib.pyplot as plt\n",
    "from LeCheapEyeTracker import Client, Server"
   ]
  },
  {
   "cell_type": "code",
   "execution_count": 3,
   "metadata": {
    "collapsed": false
   },
   "outputs": [
    {
     "name": "stdout",
     "output_type": "stream",
     "text": [
      "window size :  (2560, 1440)\n",
      "target dynamic :\n",
      " [ 0.5         0.01736689  0.5         0.22511101  0.5         0.32419586\n",
      "  0.5         0.42129183  0.5         0.5178659   0.5         0.6151278\n",
      "  0.5         0.71141601  0.5         0.80858088  0.5         0.90568185\n",
      "  0.5         1.00293994  0.5         1.10015082  0.5         1.19539189\n",
      "  0.5         1.2919879   0.5         1.38895798  0.5         1.48707891\n",
      "  0.5         1.58418202  0.5         1.68137789  0.5         1.77860689\n",
      "  0.5         1.87503982  0.5         1.97312689  0.33        2.06999588\n",
      "  0.33        2.16644692  0.33        2.26355886  0.33        2.36085987\n",
      "  0.33        2.45739293  0.33        2.55436301  0.33        2.65079904\n",
      "  0.33        2.74629092  0.33        2.84187698  0.33        2.93766785\n",
      "  0.5         3.03354383  0.5         3.12922883  0.5         3.22523904\n",
      "  0.5         3.32012081  0.5         3.4132669   0.5         3.50571489\n",
      "  0.5         3.59920788  0.5         3.69340086  0.5         3.78751302\n",
      "  0.5         3.88102198  0.5         3.97467399  0.5         4.06690383\n",
      "  0.5         4.16115403  0.5         4.25471401  0.5         4.34740996\n",
      "  0.5         4.44027185  0.5         4.53406787  0.5         4.6291399\n",
      "  0.5         4.72472596  0.5         4.81885695  0.5         4.91417599\n",
      "  0.67        5.01062799  0.67        5.10523891  0.67        5.2023809\n",
      "  0.67        5.29739285  0.67        5.39251304  0.67        5.48736596\n",
      "  0.67        5.583848    0.67        5.67892194  0.67        5.77442789\n",
      "  0.67        5.87095284  0.67        5.96804881  0.5         6.06339788\n",
      "  0.5         6.15916491  0.5         6.25373197  0.5         6.35008192\n",
      "  0.5         6.44714403  0.5         6.54286098  0.5         6.63984394\n",
      "  0.5         6.73538685  0.5         6.83178282  0.5         6.92705798]\n",
      "eye dynamic :\n",
      " [ 62.           0.13937688  62.           0.31231594  57.           0.41147089\n",
      "  56.           0.50778985  62.           0.60544181  62.           0.70187593\n",
      "  60.           0.79885602  66.           0.89549994  66.           0.99320102\n",
      "  60.           1.09061599  61.           1.18656802  56.           1.2830348\n",
      "  59.           1.37974     58.           1.47811294  57.           1.57504487\n",
      "  53.           1.67208791  54.           1.76891494  51.           1.86616802\n",
      "  57.           1.96374583  57.           2.06070495  54.           2.15675497\n",
      "  58.           2.253793    61.           2.35122991  61.           2.44756699\n",
      "  60.           2.54444981  63.           2.64130783  60.           2.73733401\n",
      "  59.           2.83303785  58.           2.92881894  59.           3.02439284\n",
      "  62.           3.11981487  61.           3.21609783  59.           3.31075597\n",
      "  58.           3.40352893  60.           3.49667382  61.           3.58981299\n",
      "  60.           3.68438888  61.           3.77841592  64.           3.87137985\n",
      "  58.           3.964854    58.           4.05802798  59.           4.15207791\n",
      "  61.           4.2457509   61.           4.33852887  60.           4.4305079\n",
      "  61.           4.52432299  60.           4.61985898  61.           4.71544695\n",
      "  60.           4.80948091  62.           4.90528488  62.           5.00086284\n",
      "  62.           5.09596181  62.           5.19255686  61.           5.28752685\n",
      "  59.           5.38286495  57.           5.47823095  59.           5.5748179\n",
      "  57.           5.67002797  58.           5.76548481  59.           5.86178398\n",
      "  58.           5.95915699  57.           6.05450296  61.           6.14927483\n",
      "  57.           6.24441886  58.           6.34043002  58.           6.43717504\n",
      "  60.           6.53356099  58.           6.63059688  57.           6.72655487\n",
      "  58.           6.82281399  57.           6.91802788  57.           7.01297283]\n"
     ]
    },
    {
     "name": "stderr",
     "output_type": "stream",
     "text": [
      "/usr/local/lib/python3.5/site-packages/IPython/config.py:13: ShimWarning: The `IPython.config` package has been deprecated. You should import from traitlets.config instead.\n",
      "  \"You should import from traitlets.config instead.\", ShimWarning)\n"
     ]
    }
   ],
   "source": [
    "fps = 30\n",
    "T = 7.\n",
    "\n",
    "calib = Client(et=Server(), timeline=np.linspace(0, T, T*fps), downscale=2)\n",
    "calib.app.run()\n",
    "calib.et.close()"
   ]
  },
  {
   "cell_type": "code",
   "execution_count": 17,
   "metadata": {
    "collapsed": false
   },
   "outputs": [
    {
     "name": "stdout",
     "output_type": "stream",
     "text": [
      "0.139376878738\n"
     ]
    },
    {
     "ename": "TypeError",
     "evalue": "'numpy.float64' object is not iterable",
     "output_type": "error",
     "traceback": [
      "\u001b[0;31m---------------------------------------------------------------------------\u001b[0m",
      "\u001b[0;31mTypeError\u001b[0m                                 Traceback (most recent call last)",
      "\u001b[0;32m<ipython-input-17-1f8b0ff6a203>\u001b[0m in \u001b[0;36m<module>\u001b[0;34m()\u001b[0m\n\u001b[1;32m      5\u001b[0m \u001b[0;34m\u001b[0m\u001b[0m\n\u001b[1;32m      6\u001b[0m \u001b[0;32mfor\u001b[0m \u001b[0mstim\u001b[0m \u001b[0;32min\u001b[0m \u001b[0mcalib\u001b[0m\u001b[0;34m.\u001b[0m\u001b[0mstims_X_t\u001b[0m\u001b[0;34m:\u001b[0m\u001b[0;34m\u001b[0m\u001b[0m\n\u001b[0;32m----> 7\u001b[0;31m     \u001b[0mx\u001b[0m\u001b[0;34m,\u001b[0m \u001b[0mstash\u001b[0m \u001b[0;34m=\u001b[0m \u001b[0mstim\u001b[0m\u001b[0;34m\u001b[0m\u001b[0m\n\u001b[0m\u001b[1;32m      8\u001b[0m     \u001b[0mstim_x\u001b[0m \u001b[0;34m=\u001b[0m \u001b[0mnp\u001b[0m\u001b[0;34m.\u001b[0m\u001b[0mappend\u001b[0m\u001b[0;34m(\u001b[0m\u001b[0mstim_x\u001b[0m\u001b[0;34m,\u001b[0m \u001b[0mx\u001b[0m\u001b[0;34m)\u001b[0m\u001b[0;34m\u001b[0m\u001b[0m\n\u001b[1;32m      9\u001b[0m \u001b[0;34m\u001b[0m\u001b[0m\n",
      "\u001b[0;31mTypeError\u001b[0m: 'numpy.float64' object is not iterable"
     ]
    }
   ],
   "source": [
    "stim_x = np.array([])\n",
    "eye_x = np.array([])\n",
    "\n",
    "print(calib.et.eye_x_t[1])\n",
    "\n",
    "for stim in calib.stims_X_t:\n",
    "    x, stash = stim\n",
    "    stim_x = np.append(stim_x, x)\n",
    "    \n",
    "for eye in calib.et.eye_x_t:\n",
    "    y, stash = eye\n",
    "    eye_x = np.append(eye_x, x)  "
   ]
  },
  {
   "cell_type": "markdown",
   "metadata": {},
   "source": [
    "## ...and plot eye and targets x_positions "
   ]
  },
  {
   "cell_type": "code",
   "execution_count": 13,
   "metadata": {
    "collapsed": false
   },
   "outputs": [
    {
     "data": {
      "text/plain": [
       "<function matplotlib.pyplot.show>"
      ]
     },
     "execution_count": 13,
     "metadata": {},
     "output_type": "execute_result"
    },
    {
     "data": {
      "image/png": "[encoded data removed]",
      "text/plain": [
       "<matplotlib.figure.Figure at 0x1107d63c8>"
      ]
     },
     "metadata": {},
     "output_type": "display_data"
    }
   ],
   "source": [
    "plt.plot(stim_x, eye_x, 'ro')\n",
    "plt.xlabel('targets x-pos')\n",
    "plt.ylabel('eye x-pos')\n",
    "plt.show"
   ]
  },
  {
   "cell_type": "code",
   "execution_count": null,
   "metadata": {
    "collapsed": false
   },
   "outputs": [],
   "source": [
    "! git commit -am 'Should rep plotting yet'"
   ]
  },
  {
   "cell_type": "code",
   "execution_count": null,
   "metadata": {
    "collapsed": true
   },
   "outputs": [],
   "source": []
  },
  {
   "cell_type": "code",
   "execution_count": null,
   "metadata": {
    "collapsed": false
   },
   "outputs": [],
   "source": [
    "! git status"
   ]
  },
  {
   "cell_type": "code",
   "execution_count": null,
   "metadata": {
    "collapsed": false
   },
   "outputs": [],
   "source": [
    "! git push"
   ]
  },
  {
   "cell_type": "code",
   "execution_count": null,
   "metadata": {
    "collapsed": true
   },
   "outputs": [],
   "source": []
  }
 ],
 "metadata": {
  "kernelspec": {
   "display_name": "Python 3",
   "language": "python",
   "name": "python3"
  },
  "language_info": {
   "codemirror_mode": {
    "name": "ipython",
    "version": 3
   },
   "file_extension": ".py",
   "mimetype": "text/x-python",
   "name": "python",
   "nbconvert_exporter": "python",
   "pygments_lexer": "ipython3",
   "version": "3.5.1"
  }
 },
 "nbformat": 4,
 "nbformat_minor": 0
}
