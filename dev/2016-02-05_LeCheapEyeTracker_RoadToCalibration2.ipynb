{
 "cells": [
  {
   "cell_type": "code",
   "execution_count": 1,
   "metadata": {
    "collapsed": false
   },
   "outputs": [
    {
     "name": "stderr",
     "output_type": "stream",
     "text": [
      "/usr/local/lib/python3.5/site-packages/matplotlib/__init__.py:872: UserWarning: axes.color_cycle is deprecated and replaced with axes.prop_cycle; please use the latter.\n",
      "  warnings.warn(self.msg_depr % (key, alt_key))\n"
     ]
    }
   ],
   "source": [
    "%matplotlib inline\n",
    "%load_ext autoreload\n",
    "%autoreload 2"
   ]
  },
  {
   "cell_type": "markdown",
   "metadata": {},
   "source": [
    "## Let's run calibration..."
   ]
  },
  {
   "cell_type": "code",
   "execution_count": 2,
   "metadata": {
    "collapsed": true
   },
   "outputs": [],
   "source": [
    "import numpy as np\n",
    "import matplotlib.pyplot as plt\n",
    "from LeCheapEyeTracker import Client, Server"
   ]
  },
  {
   "cell_type": "code",
   "execution_count": 3,
   "metadata": {
    "collapsed": false
   },
   "outputs": [
    {
     "name": "stdout",
     "output_type": "stream",
     "text": [
      "window size :  (2560, 1440)\n",
      "target dynamic :\n",
      " [(0.5, 0.014667034149169922), (0.5, 0.2224571704864502), (0.5, 0.32680201530456543), (0.5, 0.432279109954834), (0.5, 0.536566972732544), (0.5, 0.6406760215759277), (0.5, 0.74440598487854), (0.5, 0.8487081527709961), (0.5, 0.9529819488525391), (0.5, 1.0573229789733887), (0.5, 1.1598639488220215), (0.5, 1.2625610828399658), (0.5, 1.3661401271820068), (0.5, 1.4711589813232422), (0.5, 1.5750060081481934), (0.5, 1.6781351566314697), (0.5, 1.7824411392211914), (0.5, 1.8851110935211182), (0.5, 1.988847017288208), (0.33, 2.0929131507873535), (0.33, 2.1955759525299072), (0.33, 2.299813985824585), (0.33, 2.403409957885742), (0.33, 2.5065231323242188), (0.33, 2.6091501712799072), (0.33, 2.712779998779297), (0.33, 2.8186049461364746), (0.33, 2.9219810962677), (0.5, 3.025712013244629), (0.5, 3.129183053970337), (0.5, 3.2307770252227783), (0.5, 3.3335580825805664), (0.5, 3.4378249645233154), (0.5, 3.5435791015625), (0.5, 3.6477770805358887), (0.5, 3.7519919872283936), (0.5, 3.855396032333374), (0.5, 3.9580531120300293), (0.5, 4.060727119445801), (0.5, 4.164163112640381), (0.5, 4.268161058425903), (0.5, 4.371607065200806), (0.5, 4.47545599937439), (0.5, 4.579576015472412), (0.5, 4.6833579540252686), (0.5, 4.788396120071411), (0.5, 4.8904869556427), (0.5, 4.999927997589111), (0.67, 5.106516122817993), (0.67, 5.20909309387207), (0.67, 5.312672138214111), (0.67, 5.416649103164673), (0.67, 5.519720077514648), (0.67, 5.623414039611816), (0.67, 5.726135969161987), (0.67, 5.828691005706787), (0.67, 5.931874990463257), (0.5, 6.036849021911621), (0.5, 6.140768051147461), (0.5, 6.246134042739868), (0.5, 6.3499720096588135), (0.5, 6.4542601108551025), (0.5, 6.557078123092651), (0.5, 6.659897089004517), (0.5, 6.7627480030059814), (0.5, 6.866208076477051), (0.5, 6.96909499168396)]\n",
      "eye dynamic :\n",
      " [(45.0, 0.14504694938659668), (46.0, 0.31464314460754395), (60.0, 0.4222850799560547), (58.0, 0.5257680416107178), (60.0, 0.6300790309906006), (60.0, 0.7347521781921387), (56.0, 0.8381061553955078), (58.0, 0.9426591396331787), (58.0, 1.0475759506225586), (53.0, 1.1502101421356201), (54.0, 1.2524621486663818), (52.0, 1.355484962463379), (46.0, 1.4610791206359863), (49.0, 1.5653369426727295), (49.0, 1.6683671474456787), (55.0, 1.7728891372680664), (56.0, 1.8754420280456543), (56.0, 1.9787321090698242), (55.0, 2.0824151039123535), (58.0, 2.1857571601867676), (58.0, 2.289415121078491), (51.0, 2.3939311504364014), (59.0, 2.4967689514160156), (59.0, 2.5996861457824707), (58.0, 2.702923059463501), (59.0, 2.8083481788635254), (62.0, 2.911872148513794), (61.0, 3.0153751373291016), (58.0, 3.1195311546325684), (58.0, 3.221179962158203), (57.0, 3.3242101669311523), (58.0, 3.4282431602478027), (59.0, 3.533208131790161), (56.0, 3.6377551555633545), (60.0, 3.741683006286621), (58.0, 3.8450710773468018), (59.0, 3.9484570026397705), (59.0, 4.051347017288208), (58.0, 4.154384136199951), (58.0, 4.257625102996826), (60.0, 4.361298084259033), (61.0, 4.4656291007995605), (63.0, 4.56988000869751), (62.0, 4.673757076263428), (57.0, 4.778561115264893), (59.0, 4.880898952484131), (61.0, 4.98863410949707), (62.0, 5.096075057983398), (61.0, 5.199548006057739), (61.0, 5.302767992019653), (58.0, 5.4072041511535645), (54.0, 5.509696006774902), (63.0, 5.613254070281982), (62.0, 5.716416120529175), (60.0, 5.818766117095947), (60.0, 5.922230005264282), (61.0, 6.026973009109497), (59.0, 6.131271123886108), (59.0, 6.236087083816528), (58.0, 6.339598178863525), (58.0, 6.443459987640381), (56.0, 6.547165155410767), (59.0, 6.649994134902954), (58.0, 6.7533299922943115), (58.0, 6.8566060066223145), (61.0, 6.95914101600647), (61.0, 7.065423011779785)]\n"
     ]
    },
    {
     "name": "stderr",
     "output_type": "stream",
     "text": [
      "/usr/local/lib/python3.5/site-packages/IPython/config.py:13: ShimWarning: The `IPython.config` package has been deprecated. You should import from traitlets.config instead.\n",
      "  \"You should import from traitlets.config instead.\", ShimWarning)\n"
     ]
    }
   ],
   "source": [
    "fps = 30\n",
    "T = 7.\n",
    "\n",
    "calib = Client(et=Server(), timeline=np.linspace(0, T, T*fps), downscale=2)\n",
    "calib.app.run()\n",
    "calib.et.close()"
   ]
  },
  {
   "cell_type": "code",
   "execution_count": 9,
   "metadata": {
    "collapsed": false
   },
   "outputs": [
    {
     "name": "stdout",
     "output_type": "stream",
     "text": [
      "True\n"
     ]
    }
   ],
   "source": [
    "stim_x = np.array([])\n",
    "eye_x = np.array([])\n",
    "\n",
    "for stim in calib.stims_X_t:\n",
    "    x, stash = stim\n",
    "    stim_x = np.append(stim_x, x)\n",
    "    \n",
    "for eye in calib.et.eye_x_t:\n",
    "    y, stash = eye\n",
    "    eye_x = np.append(eye_x, y)\n",
    "\n",
    "print (len(stim_x)==len(eye_x))"
   ]
  },
  {
   "cell_type": "markdown",
   "metadata": {},
   "source": [
    "## ...and plot eye and targets x_positions "
   ]
  },
  {
   "cell_type": "code",
   "execution_count": 10,
   "metadata": {
    "collapsed": false
   },
   "outputs": [
    {
     "data": {
      "text/plain": [
       "<function matplotlib.pyplot.show>"
      ]
     },
     "execution_count": 10,
     "metadata": {},
     "output_type": "execute_result"
    },
    {
     "data": {
      "image/png": "[encoded data removed]",
      "text/plain": [
       "<matplotlib.figure.Figure at 0x11bf5d128>"
      ]
     },
     "metadata": {},
     "output_type": "display_data"
    }
   ],
   "source": [
    "plt.plot(stim_x, eye_x, 'ro')\n",
    "plt.xlabel('targets x-pos')\n",
    "plt.ylabel('eye x-pos')\n",
    "plt.show"
   ]
  },
  {
   "cell_type": "code",
   "execution_count": 11,
   "metadata": {
    "collapsed": false
   },
   "outputs": [
    {
     "name": "stdout",
     "output_type": "stream",
     "text": [
      "[master 6c076f9] Ckecking the coordinates system of eye location in OpenCV\r\n",
      " 1 file changed, 104 insertions(+), 15 deletions(-)\r\n"
     ]
    }
   ],
   "source": [
    "! git commit -am 'Ckecking the coordinates system of eye location in OpenCV '"
   ]
  },
  {
   "cell_type": "code",
   "execution_count": null,
   "metadata": {
    "collapsed": true
   },
   "outputs": [],
   "source": []
  },
  {
   "cell_type": "code",
   "execution_count": 12,
   "metadata": {
    "collapsed": false
   },
   "outputs": [
    {
     "name": "stdout",
     "output_type": "stream",
     "text": [
      "On branch master\r\n",
      "Your branch is ahead of 'origin/master' by 1 commit.\r\n",
      "  (use \"git push\" to publish your local commits)\r\n",
      "Untracked files:\r\n",
      "  (use \"git add <file>...\" to include in what will be committed)\r\n",
      "\r\n",
      "\t\u001b[36m../src/my_eye.png\u001b[m\r\n",
      "\r\n",
      "nothing added to commit but untracked files present (use \"git add\" to track)\r\n"
     ]
    }
   ],
   "source": [
    "! git status"
   ]
  },
  {
   "cell_type": "code",
   "execution_count": 13,
   "metadata": {
    "collapsed": false
   },
   "outputs": [
    {
     "name": "stdout",
     "output_type": "stream",
     "text": [
      "Counting objects: 4, done.\n",
      "Delta compression using up to 8 threads.\n",
      "Compressing objects: 100% (4/4), done.\n",
      "Writing objects: 100% (4/4), 13.61 KiB | 0 bytes/s, done.\n",
      "Total 4 (delta 2), reused 0 (delta 0)\n",
      "To https://github.com/meduz/LeCheapEyeTracker\n",
      "   676a107..6c076f9  master -> master\n"
     ]
    }
   ],
   "source": [
    "! git push"
   ]
  },
  {
   "cell_type": "code",
   "execution_count": null,
   "metadata": {
    "collapsed": true
   },
   "outputs": [],
   "source": []
  }
 ],
 "metadata": {
  "kernelspec": {
   "display_name": "Python 3",
   "language": "python",
   "name": "python3"
  },
  "language_info": {
   "codemirror_mode": {
    "name": "ipython",
    "version": 3
   },
   "file_extension": ".py",
   "mimetype": "text/x-python",
   "name": "python",
   "nbconvert_exporter": "python",
   "pygments_lexer": "ipython3",
   "version": "3.5.1"
  }
 },
 "nbformat": 4,
 "nbformat_minor": 0
}
