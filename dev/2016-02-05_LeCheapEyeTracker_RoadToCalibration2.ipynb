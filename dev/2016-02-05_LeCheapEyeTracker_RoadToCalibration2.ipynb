{
 "cells": [
  {
   "cell_type": "code",
   "execution_count": 1,
   "metadata": {
    "collapsed": false
   },
   "outputs": [
    {
     "name": "stderr",
     "output_type": "stream",
     "text": [
      "/usr/local/lib/python3.5/site-packages/matplotlib/__init__.py:872: UserWarning: axes.color_cycle is deprecated and replaced with axes.prop_cycle; please use the latter.\n",
      "  warnings.warn(self.msg_depr % (key, alt_key))\n"
     ]
    }
   ],
   "source": [
    "%matplotlib inline\n",
    "%load_ext autoreload\n",
    "%autoreload 2"
   ]
  },
  {
   "cell_type": "markdown",
   "metadata": {},
   "source": [
    "## Let's run calibration..."
   ]
  },
  {
   "cell_type": "code",
   "execution_count": 2,
   "metadata": {
    "collapsed": false
   },
   "outputs": [],
   "source": [
    "import numpy as np\n",
    "import matplotlib.pyplot as plt\n",
    "from LeCheapEyeTracker import Client, Server"
   ]
  },
  {
   "cell_type": "code",
   "execution_count": null,
   "metadata": {
    "collapsed": false
   },
   "outputs": [],
   "source": [
    "fps = 30\n",
    "T = 9.\n",
    "\n",
    "calib = Client(et=Server(), timeline=np.linspace(0, T, T*fps), downscale=2)\n",
    "calib.app.run()\n",
    "calib.et.close()"
   ]
  },
  {
   "cell_type": "code",
   "execution_count": null,
   "metadata": {
    "collapsed": false
   },
   "outputs": [],
   "source": [
    "stim_x = np.array([])\n",
    "eye_x = np.array([])\n",
    "\n",
    "for stim in calib.stims_X_t:\n",
    "    x, stash = stim\n",
    "    stim_x = np.append(stim_x, x)\n",
    "    \n",
    "for eye in calib.et.eye_x_t:\n",
    "    y, stash = eye\n",
    "    eye_x = np.append(eye_x, y)\n",
    "\n",
    "print (len(stim_x)==len(eye_x))"
   ]
  },
  {
   "cell_type": "markdown",
   "metadata": {},
   "source": [
    "## ...and plot eye and targets x_positions "
   ]
  },
  {
   "cell_type": "code",
   "execution_count": null,
   "metadata": {
    "collapsed": false
   },
   "outputs": [],
   "source": [
    "plt.plot(stim_x, eye_x, 'ro')\n",
    "plt.xlabel('targets x-pos')\n",
    "plt.ylabel('eye x-pos')\n",
    "plt.show()"
   ]
  },
  {
   "cell_type": "markdown",
   "metadata": {},
   "source": [
    "## We must get the mean of eye position for each stimulus position"
   ]
  },
  {
   "cell_type": "code",
   "execution_count": null,
   "metadata": {
    "collapsed": false
   },
   "outputs": [],
   "source": [
    "i = 0\n",
    "center = np.array([])\n",
    "left = np.array([])\n",
    "right = np.array([])\n",
    "\n",
    "while i <= len(stim_x) - 1 :\n",
    "    value = stim_x[i]\n",
    "    if value == 0.33 :\n",
    "        left = np.append(left, eye_x[i])\n",
    "    elif value == 0.5 :\n",
    "        center = np.append(center, eye_x[i])\n",
    "    else :\n",
    "        right = np.append(right, eye_x[i])\n",
    "    i += 1\n",
    "\n",
    "c_mean = np.mean(center)\n",
    "l_mean = np.mean(left)\n",
    "r_mean = np.mean(right)\n",
    "        "
   ]
  },
  {
   "cell_type": "code",
   "execution_count": null,
   "metadata": {
    "collapsed": false
   },
   "outputs": [],
   "source": [
    "print (l_mean)"
   ]
  },
  {
   "cell_type": "code",
   "execution_count": null,
   "metadata": {
    "collapsed": false
   },
   "outputs": [],
   "source": [
    "plt.plot([0.33, 0.5, 0.67], [l_mean, c_mean, r_mean], 'ro')\n",
    "plt.xlabel('targets x_pos')\n",
    "plt.ylabel('mean eye x_pos')\n",
    "plt.show()"
   ]
  },
  {
   "cell_type": "code",
   "execution_count": null,
   "metadata": {
    "collapsed": false
   },
   "outputs": [],
   "source": [
    "! git commit -am 'Dont work yet'"
   ]
  },
  {
   "cell_type": "code",
   "execution_count": null,
   "metadata": {
    "collapsed": false
   },
   "outputs": [],
   "source": [
    "! git status"
   ]
  },
  {
   "cell_type": "code",
   "execution_count": null,
   "metadata": {
    "collapsed": false
   },
   "outputs": [],
   "source": [
    "! git push"
   ]
  },
  {
   "cell_type": "code",
   "execution_count": null,
   "metadata": {
    "collapsed": true
   },
   "outputs": [],
   "source": []
  }
 ],
 "metadata": {
  "kernelspec": {
   "display_name": "Python 3",
   "language": "python",
   "name": "python3"
  },
  "language_info": {
   "codemirror_mode": {
    "name": "ipython",
    "version": 3
   },
   "file_extension": ".py",
   "mimetype": "text/x-python",
   "name": "python",
   "nbconvert_exporter": "python",
   "pygments_lexer": "ipython3",
   "version": "3.5.1"
  }
 },
 "nbformat": 4,
 "nbformat_minor": 0
}
