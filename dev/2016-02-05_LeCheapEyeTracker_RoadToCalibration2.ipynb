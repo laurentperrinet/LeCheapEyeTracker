{
 "cells": [
  {
   "cell_type": "code",
   "execution_count": 1,
   "metadata": {
    "collapsed": false
   },
   "outputs": [
    {
     "name": "stderr",
     "output_type": "stream",
     "text": [
      "/usr/local/lib/python3.5/site-packages/matplotlib/__init__.py:872: UserWarning: axes.color_cycle is deprecated and replaced with axes.prop_cycle; please use the latter.\n",
      "  warnings.warn(self.msg_depr % (key, alt_key))\n"
     ]
    }
   ],
   "source": [
    "%matplotlib inline\n",
    "%load_ext autoreload\n",
    "%autoreload 2"
   ]
  },
  {
   "cell_type": "markdown",
   "metadata": {},
   "source": [
    "## Let's run calibration..."
   ]
  },
  {
   "cell_type": "code",
   "execution_count": 1,
   "metadata": {
    "collapsed": false
   },
   "outputs": [
    {
     "name": "stderr",
     "output_type": "stream",
     "text": [
      "/usr/local/lib/python3.5/site-packages/matplotlib/__init__.py:872: UserWarning: axes.color_cycle is deprecated and replaced with axes.prop_cycle; please use the latter.\n",
      "  warnings.warn(self.msg_depr % (key, alt_key))\n"
     ]
    }
   ],
   "source": [
    "import numpy as np\n",
    "import matplotlib.pyplot as plt\n",
    "from LeCheapEyeTracker import Client, Server"
   ]
  },
  {
   "cell_type": "code",
   "execution_count": 2,
   "metadata": {
    "collapsed": false
   },
   "outputs": [
    {
     "name": "stdout",
     "output_type": "stream",
     "text": [
      "window size :  (2560, 1440)\n",
      "target dynamic :\n",
      " [(0.5, 0.006602048873901367), (0.5, 0.21684885025024414), (0.5, 0.3337998390197754), (0.5, 0.4498279094696045), (0.5, 0.5663340091705322), (0.5, 0.6831939220428467), (0.5, 0.7984158992767334), (0.5, 0.9125950336456299), (0.5, 1.0292668342590332), (0.5, 1.1447458267211914), (0.5, 1.2609179019927979), (0.5, 1.377445936203003), (0.5, 1.4925320148468018), (0.5, 1.610605001449585), (0.5, 1.7302260398864746), (0.5, 1.8467960357666016), (0.5, 1.9649410247802734), (0.33, 2.084756851196289), (0.33, 2.201589822769165), (0.33, 2.321441888809204), (0.33, 2.440610885620117), (0.33, 2.560497999191284), (0.33, 2.680008888244629), (0.33, 2.797075033187866), (0.33, 2.916195869445801), (0.5, 3.034421920776367), (0.5, 3.152003049850464), (0.5, 3.2705140113830566), (0.5, 3.389150857925415), (0.5, 3.508357048034668), (0.5, 3.627192974090576), (0.5, 3.7459609508514404), (0.5, 3.863057851791382), (0.5, 3.9814279079437256), (0.5, 4.098548889160156), (0.5, 4.21586799621582), (0.5, 4.334579944610596), (0.5, 4.4515368938446045), (0.5, 4.568055868148804), (0.5, 4.68593692779541), (0.5, 4.805021047592163), (0.5, 4.921672821044922), (0.67, 5.0395519733428955), (0.67, 5.156673908233643), (0.67, 5.273651838302612), (0.67, 5.393085956573486), (0.67, 5.508720874786377), (0.67, 5.6248719692230225), (0.67, 5.738656044006348), (0.67, 5.857681035995483), (0.67, 5.973115921020508), (0.5, 6.089495897293091), (0.5, 6.203994035720825), (0.5, 6.32043981552124), (0.5, 6.433465003967285), (0.5, 6.549674034118652), (0.5, 6.664254903793335), (0.5, 6.779785871505737), (0.5, 6.900977849960327)]\n",
      "eye dynamic :\n",
      " [(156.0, 0.14946293830871582), (155.0, 0.32852697372436523), (160.0, 0.4459190368652344), (155.0, 0.5627219676971436), (152.0, 0.6799709796905518), (158.0, 0.7951879501342773), (155.0, 0.9096729755401611), (155.0, 1.0264079570770264), (158.0, 1.1419730186462402), (155.0, 1.2578608989715576), (155.0, 1.3744800090789795), (155.0, 1.4897379875183105), (160.0, 1.607813835144043), (158.0, 1.7273478507995605), (157.0, 1.8439538478851318), (158.0, 1.961529016494751), (159.0, 2.081800937652588), (159.0, 2.198843002319336), (159.0, 2.3186349868774414), (159.0, 2.4377260208129883), (160.0, 2.557529926300049), (163.0, 2.67722487449646), (162.0, 2.7942609786987305), (74.0, 2.9134750366210938), (73.0, 3.0314388275146484), (73.0, 3.1492278575897217), (71.0, 3.267102003097534), (162.0, 3.386457920074463), (160.0, 3.5049638748168945), (158.0, 3.6241300106048584), (158.0, 3.743222951889038), (158.0, 3.8600668907165527), (157.0, 3.9786829948425293), (159.0, 4.0958030223846436), (158.0, 4.21289587020874), (160.0, 4.331528902053833), (75.0, 4.44871187210083), (76.0, 4.564649820327759), (75.0, 4.6830549240112305), (76.0, 4.8021080493927), (77.0, 4.918529033660889), (77.0, 5.035907030105591), (73.0, 5.153875827789307), (74.0, 5.270771026611328), (71.0, 5.390013933181763), (74.0, 5.506036043167114), (148.0, 5.62208890914917), (150.0, 5.735874891281128), (155.0, 5.854136943817139), (152.0, 5.970418930053711), (153.0, 6.08676290512085), (154.0, 6.2012388706207275), (152.0, 6.317591905593872), (153.0, 6.430388927459717), (156.0, 6.546536922454834), (162.0, 6.661521911621094), (163.0, 6.776737928390503), (155.0, 6.8974058628082275), (160.0, 7.019302845001221)]\n"
     ]
    },
    {
     "name": "stderr",
     "output_type": "stream",
     "text": [
      "/usr/local/lib/python3.5/site-packages/IPython/config.py:13: ShimWarning: The `IPython.config` package has been deprecated. You should import from traitlets.config instead.\n",
      "  \"You should import from traitlets.config instead.\", ShimWarning)\n"
     ]
    }
   ],
   "source": [
    "fps = 30\n",
    "T = 7.\n",
    "\n",
    "calib = Client(et=Server(), timeline=np.linspace(0, T, T*fps), downscale=4)\n",
    "calib.app.run()\n",
    "calib.et.close()"
   ]
  },
  {
   "cell_type": "code",
   "execution_count": 4,
   "metadata": {
    "collapsed": false
   },
   "outputs": [
    {
     "name": "stdout",
     "output_type": "stream",
     "text": [
      "False\n"
     ]
    }
   ],
   "source": [
    "stim_x = np.array([])\n",
    "eye_x = np.array([])\n",
    "\n",
    "for stim in calib.stims_X_t:\n",
    "    x, stash = stim\n",
    "    stim_x = np.append(stim_x, x)\n",
    "    \n",
    "for eye in calib.et.eye_x_t:\n",
    "    y, stash = eye\n",
    "    eye_x = np.append(eye_x, y)\n",
    "\n",
    "print (len(stim_x)==len(eye_x))"
   ]
  },
  {
   "cell_type": "markdown",
   "metadata": {},
   "source": [
    "## ...and plot eye and targets x_positions "
   ]
  },
  {
   "cell_type": "code",
   "execution_count": 5,
   "metadata": {
    "collapsed": false
   },
   "outputs": [
    {
     "data": {
      "image/png": "[encoded data removed]",
      "text/plain": [
       "<matplotlib.figure.Figure at 0x11b0706a0>"
      ]
     },
     "metadata": {},
     "output_type": "display_data"
    }
   ],
   "source": [
    "plt.plot(stim_x, eye_x, 'ro')\n",
    "plt.xlabel('targets x-pos')\n",
    "plt.ylabel('eye x-pos')\n",
    "plt.show()"
   ]
  },
  {
   "cell_type": "markdown",
   "metadata": {},
   "source": [
    "## We must get the mean of eye position for each stimulus position"
   ]
  },
  {
   "cell_type": "code",
   "execution_count": 11,
   "metadata": {
    "collapsed": false
   },
   "outputs": [],
   "source": [
    "i = 0\n",
    "center = np.array([])\n",
    "left = np.array([])\n",
    "right = np.array([])\n",
    "\n",
    "while i <= len(stim_x) - 1 :\n",
    "    value = stim_x[i]\n",
    "    if value == 0.33 :\n",
    "        left = np.append(left, eye_x[i])\n",
    "    elif value == 0.5 :\n",
    "        center = np.append(center, eye_x[i])\n",
    "    else :\n",
    "        right = np.append(right, eye_x[i])\n",
    "    i += 1\n",
    "\n",
    "c_mean = np.mean(center)\n",
    "l_mean = np.mean(left)\n",
    "r_mean = np.mean(right)\n",
    "        "
   ]
  },
  {
   "cell_type": "code",
   "execution_count": 12,
   "metadata": {
    "collapsed": false
   },
   "outputs": [
    {
     "name": "stdout",
     "output_type": "stream",
     "text": [
      "43.2\n"
     ]
    }
   ],
   "source": [
    "print (l_mean)"
   ]
  },
  {
   "cell_type": "code",
   "execution_count": 13,
   "metadata": {
    "collapsed": false
   },
   "outputs": [
    {
     "data": {
      "image/png": "[encoded data removed]",
      "text/plain": [
       "<matplotlib.figure.Figure at 0x1171c8dd8>"
      ]
     },
     "metadata": {},
     "output_type": "display_data"
    }
   ],
   "source": [
    "plt.plot([0.33, 0.5, 0.67], [l_mean, c_mean, r_mean], 'ro')\n",
    "plt.xlabel('targets x_pos')\n",
    "plt.ylabel('mean eye x_pos')\n",
    "plt.show()"
   ]
  },
  {
   "cell_type": "code",
   "execution_count": 17,
   "metadata": {
    "collapsed": false
   },
   "outputs": [
    {
     "name": "stdout",
     "output_type": "stream",
     "text": [
      "[master 5d09be7] Dont work yet\r\n",
      " 1 file changed, 56 insertions(+), 7 deletions(-)\r\n"
     ]
    }
   ],
   "source": [
    "! git commit -am 'Dont work yet'"
   ]
  },
  {
   "cell_type": "code",
   "execution_count": 18,
   "metadata": {
    "collapsed": false
   },
   "outputs": [
    {
     "name": "stdout",
     "output_type": "stream",
     "text": [
      "On branch master\r\n",
      "Your branch is ahead of 'origin/master' by 1 commit.\r\n",
      "  (use \"git push\" to publish your local commits)\r\n",
      "Untracked files:\r\n",
      "  (use \"git add <file>...\" to include in what will be committed)\r\n",
      "\r\n",
      "\t\u001b[36m../src/my_eye.png\u001b[m\r\n",
      "\r\n",
      "nothing added to commit but untracked files present (use \"git add\" to track)\r\n"
     ]
    }
   ],
   "source": [
    "! git status"
   ]
  },
  {
   "cell_type": "code",
   "execution_count": 19,
   "metadata": {
    "collapsed": false
   },
   "outputs": [
    {
     "name": "stdout",
     "output_type": "stream",
     "text": [
      "Counting objects: 4, done.\n",
      "Delta compression using up to 8 threads.\n",
      "Compressing objects: 100% (4/4), done.\n",
      "Writing objects: 100% (4/4), 935 bytes | 0 bytes/s, done.\n",
      "Total 4 (delta 3), reused 0 (delta 0)\n",
      "To https://github.com/meduz/LeCheapEyeTracker\n",
      "   1ddc5f7..5d09be7  master -> master\n"
     ]
    }
   ],
   "source": [
    "! git push"
   ]
  },
  {
   "cell_type": "code",
   "execution_count": null,
   "metadata": {
    "collapsed": true
   },
   "outputs": [],
   "source": []
  }
 ],
 "metadata": {
  "kernelspec": {
   "display_name": "Python 3",
   "language": "python",
   "name": "python3"
  },
  "language_info": {
   "codemirror_mode": {
    "name": "ipython",
    "version": 3
   },
   "file_extension": ".py",
   "mimetype": "text/x-python",
   "name": "python",
   "nbconvert_exporter": "python",
   "pygments_lexer": "ipython3",
   "version": "3.5.1"
  }
 },
 "nbformat": 4,
 "nbformat_minor": 0
}
