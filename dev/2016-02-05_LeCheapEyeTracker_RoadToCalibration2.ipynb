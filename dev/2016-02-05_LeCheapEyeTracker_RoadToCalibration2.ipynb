{
 "cells": [
  {
   "cell_type": "code",
   "execution_count": 1,
   "metadata": {
    "collapsed": false
   },
   "outputs": [
    {
     "name": "stderr",
     "output_type": "stream",
     "text": [
      "/usr/local/lib/python3.5/site-packages/matplotlib/__init__.py:872: UserWarning: axes.color_cycle is deprecated and replaced with axes.prop_cycle; please use the latter.\n",
      "  warnings.warn(self.msg_depr % (key, alt_key))\n"
     ]
    }
   ],
   "source": [
    "%matplotlib inline\n",
    "%load_ext autoreload\n",
    "%autoreload 2"
   ]
  },
  {
   "cell_type": "markdown",
   "metadata": {},
   "source": [
    "## Let's run calibration..."
   ]
  },
  {
   "cell_type": "code",
   "execution_count": 2,
   "metadata": {
    "collapsed": false
   },
   "outputs": [],
   "source": [
    "import numpy as np\n",
    "import matplotlib.pyplot as plt\n",
    "from LeCheapEyeTracker import Client, Server"
   ]
  },
  {
   "cell_type": "code",
   "execution_count": 3,
   "metadata": {
    "collapsed": false
   },
   "outputs": [
    {
     "name": "stdout",
     "output_type": "stream",
     "text": [
      "window size :  (2560, 1440)\n",
      "target dynamic :\n",
      " [(0.5, 0.01302790641784668), (0.5, 0.22630786895751953), (0.5, 0.3434469699859619), (0.5, 0.4635279178619385), (0.5, 0.5898878574371338), (0.5, 0.7169368267059326), (0.5, 0.8385319709777832), (0.5, 0.9565129280090332), (0.67, 1.0760807991027832), (0.67, 1.1925427913665771), (0.67, 1.3118767738342285), (0.67, 1.429109811782837), (0.67, 1.5471909046173096), (0.67, 1.665125846862793), (0.67, 1.7844038009643555), (0.67, 1.9017088413238525), (0.33, 2.0192809104919434), (0.33, 2.1371569633483887), (0.33, 2.2521657943725586), (0.33, 2.368701934814453), (0.33, 2.4836628437042236), (0.33, 2.609130859375), (0.33, 2.728200912475586), (0.33, 2.849348783493042), (0.33, 2.966418981552124), (0.67, 3.086862802505493), (0.67, 3.20344877243042), (0.67, 3.3228468894958496), (0.67, 3.4391698837280273), (0.67, 3.5559959411621094), (0.67, 3.6730709075927734), (0.67, 3.791745901107788), (0.67, 3.9107627868652344), (0.5, 4.029482841491699), (0.5, 4.148172855377197), (0.5, 4.265092849731445), (0.5, 4.383289813995361), (0.5, 4.5002617835998535), (0.5, 4.619385004043579), (0.5, 4.736435890197754), (0.5, 4.852512836456299), (0.5, 4.97153377532959), (0.67, 5.089238882064819), (0.67, 5.208253860473633), (0.67, 5.325802803039551), (0.67, 5.44337797164917), (0.67, 5.561102867126465), (0.67, 5.679396867752075), (0.67, 5.797863960266113), (0.67, 5.91515588760376), (0.33, 6.033878803253174), (0.33, 6.152681827545166), (0.33, 6.270282983779907), (0.33, 6.390760898590088), (0.33, 6.507722854614258), (0.33, 6.624550819396973), (0.33, 6.74067497253418), (0.33, 6.860679864883423), (0.33, 6.978575944900513), (0.5, 7.096214771270752), (0.5, 7.21759295463562), (0.5, 7.334955930709839), (0.5, 7.455741882324219), (0.5, 7.574716806411743), (0.5, 7.692792892456055), (0.5, 7.811793804168701), (0.5, 7.929203987121582), (0.33, 8.047536849975586), (0.33, 8.166154861450195), (0.33, 8.283811807632446), (0.33, 8.402776002883911), (0.33, 8.519288778305054), (0.33, 8.65442681312561), (0.33, 8.772557973861694), (0.33, 8.889117002487183)]\n",
      "eye dynamic :\n",
      " [(25.0, 0.15271377563476562), (21.0, 0.3320307731628418), (25.0, 0.4529259204864502), (29.0, 0.5741419792175293), (31.0, 0.7063589096069336), (24.0, 0.8287179470062256), (29.0, 0.9467258453369141), (22.0, 1.065699815750122), (27.0, 1.1832208633422852), (26.0, 1.3023698329925537), (23.0, 1.419752836227417), (25.0, 1.5373640060424805), (27.0, 1.6553339958190918), (22.0, 1.7751259803771973), (29.0, 1.8915679454803467), (26.0, 2.0098350048065186), (24.0, 2.1274168491363525), (33.0, 2.243025779724121), (26.0, 2.3591248989105225), (27.0, 2.4740538597106934), (32.0, 2.5984838008880615), (25.0, 2.7178328037261963), (23.0, 2.83953595161438), (24.0, 2.9573488235473633), (25.0, 3.0764060020446777), (28.0, 3.1942858695983887), (23.0, 3.313311815261841), (25.0, 3.4301300048828125), (24.0, 3.546496868133545), (24.0, 3.66363787651062), (27.0, 3.7819879055023193), (26.0, 3.900826930999756), (27.0, 4.0202648639678955), (29.0, 4.1378419399261475), (29.0, 4.256065845489502), (28.0, 4.3732359409332275), (26.0, 4.490937948226929), (25.0, 4.609896898269653), (28.0, 4.7260048389434814), (27.0, 4.84241795539856), (26.0, 4.96043586730957), (27.0, 5.08013391494751), (28.0, 5.1987528800964355), (28.0, 5.316040992736816), (27.0, 5.434201955795288), (25.0, 5.551248788833618), (24.0, 5.669665813446045), (27.0, 5.78724479675293), (27.0, 5.905482769012451), (30.0, 6.024122953414917), (31.0, 6.1428749561309814), (31.0, 6.260318994522095), (32.0, 6.380229949951172), (28.0, 6.4983298778533936), (29.0, 6.614950895309448), (27.0, 6.730991840362549), (26.0, 6.850507974624634), (28.0, 6.968697786331177), (32.0, 7.086629867553711), (27.0, 7.208340883255005), (28.0, 7.325809001922607), (29.0, 7.445927858352661), (28.0, 7.564350843429565), (28.0, 7.6836998462677), (27.0, 7.801874876022339), (25.0, 7.919787883758545), (28.0, 8.037773847579956), (26.0, 8.156138896942139), (27.0, 8.274335861206055), (29.0, 8.392690896987915), (23.0, 8.510151863098145), (27.0, 8.64504599571228), (27.0, 8.762751817703247), (29.0, 8.879830837249756), (26.0, 8.997979879379272)]\n"
     ]
    },
    {
     "name": "stderr",
     "output_type": "stream",
     "text": [
      "/usr/local/lib/python3.5/site-packages/IPython/config.py:13: ShimWarning: The `IPython.config` package has been deprecated. You should import from traitlets.config instead.\n",
      "  \"You should import from traitlets.config instead.\", ShimWarning)\n"
     ]
    }
   ],
   "source": [
    "fps = 30\n",
    "T = 9.\n",
    "\n",
    "calib = Client(et=Server(), timeline=np.linspace(0, T, T*fps), downscale=2)\n",
    "calib.app.run()\n",
    "calib.et.close()"
   ]
  },
  {
   "cell_type": "code",
   "execution_count": 4,
   "metadata": {
    "collapsed": false
   },
   "outputs": [
    {
     "name": "stdout",
     "output_type": "stream",
     "text": [
      "True\n"
     ]
    }
   ],
   "source": [
    "stim_x = np.array([])\n",
    "eye_x = np.array([])\n",
    "\n",
    "for stim in calib.stims_X_t:\n",
    "    x, stash = stim\n",
    "    stim_x = np.append(stim_x, x)\n",
    "    \n",
    "for eye in calib.et.eye_x_t:\n",
    "    y, stash = eye\n",
    "    eye_x = np.append(eye_x, y)\n",
    "\n",
    "print (len(stim_x)==len(eye_x))"
   ]
  },
  {
   "cell_type": "markdown",
   "metadata": {},
   "source": [
    "## ...and plot eye and targets x_positions "
   ]
  },
  {
   "cell_type": "code",
   "execution_count": 5,
   "metadata": {
    "collapsed": false
   },
   "outputs": [
    {
     "data": {
      "image/png": "[encoded data removed]",
      "text/plain": [
       "<matplotlib.figure.Figure at 0x115290748>"
      ]
     },
     "metadata": {},
     "output_type": "display_data"
    }
   ],
   "source": [
    "plt.plot(stim_x, eye_x, 'ro')\n",
    "plt.xlabel('targets x-pos')\n",
    "plt.ylabel('eye x-pos')\n",
    "plt.show()"
   ]
  },
  {
   "cell_type": "markdown",
   "metadata": {},
   "source": [
    "## We must get the mean of eye position for each stimulus position"
   ]
  },
  {
   "cell_type": "code",
   "execution_count": 6,
   "metadata": {
    "collapsed": false
   },
   "outputs": [],
   "source": [
    "i = 0\n",
    "center = np.array([])\n",
    "left = np.array([])\n",
    "right = np.array([])\n",
    "\n",
    "while i <= len(stim_x) - 1 :\n",
    "    value = stim_x[i]\n",
    "    if value == 0.33 :\n",
    "        left = np.append(left, eye_x[i])\n",
    "    elif value == 0.5 :\n",
    "        center = np.append(center, eye_x[i])\n",
    "    else :\n",
    "        right = np.append(right, eye_x[i])\n",
    "    i += 1\n",
    "\n",
    "c_mean = np.mean(center)\n",
    "l_mean = np.mean(left)\n",
    "r_mean = np.mean(right)\n",
    "        "
   ]
  },
  {
   "cell_type": "code",
   "execution_count": 7,
   "metadata": {
    "collapsed": false
   },
   "outputs": [
    {
     "name": "stdout",
     "output_type": "stream",
     "text": [
      "27.5769230769\n"
     ]
    }
   ],
   "source": [
    "print (l_mean)"
   ]
  },
  {
   "cell_type": "code",
   "execution_count": 8,
   "metadata": {
    "collapsed": false
   },
   "outputs": [
    {
     "data": {
      "image/png": "[encoded data removed]",
      "text/plain": [
       "<matplotlib.figure.Figure at 0x10e8a5e48>"
      ]
     },
     "metadata": {},
     "output_type": "display_data"
    }
   ],
   "source": [
    "plt.plot([0.33, 0.5, 0.67], [l_mean, c_mean, r_mean], 'ro')\n",
    "plt.xlabel('targets x_pos')\n",
    "plt.ylabel('mean eye x_pos')\n",
    "plt.show()"
   ]
  },
  {
   "cell_type": "code",
   "execution_count": 10,
   "metadata": {
    "collapsed": false
   },
   "outputs": [
    {
     "name": "stdout",
     "output_type": "stream",
     "text": [
      "[master e14b40f] Much better\r\n",
      " 1 file changed, 82 insertions(+), 14 deletions(-)\r\n"
     ]
    }
   ],
   "source": [
    "! git commit -am 'Much better'"
   ]
  },
  {
   "cell_type": "code",
   "execution_count": 11,
   "metadata": {
    "collapsed": false
   },
   "outputs": [
    {
     "name": "stdout",
     "output_type": "stream",
     "text": [
      "On branch master\r\n",
      "Your branch is ahead of 'origin/master' by 2 commits.\r\n",
      "  (use \"git push\" to publish your local commits)\r\n",
      "Untracked files:\r\n",
      "  (use \"git add <file>...\" to include in what will be committed)\r\n",
      "\r\n",
      "\t\u001b[36m../src/my_eye.png\u001b[m\r\n",
      "\r\n",
      "nothing added to commit but untracked files present (use \"git add\" to track)\r\n"
     ]
    }
   ],
   "source": [
    "! git status"
   ]
  },
  {
   "cell_type": "code",
   "execution_count": 12,
   "metadata": {
    "collapsed": false
   },
   "outputs": [
    {
     "name": "stdout",
     "output_type": "stream",
     "text": [
      "Counting objects: 12, done.\n",
      "Delta compression using up to 8 threads.\n",
      "Compressing objects: 100% (11/11), done.\n",
      "Writing objects: 100% (12/12), 23.87 KiB | 0 bytes/s, done.\n",
      "Total 12 (delta 8), reused 0 (delta 0)\n",
      "To https://github.com/meduz/LeCheapEyeTracker\n",
      "   4d9635e..e14b40f  master -> master\n"
     ]
    }
   ],
   "source": [
    "! git push"
   ]
  },
  {
   "cell_type": "code",
   "execution_count": null,
   "metadata": {
    "collapsed": true
   },
   "outputs": [],
   "source": []
  }
 ],
 "metadata": {
  "kernelspec": {
   "display_name": "Python 3",
   "language": "python",
   "name": "python3"
  },
  "language_info": {
   "codemirror_mode": {
    "name": "ipython",
    "version": 3
   },
   "file_extension": ".py",
   "mimetype": "text/x-python",
   "name": "python",
   "nbconvert_exporter": "python",
   "pygments_lexer": "ipython3",
   "version": "3.5.1"
  }
 },
 "nbformat": 4,
 "nbformat_minor": 0
}
