{
 "cells": [
  {
   "cell_type": "code",
   "execution_count": 1,
   "metadata": {
    "collapsed": false
   },
   "outputs": [
    {
     "name": "stderr",
     "output_type": "stream",
     "text": [
      "/usr/local/lib/python3.5/site-packages/matplotlib/__init__.py:872: UserWarning: axes.color_cycle is deprecated and replaced with axes.prop_cycle; please use the latter.\n",
      "  warnings.warn(self.msg_depr % (key, alt_key))\n"
     ]
    }
   ],
   "source": [
    "%matplotlib inline\n",
    "%load_ext autoreload\n",
    "%autoreload 2"
   ]
  },
  {
   "cell_type": "markdown",
   "metadata": {},
   "source": [
    "## Let's run calibration..."
   ]
  },
  {
   "cell_type": "code",
   "execution_count": 2,
   "metadata": {
    "collapsed": true
   },
   "outputs": [],
   "source": [
    "import numpy as np\n",
    "import matplotlib.pyplot as plt\n",
    "from LeCheapEyeTracker import Client, Server"
   ]
  },
  {
   "cell_type": "code",
   "execution_count": 3,
   "metadata": {
    "collapsed": false
   },
   "outputs": [
    {
     "name": "stdout",
     "output_type": "stream",
     "text": [
      "window size :  (2560, 1440)\n",
      "target dynamic :\n",
      " [(0.5, 0.018069982528686523), (0.5, 0.26977109909057617), (0.5, 0.3737940788269043), (0.5, 0.4789421558380127), (0.5, 0.5838170051574707), (0.5, 0.687791109085083), (0.5, 0.7931351661682129), (0.5, 0.8969230651855469), (0.5, 1.000615119934082), (0.5, 1.1057310104370117), (0.5, 1.2092320919036865), (0.5, 1.314643144607544), (0.5, 1.4203541278839111), (0.5, 1.5251250267028809), (0.5, 1.6294450759887695), (0.5, 1.7344920635223389), (0.5, 1.8380470275878906), (0.5, 1.9434809684753418), (0.33, 2.0488600730895996), (0.33, 2.1534531116485596), (0.33, 2.2574551105499268), (0.33, 2.3609001636505127), (0.33, 2.465175151824951), (0.33, 2.569789171218872), (0.33, 2.674255132675171), (0.33, 2.779132127761841), (0.33, 2.884366989135742), (0.33, 2.9887900352478027), (0.5, 3.093796968460083), (0.5, 3.197895050048828), (0.5, 3.3018620014190674), (0.5, 3.4066050052642822), (0.5, 3.5105249881744385), (0.5, 3.6151859760284424), (0.5, 3.720837116241455), (0.5, 3.825021982192993), (0.5, 3.929795980453491), (0.5, 4.032840013504028), (0.5, 4.139626979827881), (0.5, 4.2446980476379395), (0.5, 4.349805116653442), (0.5, 4.454787015914917), (0.5, 4.560918092727661), (0.5, 4.663923025131226), (0.5, 4.771162986755371), (0.5, 4.873840093612671), (0.5, 4.9796459674835205), (0.67, 5.0844221115112305), (0.67, 5.189399003982544), (0.67, 5.294948101043701), (0.67, 5.399135112762451), (0.67, 5.503092050552368), (0.67, 5.608465194702148), (0.67, 5.712574005126953), (0.67, 5.8179590702056885), (0.67, 5.924229145050049), (0.5, 6.02845311164856), (0.5, 6.133745193481445), (0.5, 6.23758602142334), (0.5, 6.341402053833008), (0.5, 6.4453840255737305), (0.5, 6.550311088562012), (0.5, 6.655220985412598), (0.5, 6.7598700523376465), (0.5, 6.864490032196045), (0.5, 6.967702150344849)]\n",
      "eye dynamic :\n",
      " [(58.0, 0.1925191879272461), (54.0, 0.36338210105895996), (31.0, 0.46883201599121094), (41.0, 0.5738949775695801), (44.0, 0.6778390407562256), (43.0, 0.7837259769439697), (40.0, 0.8880059719085693), (47.0, 0.9907681941986084), (43.0, 1.0960071086883545), (47.0, 1.19964599609375), (45.0, 1.3050720691680908), (48.0, 1.4108541011810303), (47.0, 1.5154881477355957), (46.0, 1.6197500228881836), (47.0, 1.7249531745910645), (45.0, 1.8290879726409912), (43.0, 1.9341449737548828), (45.0, 2.0398480892181396), (38.0, 2.14444899559021), (40.0, 2.247847080230713), (38.0, 2.351238965988159), (40.0, 2.45582914352417), (47.0, 2.5600521564483643), (44.0, 2.66530704498291), (47.0, 2.7703871726989746), (46.0, 2.8748700618743896), (46.0, 2.979098081588745), (46.0, 3.083921194076538), (44.0, 3.1884191036224365), (45.0, 3.292776107788086), (49.0, 3.3977041244506836), (50.0, 3.5012810230255127), (49.0, 3.605674982070923), (51.0, 3.7113239765167236), (49.0, 3.816286087036133), (48.0, 3.9205191135406494), (50.0, 4.024384021759033), (50.0, 4.1299049854278564), (50.0, 4.234965085983276), (50.0, 4.3405749797821045), (49.0, 4.445404052734375), (46.0, 4.552082061767578), (49.0, 4.654936075210571), (43.0, 4.761150121688843), (45.0, 4.864590167999268), (46.0, 4.96917200088501), (46.0, 5.075556039810181), (47.0, 5.180596113204956), (47.0, 5.285175085067749), (47.0, 5.38951301574707), (48.0, 5.493812084197998), (43.0, 5.598793983459473), (42.0, 5.703695058822632), (46.0, 5.809082984924316), (47.0, 5.914484024047852), (41.0, 6.019268035888672), (43.0, 6.1240081787109375), (44.0, 6.228224039077759), (45.0, 6.332573175430298), (43.0, 6.43641209602356), (43.0, 6.540659189224243), (42.0, 6.6459641456604), (45.0, 6.750456094741821), (43.0, 6.85552716255188), (43.0, 6.958996057510376), (43.0, 7.0635411739349365)]\n"
     ]
    },
    {
     "name": "stderr",
     "output_type": "stream",
     "text": [
      "/usr/local/lib/python3.5/site-packages/IPython/config.py:13: ShimWarning: The `IPython.config` package has been deprecated. You should import from traitlets.config instead.\n",
      "  \"You should import from traitlets.config instead.\", ShimWarning)\n"
     ]
    }
   ],
   "source": [
    "fps = 30\n",
    "T = 7.\n",
    "\n",
    "calib = Client(et=Server(), timeline=np.linspace(0, T, T*fps), downscale=2)\n",
    "calib.app.run()\n",
    "calib.et.close()"
   ]
  },
  {
   "cell_type": "code",
   "execution_count": 4,
   "metadata": {
    "collapsed": false
   },
   "outputs": [
    {
     "name": "stdout",
     "output_type": "stream",
     "text": [
      "True\n"
     ]
    }
   ],
   "source": [
    "stim_x = np.array([])\n",
    "eye_x = np.array([])\n",
    "\n",
    "for stim in calib.stims_X_t:\n",
    "    x, stash = stim\n",
    "    stim_x = np.append(stim_x, x)\n",
    "    \n",
    "for eye in calib.et.eye_x_t:\n",
    "    y, stash = eye\n",
    "    eye_x = np.append(eye_x, y)\n",
    "\n",
    "print (len(stim_x)==len(eye_x))"
   ]
  },
  {
   "cell_type": "markdown",
   "metadata": {},
   "source": [
    "## ...and plot eye and targets x_positions "
   ]
  },
  {
   "cell_type": "code",
   "execution_count": 5,
   "metadata": {
    "collapsed": false
   },
   "outputs": [
    {
     "data": {
      "image/png": "[encoded data removed]",
      "text/plain": [
       "<matplotlib.figure.Figure at 0x119487710>"
      ]
     },
     "metadata": {},
     "output_type": "display_data"
    }
   ],
   "source": [
    "plt.plot(stim_x, eye_x, 'ro')\n",
    "plt.xlabel('targets x-pos')\n",
    "plt.ylabel('eye x-pos')\n",
    "plt.show()"
   ]
  },
  {
   "cell_type": "markdown",
   "metadata": {},
   "source": [
    "## We must get the mean of eye position for each stimulus position"
   ]
  },
  {
   "cell_type": "code",
   "execution_count": 11,
   "metadata": {
    "collapsed": false
   },
   "outputs": [],
   "source": [
    "i = 0\n",
    "center = np.array([])\n",
    "left = np.array([])\n",
    "right = np.array([])\n",
    "\n",
    "while i <= len(stim_x) - 1 :\n",
    "    value = stim_x[i]\n",
    "    if value == 0.33 :\n",
    "        left = np.append(left, eye_x[i])\n",
    "    elif value == 0.5 :\n",
    "        center = np.append(center, eye_x[i])\n",
    "    else :\n",
    "        right = np.append(right, eye_x[i])\n",
    "    i += 1\n",
    "\n",
    "c_mean = np.mean(center)\n",
    "l_mean = np.mean(left)\n",
    "r_mean = np.mean(right)\n",
    "        "
   ]
  },
  {
   "cell_type": "code",
   "execution_count": 12,
   "metadata": {
    "collapsed": false
   },
   "outputs": [
    {
     "name": "stdout",
     "output_type": "stream",
     "text": [
      "43.2\n"
     ]
    }
   ],
   "source": [
    "print (l_mean)"
   ]
  },
  {
   "cell_type": "code",
   "execution_count": 13,
   "metadata": {
    "collapsed": false
   },
   "outputs": [
    {
     "data": {
      "image/png": "[encoded data removed]",
      "text/plain": [
       "<matplotlib.figure.Figure at 0x1171c8dd8>"
      ]
     },
     "metadata": {},
     "output_type": "display_data"
    }
   ],
   "source": [
    "plt.plot([0.33, 0.5, 0.67], [l_mean, c_mean, r_mean], 'ro')\n",
    "plt.xlabel('targets x_pos')\n",
    "plt.ylabel('mean eye x_pos')\n",
    "plt.show()"
   ]
  },
  {
   "cell_type": "code",
   "execution_count": null,
   "metadata": {
    "collapsed": false
   },
   "outputs": [],
   "source": [
    "! git commit -am 'Checking the coordinates system of eye location in OpenCV '"
   ]
  },
  {
   "cell_type": "code",
   "execution_count": null,
   "metadata": {
    "collapsed": false
   },
   "outputs": [],
   "source": [
    "! git status"
   ]
  },
  {
   "cell_type": "code",
   "execution_count": null,
   "metadata": {
    "collapsed": false
   },
   "outputs": [],
   "source": [
    "! git push"
   ]
  }
 ],
 "metadata": {
  "kernelspec": {
   "display_name": "Python 3",
   "language": "python",
   "name": "python3"
  },
  "language_info": {
   "codemirror_mode": {
    "name": "ipython",
    "version": 3
   },
   "file_extension": ".py",
   "mimetype": "text/x-python",
   "name": "python",
   "nbconvert_exporter": "python",
   "pygments_lexer": "ipython3",
   "version": "3.5.1"
  }
 },
 "nbformat": 4,
 "nbformat_minor": 0
}
