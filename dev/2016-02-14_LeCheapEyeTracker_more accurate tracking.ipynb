{
 "cells": [
  {
   "cell_type": "markdown",
   "metadata": {},
   "source": [
    "# tracking the detected pupil: visual inspection of the results\n",
    "\n"
   ]
  },
  {
   "cell_type": "code",
   "execution_count": 1,
   "metadata": {
    "collapsed": false
   },
   "outputs": [
    {
     "name": "stderr",
     "output_type": "stream",
     "text": [
      "/usr/local/lib/python3.5/site-packages/matplotlib/__init__.py:872: UserWarning: axes.color_cycle is deprecated and replaced with axes.prop_cycle; please use the latter.\n",
      "  warnings.warn(self.msg_depr % (key, alt_key))\n"
     ]
    }
   ],
   "source": [
    "%load_ext autoreload\n",
    "%autoreload 2\n",
    "import numpy as np\n",
    "np.set_printoptions(precision=2, suppress=True)\n",
    "# define plots to be inserted interactively\n",
    "import matplotlib.pyplot as plt\n",
    "%matplotlib inline"
   ]
  },
  {
   "cell_type": "markdown",
   "metadata": {},
   "source": [
    "### Using 42 frames recorded with 2015-11-05 notebook\n"
   ]
  },
  {
   "cell_type": "code",
   "execution_count": 2,
   "metadata": {
    "collapsed": false
   },
   "outputs": [
    {
     "ename": "ImportError",
     "evalue": "dlopen(/usr/local/opt/opencv3/lib/python3.5/site-packages/cv2.cpython-35m-darwin.so, 2): Library not loaded: /usr/local/opt/webp/lib/libwebp.5.dylib\n  Referenced from: /usr/local/Cellar/opencv3/3.1.0_1/lib/libopencv_imgcodecs.3.1.dylib\n  Reason: image not found",
     "output_type": "error",
     "traceback": [
      "\u001b[0;31m---------------------------------------------------------------------------\u001b[0m",
      "\u001b[0;31mImportError\u001b[0m                               Traceback (most recent call last)",
      "\u001b[0;32m<ipython-input-2-d0dabfa0c090>\u001b[0m in \u001b[0;36m<module>\u001b[0;34m()\u001b[0m\n\u001b[0;32m----> 1\u001b[0;31m \u001b[0;32mimport\u001b[0m \u001b[0mcv2\u001b[0m\u001b[0;34m\u001b[0m\u001b[0m\n\u001b[0m\u001b[1;32m      2\u001b[0m \u001b[0;32mimport\u001b[0m \u001b[0mos\u001b[0m\u001b[0;34m\u001b[0m\u001b[0m\n\u001b[1;32m      3\u001b[0m \u001b[0;34m\u001b[0m\u001b[0m\n\u001b[1;32m      4\u001b[0m \u001b[0mN_frame\u001b[0m \u001b[0;34m=\u001b[0m \u001b[0;36m42\u001b[0m\u001b[0;34m\u001b[0m\u001b[0m\n\u001b[1;32m      5\u001b[0m \u001b[0;34m\u001b[0m\u001b[0m\n",
      "\u001b[0;31mImportError\u001b[0m: dlopen(/usr/local/opt/opencv3/lib/python3.5/site-packages/cv2.cpython-35m-darwin.so, 2): Library not loaded: /usr/local/opt/webp/lib/libwebp.5.dylib\n  Referenced from: /usr/local/Cellar/opencv3/3.1.0_1/lib/libopencv_imgcodecs.3.1.dylib\n  Reason: image not found"
     ]
    }
   ],
   "source": [
    "import cv2\n",
    "import os\n",
    "\n",
    "N_frame = 42\n",
    "\n",
    "folder = '/tmp/debug'\n",
    "H, W, three = cv2.imread(os.path.join(folder, 'frame_1.png')).shape\n",
    "\n",
    "movie = np.zeros((H, W, 3, N_frame), dtype=np.uint8)\n",
    "\n",
    "for i in range(N_frame):\n",
    "    fname = 'frame_{i}.png'.format(i=i)\n",
    "    movie[:, :, :, i] = cv2.cvtColor(cv2.imread(os.path.join(folder, fname)), cv2.COLOR_BGR2RGB)\n"
   ]
  },
  {
   "cell_type": "code",
   "execution_count": null,
   "metadata": {
    "collapsed": false
   },
   "outputs": [],
   "source": [
    "print(movie.shape, movie.min(), movie.max())\n",
    "plt.imshow(movie[:, :, :, 0])"
   ]
  },
  {
   "cell_type": "markdown",
   "metadata": {},
   "source": [
    "## averaging the background from this first pass\n",
    "\n",
    "We take the borders of the face to retrieve the fine motion of the face."
   ]
  },
  {
   "cell_type": "code",
   "execution_count": null,
   "metadata": {
    "collapsed": false
   },
   "outputs": [],
   "source": [
    "from LeCheapEyeTracker import Client, Server\n",
    "et = Server()\n",
    "#img_ = movie[:, :, :, 0].copy()\n",
    "\n",
    "#import time\n",
    "#start = time.time()\n",
    "from LeCheapEyeTracker.constants import eye_image as eye_template\n",
    "\n",
    "v_border = (.2, .4)\n",
    "h_border = (.38, .45)\n",
    "# learn \n",
    "for i_t in range(N_frame):\n",
    "    img_ = movie[:, :, :, i_t].copy()\n",
    "    (x, y, w, h), minNeighbors = et.get_just_one(img_)\n",
    "\n",
    "    half_w, quarter_w = w//2, w//4\n",
    "    img_face = img_[(y+quarter_w):(y+quarter_w+half_w), x:x+half_w]\n",
    "    img_face = cv2.resize(img_face, (et.head_size//2, et.head_size//2))\n",
    "\n",
    "    if i_t==0: \n",
    "        face_template_v = cv2.Sobel(img_face, cv2.CV_32F,0,1,ksize=5)[int(et.head_size*.2):int(et.head_size*.4), :, :]\n",
    "    else:\n",
    "        face_template_v += cv2.Sobel(img_face, cv2.CV_32F,0,1,ksize=5)[int(et.head_size*.2):int(et.head_size*.4), :, :]\n",
    "            \n",
    "    if i_t==0: \n",
    "        face_template_h = cv2.Sobel(img_face, cv2.CV_32F,1,0,ksize=5)[:, int(et.head_size*h_border[0]):int(et.head_size*h_border[1]), :]\n",
    "    else:\n",
    "        face_template_h += cv2.Sobel(img_face, cv2.CV_32F,1,0,ksize=5)[:, int(et.head_size*h_border[0]):int(et.head_size*h_border[1]), :]\n",
    "\n",
    "\n",
    "    res = cv2.matchTemplate(img_face, eye_template, cv2.TM_CCOEFF)\n",
    "    min_val, max_val_, min_loc, max_loc = cv2.minMaxLoc(res)\n",
    "    #w, h = eye_template.shape[1], eye_template.shape[0]\n",
    "    #bottom_right = (max_loc[0] + w, max_loc[1] + h)\n",
    "\n",
    "    weight = 1. #(max_val[i_t-max_val.min())/(max_val.max()-max_val.min())\n",
    "    if i_t==0: \n",
    "        eye_template_ = weight * img_face[max_loc[1]:max_loc[1] + ht, max_loc[0]:max_loc[0] + wt].astype(np.float64)\n",
    "    else:\n",
    "        eye_template_ += weight * img_face[max_loc[1]:max_loc[1] + ht, max_loc[0]:max_loc[0] + wt].astype(np.float64)\n",
    "\n",
    "\n",
    "eye_template_ = (eye_template_-eye_template_.min())/(eye_template_.max()-eye_template_.min())*255\n",
    "eye_template_ = eye_template_.astype(np.uint8)\n",
    "\n",
    "#apply\n",
    "for i_t in range(N_frame):\n",
    "    img_ = movie[:, :, :, i_t].copy()\n",
    "    (x, y, w, h), minNeighbors = et.get_just_one(img_)\n",
    "\n",
    "    half_w, quarter_w = w//2, w//4\n",
    "    img_face = img_[(y+quarter_w):(y+quarter_w+half_w), x:x+half_w]\n",
    "    img_face = cv2.resize(img_face, (et.head_size//2, et.head_size//2))\n",
    "\n",
    "    res = cv2.matchTemplate(img_face, eye_template_, cv2.TM_CCOEFF)\n",
    "#    res = cv2.matchTemplate(cv2.Sobel(img_face, cv2.CV_32F,1,0,ksize=3), cv2.Sobel(eye_template_, cv2.CV_32F,1,0,ksize=3), cv2.TM_CCOEFF)\n",
    "    min_val, max_val, min_loc, max_loc = cv2.minMaxLoc(res)\n",
    "    bottom_right = (max_loc[0] + wt, max_loc[1] + ht)\n",
    "\n",
    "    # detect vertical shift\n",
    "    img_face_v = cv2.Sobel(img_face, cv2.CV_32F, 0, 1, ksize=5)\n",
    "    res = cv2.matchTemplate(img_face_v, face_template_v, cv2.TM_CCOEFF)\n",
    "    __min_val, __max_val, _min_loc, face_max_loc = cv2.minMaxLoc(res)\n",
    "    face_v_top_left = (0, face_max_loc[1] - 1)\n",
    "    face_v_bottom_right = (et.head_size, face_max_loc[1] + 1)\n",
    "\n",
    "    # detect horizontal shift\n",
    "    res = cv2.matchTemplate(cv2.Sobel(img_face, cv2.CV_32F,1,0,ksize=5), face_template_h, cv2.TM_CCOEFF)\n",
    "    __min_val, __max_val, _min_loc, face_max_loc = cv2.minMaxLoc(res)\n",
    "    face_h_top_left = (face_max_loc[0] - 1, 0)\n",
    "    face_h_bottom_right = (face_max_loc[0] + 1, et.head_size)\n",
    "\n",
    "    cv2.rectangle(img_face, max_loc, bottom_right, 255, 2)\n",
    "    cv2.rectangle(img_face, face_h_top_left, face_h_bottom_right, 127, 2)\n",
    "    cv2.rectangle(img_face, face_v_top_left, face_v_bottom_right, 127, 2)\n",
    "    fig, axs = plt.subplots(1, 1, figsize=(9, 9))\n",
    "    axs.imshow(img_face)\n",
    "    axs.set_title(max_loc[0] - face_max_loc[0])\n"
   ]
  },
  {
   "cell_type": "code",
   "execution_count": null,
   "metadata": {
    "collapsed": true
   },
   "outputs": [],
   "source": []
  }
 ],
 "metadata": {
  "kernelspec": {
   "display_name": "Python 3",
   "language": "python",
   "name": "python3"
  },
  "language_info": {
   "codemirror_mode": {
    "name": "ipython",
    "version": 3
   },
   "file_extension": ".py",
   "mimetype": "text/x-python",
   "name": "python",
   "nbconvert_exporter": "python",
   "pygments_lexer": "ipython3",
   "version": "3.5.1"
  }
 },
 "nbformat": 4,
 "nbformat_minor": 0
}
