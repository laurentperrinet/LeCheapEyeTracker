{
 "cells": [
  {
   "cell_type": "markdown",
   "metadata": {},
   "source": [
    "# Developing a way to make Client Server interaction possible, without using network for the moment."
   ]
  },
  {
   "cell_type": "code",
   "execution_count": null,
   "metadata": {
    "ExecuteTime": {
     "end_time": "2018-03-17T10:32:07.785784Z",
     "start_time": "2018-03-17T10:32:07.281076Z"
    }
   },
   "outputs": [],
   "source": [
    "%matplotlib inline\n",
    "%load_ext autoreload\n",
    "%autoreload 2"
   ]
  },
  {
   "cell_type": "code",
   "execution_count": null,
   "metadata": {
    "ExecuteTime": {
     "end_time": "2018-03-17T10:32:08.127192Z",
     "start_time": "2018-03-17T10:32:07.788500Z"
    }
   },
   "outputs": [],
   "source": [
    "from LeCheapEyeTracker.EyeTrackerServer import Server\n",
    "from LeCheapEyeTracker.EyeTrackerClient import Client"
   ]
  },
  {
   "cell_type": "markdown",
   "metadata": {},
   "source": [
    "### A 'stop' function allow us to close the camera when we will finish to use it"
   ]
  },
  {
   "cell_type": "code",
   "execution_count": null,
   "metadata": {
    "ExecuteTime": {
     "end_time": "2018-03-17T10:32:12.994170Z",
     "start_time": "2018-03-17T10:32:12.955124Z"
    }
   },
   "outputs": [],
   "source": [
    "class TestServer(Server):\n",
    "    def stop(self):\n",
    "        self.close()\n",
    "        print (\"Camera closed\")"
   ]
  },
  {
   "cell_type": "code",
   "execution_count": null,
   "metadata": {
    "ExecuteTime": {
     "end_time": "2018-03-17T10:32:14.296221Z",
     "start_time": "2018-03-17T10:32:14.009819Z"
    }
   },
   "outputs": [],
   "source": [
    "server = TestServer()\n",
    "print (server.clock())\n",
    "server.stop()"
   ]
  },
  {
   "cell_type": "markdown",
   "metadata": {},
   "source": [
    "### A 'alive' function allow the client to test whether the server is on"
   ]
  },
  {
   "cell_type": "code",
   "execution_count": null,
   "metadata": {},
   "outputs": [],
   "source": [
    "class TestClient(Client):\n",
    "    def alive(self):\n",
    "        try :\n",
    "            \n",
    "            "
   ]
  }
 ],
 "metadata": {
  "kernelspec": {
   "display_name": "Python 3",
   "language": "python",
   "name": "python3"
  },
  "language_info": {
   "codemirror_mode": {
    "name": "ipython",
    "version": 3
   },
   "file_extension": ".py",
   "mimetype": "text/x-python",
   "name": "python",
   "nbconvert_exporter": "python",
   "pygments_lexer": "ipython3",
   "version": "3.6.4"
  },
  "toc": {
   "nav_menu": {},
   "number_sections": true,
   "sideBar": true,
   "skip_h1_title": false,
   "toc_cell": false,
   "toc_position": {},
   "toc_section_display": "block",
   "toc_window_display": false
  }
 },
 "nbformat": 4,
 "nbformat_minor": 1
}
