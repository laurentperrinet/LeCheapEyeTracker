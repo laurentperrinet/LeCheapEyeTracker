{
 "cells": [
  {
   "cell_type": "markdown",
   "metadata": {},
   "source": [
    "## Simple tests for grabbing frames"
   ]
  },
  {
   "cell_type": "markdown",
   "metadata": {},
   "source": [
    "Simple CV has a nice wrapper around webcams."
   ]
  },
  {
   "cell_type": "code",
   "execution_count": 1,
   "metadata": {
    "collapsed": true
   },
   "outputs": [],
   "source": [
    "%load_ext autoreload\n",
    "%autoreload 2"
   ]
  },
  {
   "cell_type": "code",
   "execution_count": 2,
   "metadata": {
    "collapsed": true
   },
   "outputs": [],
   "source": [
    "import numpy as np\n",
    "np.set_printoptions(precision=2, suppress=True)\n",
    "# define plots to be inserted interactively\n",
    "import matplotlib.pyplot as plt\n",
    "%matplotlib inline\n",
    "import time"
   ]
  },
  {
   "cell_type": "code",
   "execution_count": 3,
   "metadata": {
    "collapsed": false
   },
   "outputs": [
    {
     "name": "stdout",
     "output_type": "stream",
     "text": [
      "Time to start and stop the camera =  1.789330005645752 (s)\n"
     ]
    }
   ],
   "source": [
    "class Source:\n",
    "    def __init__(self, w=640, h=480):\n",
    "        self.h, self.w = h, w\n",
    "        import cv2\n",
    "        self.cap = cv2.VideoCapture(0)\n",
    "        self.cap.set(cv2.CAP_PROP_FRAME_WIDTH, self.w)\n",
    "        self.cap.set(cv2.CAP_PROP_FRAME_HEIGHT, self.h)\n",
    "\n",
    "        \n",
    "    def grab(self):\n",
    "        # grab a frame\n",
    "        returned, cam_data = self.cap.read()\n",
    "        data = cam_data.reshape((self.h, self.w, 3))\n",
    "        return data\n",
    "    \n",
    "    def close(self):\n",
    "        self.cap.release()\n",
    "\n",
    "start = time.time()\n",
    "cam = Source()\n",
    "cam.close()\n",
    "print('Time to start and stop the camera = ',  time.time() - start , '(s)')"
   ]
  },
  {
   "cell_type": "code",
   "execution_count": 4,
   "metadata": {
    "collapsed": false
   },
   "outputs": [
    {
     "name": "stdout",
     "output_type": "stream",
     "text": [
      "Time to start, grab 2 frames and stop =  2.3922650814056396 (s)\n",
      "(480, 640, 3) 0 142\n"
     ]
    },
    {
     "data": {
      "text/plain": [
       "<matplotlib.image.AxesImage at 0x10f5fd160>"
      ]
     },
     "execution_count": 4,
     "metadata": {},
     "output_type": "execute_result"
    },
    {
     "data": {
      "image/png": "[encoded data removed]",
      "text/plain": [
       "<matplotlib.figure.Figure at 0x10b7d5278>"
      ]
     },
     "metadata": {},
     "output_type": "display_data"
    }
   ],
   "source": [
    "start = time.time()\n",
    "cam = Source()\n",
    "img = cam.grab()\n",
    "img = cam.grab()\n",
    "cam.close()\n",
    "print('Time to start, grab 2 frames and stop = ',  time.time() - start , '(s)')\n",
    "print(img.shape, img.min(), img.max())\n",
    "plt.imshow(img)"
   ]
  },
  {
   "cell_type": "markdown",
   "metadata": {},
   "source": [
    "## how fast do we grab frames?"
   ]
  },
  {
   "cell_type": "code",
   "execution_count": 5,
   "metadata": {
    "collapsed": false
   },
   "outputs": [],
   "source": [
    "N = 100\n",
    "ctime = np.zeros(N)\n",
    "start = time.time()\n",
    "cam = Source()\n",
    "for i in range(N):\n",
    "    img = cam.grab()\n",
    "    ctime[i] = time.time() - start\n",
    "cam.close()"
   ]
  },
  {
   "cell_type": "code",
   "execution_count": 6,
   "metadata": {
    "collapsed": false
   },
   "outputs": [
    {
     "name": "stdout",
     "output_type": "stream",
     "text": [
      "FPS :  12.1685856524\n"
     ]
    },
    {
     "data": {
      "image/png": "[encoded data removed]",
      "text/plain": [
       "<matplotlib.figure.Figure at 0x10f5fd9e8>"
      ]
     },
     "metadata": {},
     "output_type": "display_data"
    }
   ],
   "source": [
    "plt.plot(np.diff(ctime)*1000, '+')\n",
    "_ = plt.axis('tight')\n",
    "\n",
    "print ('FPS : ',  N/(ctime[-1]-ctime[0]))"
   ]
  },
  {
   "cell_type": "markdown",
   "metadata": {
    "collapsed": false
   },
   "source": [
    "## closing the camera"
   ]
  },
  {
   "cell_type": "code",
   "execution_count": 7,
   "metadata": {
    "collapsed": false
   },
   "outputs": [
    {
     "data": {
      "text/plain": [
       "False"
      ]
     },
     "execution_count": 7,
     "metadata": {},
     "output_type": "execute_result"
    }
   ],
   "source": [
    "cam.cap.isOpened()"
   ]
  },
  {
   "cell_type": "code",
   "execution_count": 8,
   "metadata": {
    "collapsed": true
   },
   "outputs": [],
   "source": [
    "cam.cap.release()"
   ]
  },
  {
   "cell_type": "markdown",
   "metadata": {},
   "source": [
    "## threaded mode\n"
   ]
  },
  {
   "cell_type": "code",
   "execution_count": 19,
   "metadata": {
    "collapsed": false
   },
   "outputs": [],
   "source": [
    "from multiprocessing.pool import ThreadPool\n",
    "from collections import deque\n",
    "import cv2\n",
    "\n",
    "class StatValue:\n",
    "    def __init__(self, smooth_coef = 0.5):\n",
    "        self.value = None\n",
    "        self.smooth_coef = smooth_coef\n",
    "    def update(self, v):\n",
    "        if self.value is None:\n",
    "            self.value = v\n",
    "        else:\n",
    "            c = self.smooth_coef\n",
    "            self.value = c * self.value + (1.0-c) * v\n",
    "\n",
    "def clock():\n",
    "    return cv2.getTickCount() / cv2.getTickFrequency()\n",
    "\n",
    "def draw_str(dst, target, s):\n",
    "    x, y = target\n",
    "    cv2.putText(dst, s, (x+1, y+1), cv2.FONT_HERSHEY_PLAIN, 1.0, (0, 0, 0), thickness = 2, lineType=cv2.LINE_AA)\n",
    "    cv2.putText(dst, s, (x, y), cv2.FONT_HERSHEY_PLAIN, 1.0, (255, 255, 255), lineType=cv2.LINE_AA)\n",
    "\n",
    "\n",
    "class ThreadSource:\n",
    "    def __init__(self, w=640, h=480):\n",
    "        self.h, self.w = h, w\n",
    "        import cv2\n",
    "        self.cap = cv2.VideoCapture(0)\n",
    "        self.cap.set(cv2.CAP_PROP_FRAME_WIDTH, self.w)\n",
    "        self.cap.set(cv2.CAP_PROP_FRAME_HEIGHT, self.h)\n",
    "\n",
    "        self.threadn = cv2.getNumberOfCPUs()\n",
    "        self.pool = ThreadPool(processes = self.threadn)\n",
    "        self.pending = deque()\n",
    "\n",
    "        self.latency = StatValue()\n",
    "        self.frame_interval = StatValue()\n",
    "        self.last_frame_time = clock()        \n",
    "        self.display = False\n",
    "        self.ctime = []\n",
    "        self.N = 0\n",
    "\n",
    "    def process_frame(self, frame, t0):\n",
    "        # some intensive computation...\n",
    "        #frame = cv2.medianBlur(frame, 19)\n",
    "        #frame = cv2.medianBlur(frame, 19)\n",
    "        return frame, t0\n",
    "\n",
    "    def run(self, T=10):\n",
    "        start = clock()\n",
    "        while clock()-start <10.:\n",
    "            while len(self.pending) > 0 and self.pending[0].ready():\n",
    "                res, t0 = self.pending.popleft().get()\n",
    "                self.latency.update(clock() - t0)\n",
    "                if self.display:\n",
    "                    draw_str(res, (20, 40), \"latency        :  %.1f ms\" % (self.latency.value*1000))\n",
    "                    draw_str(res, (20, 60), \"frame interval :  %.1f ms\" % (self.frame_interval.value*1000))\n",
    "                    cv2.imshow('Webcam video', res)\n",
    "                self.ctime.append(time.time() - start)\n",
    "                self.N += 1\n",
    "            if len(self.pending) < self.threadn:\n",
    "                ret, frame = self.cap.read()\n",
    "                t = clock()\n",
    "                self.frame_interval.update(t - self.last_frame_time)\n",
    "                self.last_frame_time = t\n",
    "                task = self.pool.apply_async(self.process_frame, (frame.copy(), t))\n",
    "                self.pending.append(task)\n",
    "            ch = 0xFF & cv2.waitKey(1)\n",
    "            if ch == 27:\n",
    "                self.close()\n",
    "    \n",
    "    def close(self):\n",
    "        self.cap.release()\n",
    "        if self.display: cv2.destroyAllWindows()\n",
    "\n",
    "start = time.time()\n",
    "cam = ThreadSource()\n",
    "ctime = cam.run()\n",
    "cam.close()"
   ]
  },
  {
   "cell_type": "code",
   "execution_count": 20,
   "metadata": {
    "collapsed": false
   },
   "outputs": [
    {
     "name": "stdout",
     "output_type": "stream",
     "text": [
      "FPS :  12.153618250085021\n"
     ]
    },
    {
     "data": {
      "image/png": "[encoded data removed]",
      "text/plain": [
       "<matplotlib.figure.Figure at 0x112d6bdd8>"
      ]
     },
     "metadata": {},
     "output_type": "display_data"
    }
   ],
   "source": [
    "plt.plot(np.diff(np.array(cam.ctime))*1000, '+')\n",
    "_ = plt.axis('tight')\n",
    "print ('FPS : ',  cam.N/(cam.ctime[-1]-cam.ctime[0]))"
   ]
  }
 ],
 "metadata": {
  "kernelspec": {
   "display_name": "Python 3",
   "language": "python",
   "name": "python3"
  },
  "language_info": {
   "codemirror_mode": {
    "name": "ipython",
    "version": 3
   },
   "file_extension": ".py",
   "mimetype": "text/x-python",
   "name": "python",
   "nbconvert_exporter": "python",
   "pygments_lexer": "ipython3",
   "version": "3.5.0"
  }
 },
 "nbformat": 4,
 "nbformat_minor": 0
}
